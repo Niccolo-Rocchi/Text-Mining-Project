{
  "nbformat": 4,
  "nbformat_minor": 0,
  "metadata": {
    "colab": {
      "provenance": [],
      "collapsed_sections": [
        "lxS3PzBkhGjs"
      ]
    },
    "kernelspec": {
      "name": "python3",
      "display_name": "Python 3"
    },
    "language_info": {
      "name": "python"
    }
  },
  "cells": [
    {
      "cell_type": "markdown",
      "source": [
        "# LDA analysis"
      ],
      "metadata": {
        "id": "EPTxABib9-4W"
      }
    },
    {
      "cell_type": "code",
      "source": [
        "# TODO: POS, NER, BI/TRI-GRAMS ???"
      ],
      "metadata": {
        "id": "Bdd-kvjs-oah"
      },
      "execution_count": 1,
      "outputs": []
    },
    {
      "cell_type": "code",
      "execution_count": 2,
      "metadata": {
        "id": "9F2sCWpY2YzC"
      },
      "outputs": [],
      "source": [
        "# Import libraries\n",
        "import pandas as pd\n",
        "import csv, html, re\n",
        "import matplotlib.pyplot as plt\n",
        "import numpy as np\n",
        "import warnings\n",
        "warnings.filterwarnings('ignore')"
      ]
    },
    {
      "cell_type": "code",
      "source": [
        "# Mount Drive\n",
        "from google.colab import drive\n",
        "drive.mount('/content/drive/')"
      ],
      "metadata": {
        "colab": {
          "base_uri": "https://localhost:8080/"
        },
        "id": "YvAw24OI24Dr",
        "outputId": "fae7dee1-3940-4a20-8ddb-58be74886310"
      },
      "execution_count": 3,
      "outputs": [
        {
          "output_type": "stream",
          "name": "stdout",
          "text": [
            "Drive already mounted at /content/drive/; to attempt to forcibly remount, call drive.mount(\"/content/drive/\", force_remount=True).\n"
          ]
        }
      ]
    },
    {
      "cell_type": "code",
      "source": [
        "# Load data\n",
        "data = pd.read_csv(\"drive/MyDrive/data_train_balanced_7-6.csv\").drop(['usefulCount', 'Unnamed: 0'], axis = 1)\n",
        "data['review'] = data['review'].apply(html.unescape)"
      ],
      "metadata": {
        "id": "Ly6LroTD2geH"
      },
      "execution_count": 4,
      "outputs": []
    },
    {
      "cell_type": "code",
      "source": [
        "# View data head\n",
        "data.head()"
      ],
      "metadata": {
        "id": "ObJrw5n_4ctN",
        "colab": {
          "base_uri": "https://localhost:8080/",
          "height": 206
        },
        "outputId": "8f5505d7-c6bb-499b-e216-4b86fab77be8"
      },
      "execution_count": 5,
      "outputs": [
        {
          "output_type": "execute_result",
          "data": {
            "text/plain": [
              "           drugName condition  \\\n",
              "0          Daytrana      ADHD   \n",
              "1           Vyvanse      ADHD   \n",
              "2  Lisdexamfetamine      ADHD   \n",
              "3       Atomoxetine      ADHD   \n",
              "4          Concerta      ADHD   \n",
              "\n",
              "                                              review  rating  \\\n",
              "0  \"Hi all, My son who is 12 was diagnosed when h...    10.0   \n",
              "1  \"Today was my first day taking Vyvanse and wow...     9.0   \n",
              "2  \"I have been on Vyvanse for almost 2 years and...    10.0   \n",
              "3  \"28 years old, 165 pounds. Severe paranoia fro...     9.0   \n",
              "4  \"Some of these experiences are quite alarming!...    10.0   \n",
              "\n",
              "                date  positiveness  \n",
              "0   January 12, 2017             1  \n",
              "1    August 31, 2011             1  \n",
              "2     March 10, 2014             1  \n",
              "3  November 27, 2011             1  \n",
              "4   February 7, 2012             1  "
            ],
            "text/html": [
              "\n",
              "  <div id=\"df-4dfe4fe1-7381-488b-93d0-ff4f008f4ac9\">\n",
              "    <div class=\"colab-df-container\">\n",
              "      <div>\n",
              "<style scoped>\n",
              "    .dataframe tbody tr th:only-of-type {\n",
              "        vertical-align: middle;\n",
              "    }\n",
              "\n",
              "    .dataframe tbody tr th {\n",
              "        vertical-align: top;\n",
              "    }\n",
              "\n",
              "    .dataframe thead th {\n",
              "        text-align: right;\n",
              "    }\n",
              "</style>\n",
              "<table border=\"1\" class=\"dataframe\">\n",
              "  <thead>\n",
              "    <tr style=\"text-align: right;\">\n",
              "      <th></th>\n",
              "      <th>drugName</th>\n",
              "      <th>condition</th>\n",
              "      <th>review</th>\n",
              "      <th>rating</th>\n",
              "      <th>date</th>\n",
              "      <th>positiveness</th>\n",
              "    </tr>\n",
              "  </thead>\n",
              "  <tbody>\n",
              "    <tr>\n",
              "      <th>0</th>\n",
              "      <td>Daytrana</td>\n",
              "      <td>ADHD</td>\n",
              "      <td>\"Hi all, My son who is 12 was diagnosed when h...</td>\n",
              "      <td>10.0</td>\n",
              "      <td>January 12, 2017</td>\n",
              "      <td>1</td>\n",
              "    </tr>\n",
              "    <tr>\n",
              "      <th>1</th>\n",
              "      <td>Vyvanse</td>\n",
              "      <td>ADHD</td>\n",
              "      <td>\"Today was my first day taking Vyvanse and wow...</td>\n",
              "      <td>9.0</td>\n",
              "      <td>August 31, 2011</td>\n",
              "      <td>1</td>\n",
              "    </tr>\n",
              "    <tr>\n",
              "      <th>2</th>\n",
              "      <td>Lisdexamfetamine</td>\n",
              "      <td>ADHD</td>\n",
              "      <td>\"I have been on Vyvanse for almost 2 years and...</td>\n",
              "      <td>10.0</td>\n",
              "      <td>March 10, 2014</td>\n",
              "      <td>1</td>\n",
              "    </tr>\n",
              "    <tr>\n",
              "      <th>3</th>\n",
              "      <td>Atomoxetine</td>\n",
              "      <td>ADHD</td>\n",
              "      <td>\"28 years old, 165 pounds. Severe paranoia fro...</td>\n",
              "      <td>9.0</td>\n",
              "      <td>November 27, 2011</td>\n",
              "      <td>1</td>\n",
              "    </tr>\n",
              "    <tr>\n",
              "      <th>4</th>\n",
              "      <td>Concerta</td>\n",
              "      <td>ADHD</td>\n",
              "      <td>\"Some of these experiences are quite alarming!...</td>\n",
              "      <td>10.0</td>\n",
              "      <td>February 7, 2012</td>\n",
              "      <td>1</td>\n",
              "    </tr>\n",
              "  </tbody>\n",
              "</table>\n",
              "</div>\n",
              "      <button class=\"colab-df-convert\" onclick=\"convertToInteractive('df-4dfe4fe1-7381-488b-93d0-ff4f008f4ac9')\"\n",
              "              title=\"Convert this dataframe to an interactive table.\"\n",
              "              style=\"display:none;\">\n",
              "        \n",
              "  <svg xmlns=\"http://www.w3.org/2000/svg\" height=\"24px\"viewBox=\"0 0 24 24\"\n",
              "       width=\"24px\">\n",
              "    <path d=\"M0 0h24v24H0V0z\" fill=\"none\"/>\n",
              "    <path d=\"M18.56 5.44l.94 2.06.94-2.06 2.06-.94-2.06-.94-.94-2.06-.94 2.06-2.06.94zm-11 1L8.5 8.5l.94-2.06 2.06-.94-2.06-.94L8.5 2.5l-.94 2.06-2.06.94zm10 10l.94 2.06.94-2.06 2.06-.94-2.06-.94-.94-2.06-.94 2.06-2.06.94z\"/><path d=\"M17.41 7.96l-1.37-1.37c-.4-.4-.92-.59-1.43-.59-.52 0-1.04.2-1.43.59L10.3 9.45l-7.72 7.72c-.78.78-.78 2.05 0 2.83L4 21.41c.39.39.9.59 1.41.59.51 0 1.02-.2 1.41-.59l7.78-7.78 2.81-2.81c.8-.78.8-2.07 0-2.86zM5.41 20L4 18.59l7.72-7.72 1.47 1.35L5.41 20z\"/>\n",
              "  </svg>\n",
              "      </button>\n",
              "      \n",
              "  <style>\n",
              "    .colab-df-container {\n",
              "      display:flex;\n",
              "      flex-wrap:wrap;\n",
              "      gap: 12px;\n",
              "    }\n",
              "\n",
              "    .colab-df-convert {\n",
              "      background-color: #E8F0FE;\n",
              "      border: none;\n",
              "      border-radius: 50%;\n",
              "      cursor: pointer;\n",
              "      display: none;\n",
              "      fill: #1967D2;\n",
              "      height: 32px;\n",
              "      padding: 0 0 0 0;\n",
              "      width: 32px;\n",
              "    }\n",
              "\n",
              "    .colab-df-convert:hover {\n",
              "      background-color: #E2EBFA;\n",
              "      box-shadow: 0px 1px 2px rgba(60, 64, 67, 0.3), 0px 1px 3px 1px rgba(60, 64, 67, 0.15);\n",
              "      fill: #174EA6;\n",
              "    }\n",
              "\n",
              "    [theme=dark] .colab-df-convert {\n",
              "      background-color: #3B4455;\n",
              "      fill: #D2E3FC;\n",
              "    }\n",
              "\n",
              "    [theme=dark] .colab-df-convert:hover {\n",
              "      background-color: #434B5C;\n",
              "      box-shadow: 0px 1px 3px 1px rgba(0, 0, 0, 0.15);\n",
              "      filter: drop-shadow(0px 1px 2px rgba(0, 0, 0, 0.3));\n",
              "      fill: #FFFFFF;\n",
              "    }\n",
              "  </style>\n",
              "\n",
              "      <script>\n",
              "        const buttonEl =\n",
              "          document.querySelector('#df-4dfe4fe1-7381-488b-93d0-ff4f008f4ac9 button.colab-df-convert');\n",
              "        buttonEl.style.display =\n",
              "          google.colab.kernel.accessAllowed ? 'block' : 'none';\n",
              "\n",
              "        async function convertToInteractive(key) {\n",
              "          const element = document.querySelector('#df-4dfe4fe1-7381-488b-93d0-ff4f008f4ac9');\n",
              "          const dataTable =\n",
              "            await google.colab.kernel.invokeFunction('convertToInteractive',\n",
              "                                                     [key], {});\n",
              "          if (!dataTable) return;\n",
              "\n",
              "          const docLinkHtml = 'Like what you see? Visit the ' +\n",
              "            '<a target=\"_blank\" href=https://colab.research.google.com/notebooks/data_table.ipynb>data table notebook</a>'\n",
              "            + ' to learn more about interactive tables.';\n",
              "          element.innerHTML = '';\n",
              "          dataTable['output_type'] = 'display_data';\n",
              "          await google.colab.output.renderOutput(dataTable, element);\n",
              "          const docLink = document.createElement('div');\n",
              "          docLink.innerHTML = docLinkHtml;\n",
              "          element.appendChild(docLink);\n",
              "        }\n",
              "      </script>\n",
              "    </div>\n",
              "  </div>\n",
              "  "
            ]
          },
          "metadata": {},
          "execution_count": 5
        }
      ]
    },
    {
      "cell_type": "code",
      "source": [
        "data.shape"
      ],
      "metadata": {
        "colab": {
          "base_uri": "https://localhost:8080/"
        },
        "id": "_Bw-ivOGnRkW",
        "outputId": "ab03aced-c3fa-4f8f-cc00-d8aea103b0f0"
      },
      "execution_count": 6,
      "outputs": [
        {
          "output_type": "execute_result",
          "data": {
            "text/plain": [
              "(102752, 6)"
            ]
          },
          "metadata": {},
          "execution_count": 6
        }
      ]
    },
    {
      "cell_type": "markdown",
      "source": [
        "## Preprocessing"
      ],
      "metadata": {
        "id": "O800UqMy96XI"
      }
    },
    {
      "cell_type": "code",
      "source": [
        "# Import Text Mining libraries\n",
        "import nltk\n",
        "from nltk.stem import WordNetLemmatizer\n",
        "from nltk.stem.porter import PorterStemmer\n",
        "from nltk.tokenize import word_tokenize, wordpunct_tokenize\n",
        "from textblob import TextBlob\n",
        "import gensim\n",
        "from gensim.models.coherencemodel import CoherenceModel"
      ],
      "metadata": {
        "id": "OGYkSRih_EJt"
      },
      "execution_count": 7,
      "outputs": []
    },
    {
      "cell_type": "code",
      "source": [
        "# Define useful classes\n",
        "%%capture\n",
        "wordnet_lemmatizer = WordNetLemmatizer()\n",
        "porter_stemmer = PorterStemmer()\n",
        "nltk.download('stopwords')\n",
        "stop_words = nltk.corpus.stopwords.words('english')\n",
        "nltk.download('punkt')\n",
        "nltk.download('wordnet')\n",
        "nltk.download('omw-1.4')"
      ],
      "metadata": {
        "colab": {
          "base_uri": "https://localhost:8080/"
        },
        "id": "rnIGx7PA_vC9",
        "outputId": "1ce6f2c3-d8f2-49d3-b19d-58533a71ab18"
      },
      "execution_count": 8,
      "outputs": [
        {
          "output_type": "stream",
          "name": "stderr",
          "text": [
            "[nltk_data] Downloading package stopwords to /root/nltk_data...\n",
            "[nltk_data]   Package stopwords is already up-to-date!\n",
            "[nltk_data] Downloading package punkt to /root/nltk_data...\n",
            "[nltk_data]   Package punkt is already up-to-date!\n",
            "[nltk_data] Downloading package wordnet to /root/nltk_data...\n",
            "[nltk_data]   Package wordnet is already up-to-date!\n",
            "[nltk_data] Downloading package omw-1.4 to /root/nltk_data...\n",
            "[nltk_data]   Package omw-1.4 is already up-to-date!\n"
          ]
        }
      ]
    },
    {
      "cell_type": "code",
      "source": [
        "def correct (text):\n",
        "  textBlb = TextBlob(text)        \n",
        "  textCorrected = textBlb.correct()\n",
        "  return textCorrected"
      ],
      "metadata": {
        "id": "0OjtZLdsBbr6"
      },
      "execution_count": 9,
      "outputs": []
    },
    {
      "cell_type": "code",
      "source": [
        "def preprocessing(text):\n",
        "\n",
        "  # Tokenization\n",
        "  tokens = word_tokenize(text.lower())\n",
        "\n",
        "  # Keep only alphabet strings\n",
        "  tokens = [t for t in tokens if t.isalpha()]\n",
        "\n",
        "  # Correct text\n",
        "  # tokens = [correct(t) for t in tokens]\n",
        "\n",
        "  # Stop words removal\n",
        "  tokens = [t for t in tokens if t not in stop_words]\n",
        "\n",
        "  # Lemmatization\n",
        "  # tokens = [wordnet_lemmatizer.lemmatize(t) for t in tokens]\n",
        "\n",
        "  # Stemming (Porter stemmer)\n",
        "  tokens = [porter_stemmer.stem(t) for t in tokens]\n",
        "\n",
        "  # Short words removal\n",
        "  # tokens = [t for t in tokens if len(t) > 2]\n",
        "\n",
        "  return tokens"
      ],
      "metadata": {
        "id": "RrX8uEA0qfft"
      },
      "execution_count": 10,
      "outputs": []
    },
    {
      "cell_type": "code",
      "source": [
        "# Preprocess data\n",
        "reviews = data['review'].apply(preprocessing)"
      ],
      "metadata": {
        "id": "BFkeSvhBAh0_"
      },
      "execution_count": 11,
      "outputs": []
    },
    {
      "cell_type": "code",
      "source": [
        "# Create dictionary\n",
        "dictionary = gensim.corpora.Dictionary(reviews)\n",
        "\n",
        "# Filter words that occurs in less than 'less'% documents and words that occurs in more than 'more'% of total documents. Keep top 'keep_n' frequent words\n",
        "less = 10\n",
        "more = 65\n",
        "keep_n = 100000\n",
        "dictionary.filter_extremes(no_below = less/100, no_above = more/100, keep_n = keep_n)\n",
        "\n",
        "# Create BoW\n",
        "bow_corpus = [dictionary.doc2bow(doc) for doc in reviews]"
      ],
      "metadata": {
        "id": "5DTv5nKr-GSC"
      },
      "execution_count": 12,
      "outputs": []
    },
    {
      "cell_type": "markdown",
      "source": [
        "## LDA"
      ],
      "metadata": {
        "id": "pQEaAMrt99ir"
      }
    },
    {
      "cell_type": "code",
      "source": [
        "# Get best LDA according to highest coherence based on number of topics\n",
        "def get_best_LDA():\n",
        "  best_coherence = 0\n",
        "  best_lda_model = 0\n",
        "  for num_topics in [2,4,6,8]:\n",
        "    lda_model = gensim.models.LdaModel(corpus = bow_corpus,\n",
        "                                        id2word = dictionary,\n",
        "                                        num_topics = num_topics,\n",
        "                                        offset = 2,\n",
        "                                        random_state = 123,\n",
        "                                        update_every = 1,\n",
        "                                        passes = 10,\n",
        "                                        alpha = 'auto',\n",
        "                                        eta = \"auto\",\n",
        "                                        per_word_topics = True)\n",
        "    coherence_model_lda = CoherenceModel(model=lda_model, texts=reviews, dictionary=dictionary, coherence='c_v')\n",
        "    coherence_lda = coherence_model_lda.get_coherence()\n",
        "    if coherence_lda > best_coherence:\n",
        "      best_coherence = coherence_lda\n",
        "      best_lda_model = lda_model\n",
        "  return best_lda_model"
      ],
      "metadata": {
        "id": "9MuWNNAU-QcW"
      },
      "execution_count": 13,
      "outputs": []
    },
    {
      "cell_type": "code",
      "source": [
        "lda_model = get_best_LDA()"
      ],
      "metadata": {
        "colab": {
          "base_uri": "https://localhost:8080/"
        },
        "id": "kyNwy3L6-aD7",
        "outputId": "b289159c-4fb1-4ca9-e298-301d9d352740"
      },
      "execution_count": 14,
      "outputs": [
        {
          "output_type": "stream",
          "name": "stderr",
          "text": [
            "WARNING:gensim.models.ldamodel:updated prior not positive\n",
            "WARNING:gensim.models.ldamodel:updated prior not positive\n",
            "WARNING:gensim.models.ldamodel:updated prior not positive\n",
            "WARNING:gensim.models.ldamodel:updated prior not positive\n",
            "WARNING:gensim.models.ldamodel:updated prior not positive\n",
            "WARNING:gensim.models.ldamodel:updated prior not positive\n",
            "WARNING:gensim.models.ldamodel:updated prior not positive\n"
          ]
        }
      ]
    },
    {
      "cell_type": "code",
      "source": [
        "from pprint import pprint\n",
        "pprint(lda_model.print_topics())"
      ],
      "metadata": {
        "colab": {
          "base_uri": "https://localhost:8080/"
        },
        "id": "T_pjYqPj-Vji",
        "outputId": "d6894a70-7d1d-4be2-ce40-2820c608e3de"
      },
      "execution_count": 15,
      "outputs": [
        {
          "output_type": "stream",
          "name": "stdout",
          "text": [
            "[(0,\n",
            "  '0.028*\"depress\" + 0.023*\"effect\" + 0.023*\"anxieti\" + 0.020*\"feel\" + '\n",
            "  '0.019*\"side\" + 0.014*\"drug\" + 0.013*\"sleep\" + 0.010*\"medic\" + '\n",
            "  '0.010*\"thought\" + 0.010*\"life\"'),\n",
            " (1,\n",
            "  '0.098*\"pain\" + 0.025*\"infect\" + 0.023*\"effect\" + 0.022*\"side\" + '\n",
            "  '0.017*\"sever\" + 0.015*\"relief\" + 0.012*\"blood\" + 0.011*\"drug\" + 0.010*\"leg\" '\n",
            "  '+ 0.010*\"muscl\"'),\n",
            " (2,\n",
            "  '0.055*\"day\" + 0.028*\"take\" + 0.021*\"feel\" + 0.017*\"took\" + 0.014*\"like\" + '\n",
            "  '0.014*\"first\" + 0.013*\"night\" + 0.013*\"hour\" + 0.011*\"start\" + '\n",
            "  '0.011*\"time\"'),\n",
            " (3,\n",
            "  '0.065*\"read\" + 0.054*\"review\" + 0.022*\"yi\" + 0.021*\"psoriasi\" + '\n",
            "  '0.019*\"peopl\" + 0.015*\"experi\" + 0.012*\"everyon\" + 0.011*\"comment\" + '\n",
            "  '0.011*\"im\" + 0.010*\"say\"'),\n",
            " (4,\n",
            "  '0.030*\"period\" + 0.027*\"month\" + 0.022*\"cymbalta\" + 0.021*\"pill\" + '\n",
            "  '0.017*\"shot\" + 0.016*\"got\" + 0.016*\"week\" + 0.016*\"get\" + 0.016*\"cramp\" + '\n",
            "  '0.014*\"insert\"'),\n",
            " (5,\n",
            "  '0.077*\"weight\" + 0.043*\"lost\" + 0.041*\"gain\" + 0.033*\"pound\" + 0.033*\"side\" '\n",
            "  '+ 0.032*\"effect\" + 0.028*\"lb\" + 0.028*\"month\" + 0.024*\"eat\" + 0.024*\"lose\"'),\n",
            " (6,\n",
            "  '0.029*\"work\" + 0.026*\"year\" + 0.026*\"take\" + 0.018*\"tri\" + 0.017*\"help\" + '\n",
            "  '0.014*\"month\" + 0.013*\"get\" + 0.013*\"start\" + 0.013*\"time\" + '\n",
            "  '0.012*\"doctor\"'),\n",
            " (7,\n",
            "  '0.049*\"use\" + 0.040*\"burn\" + 0.040*\"itch\" + 0.021*\"uti\" + 0.020*\"cream\" + '\n",
            "  '0.020*\"skin\" + 0.018*\"clear\" + 0.018*\"product\" + 0.015*\"monistat\" + '\n",
            "  '0.015*\"face\"')]\n"
          ]
        }
      ]
    },
    {
      "cell_type": "code",
      "source": [
        "# Compute Perplexity (lower is better)\n",
        "print('Perplexity: ', lda_model.log_perplexity(bow_corpus))  \n",
        "\n",
        "# Compute Coherence Score (higher is better)\n",
        "coherence_model_lda = CoherenceModel(model=lda_model, texts=reviews, dictionary=dictionary, coherence='c_v')\n",
        "coherence_lda = coherence_model_lda.get_coherence()\n",
        "print('\\nCoherence Score: ', coherence_lda)"
      ],
      "metadata": {
        "colab": {
          "base_uri": "https://localhost:8080/"
        },
        "id": "wko7gZVDtmkr",
        "outputId": "713d292b-3aa5-4cd7-a65e-3e4c8ece0cf3"
      },
      "execution_count": 16,
      "outputs": [
        {
          "output_type": "stream",
          "name": "stdout",
          "text": [
            "Perplexity:  -6.969130695678051\n",
            "\n",
            "Coherence Score:  0.5203136326333659\n"
          ]
        }
      ]
    },
    {
      "cell_type": "code",
      "source": [
        "%%capture\n",
        "!pip install pyLDAvis\n",
        "import pyLDAvis.gensim_models as gensimvis\n",
        "import pickle \n",
        "import pyLDAvis\n",
        "import os"
      ],
      "metadata": {
        "id": "fVLT5Ks0vmXH"
      },
      "execution_count": 17,
      "outputs": []
    },
    {
      "cell_type": "code",
      "source": [
        "# Visualize the topics\n",
        "pyLDAvis.enable_notebook()\n",
        "vis = gensimvis.prepare(lda_model, bow_corpus, dictionary)\n",
        "vis"
      ],
      "metadata": {
        "colab": {
          "base_uri": "https://localhost:8080/",
          "height": 861
        },
        "id": "vZ1hHTYzvk1M",
        "outputId": "6db6c8a2-a779-4b04-bd68-43438aca6f13"
      },
      "execution_count": 18,
      "outputs": [
        {
          "output_type": "execute_result",
          "data": {
            "text/plain": [
              "PreparedData(topic_coordinates=              x         y  topics  cluster       Freq\n",
              "topic                                                \n",
              "6      0.003121  0.115595       1        1  29.983416\n",
              "2      0.074800  0.096354       2        1  24.924430\n",
              "4      0.012382  0.153721       3        1  15.129284\n",
              "0      0.099105 -0.014618       4        1   8.917351\n",
              "1      0.111635 -0.231517       5        1   8.341933\n",
              "5      0.137948  0.131483       6        1   6.275399\n",
              "7     -0.017649 -0.262772       7        1   4.320389\n",
              "3     -0.421342  0.011754       8        1   2.107797, topic_info=        Term          Freq         Total Category  logprob  loglift\n",
              "894     pain  42195.000000  42195.000000  Default  30.0000  30.0000\n",
              "56    weight  19547.000000  19547.000000  Default  29.0000  29.0000\n",
              "5        day  68504.000000  68504.000000  Default  28.0000  28.0000\n",
              "55       use  24932.000000  24932.000000  Default  27.0000  27.0000\n",
              "159     side  34554.000000  34554.000000  Default  26.0000  26.0000\n",
              "...      ...           ...           ...      ...      ...      ...\n",
              "365   differ    750.228695   7508.331563   Topic8  -4.7354   1.5561\n",
              "655     bodi    625.616898   7498.246556   Topic8  -4.9170   1.3758\n",
              "1506   pleas    492.423570   2417.538426   Topic8  -5.1564   2.2684\n",
              "403     mani    515.796450   5902.109869   Topic8  -5.1101   1.4222\n",
              "108     want    489.636998   9807.733613   Topic8  -5.1621   0.8623\n",
              "\n",
              "[519 rows x 6 columns], token_table=       Topic      Freq       Term\n",
              "term                             \n",
              "3680       1  0.999645    abilifi\n",
              "2808       2  0.252433       acid\n",
              "2808       8  0.746943       acid\n",
              "1969       6  1.000745      adhes\n",
              "21523      1  0.999732     adipex\n",
              "...      ...       ...        ...\n",
              "3970       5  0.999981      yeast\n",
              "10399      8  0.999749         yi\n",
              "1193       6  1.000147  zithromax\n",
              "2297       4  1.000075     zoloft\n",
              "352        4  0.999766      zombi\n",
              "\n",
              "[1149 rows x 3 columns], R=30, lambda_step=0.01, plot_opts={'xlab': 'PC1', 'ylab': 'PC2'}, topic_order=[7, 3, 5, 1, 2, 6, 8, 4])"
            ],
            "text/html": [
              "\n",
              "<link rel=\"stylesheet\" type=\"text/css\" href=\"https://cdn.jsdelivr.net/gh/bmabey/pyLDAvis@3.4.0/pyLDAvis/js/ldavis.v1.0.0.css\">\n",
              "\n",
              "\n",
              "<div id=\"ldavis_el784221397223852620646110563059\" style=\"background-color:white;\"></div>\n",
              "<script type=\"text/javascript\">\n",
              "\n",
              "var ldavis_el784221397223852620646110563059_data = {\"mdsDat\": {\"x\": [0.003120550842357428, 0.07479977484219748, 0.01238177550319578, 0.09910452891724461, 0.11163524381736797, 0.137948424109861, -0.01764874658592175, -0.4213415514463028], \"y\": [0.1155949701211412, 0.09635430646367718, 0.15372073243814804, -0.014617682212665453, -0.23151697059869147, 0.13148253446262273, -0.2627722829992582, 0.01175439232502594], \"topics\": [1, 2, 3, 4, 5, 6, 7, 8], \"cluster\": [1, 1, 1, 1, 1, 1, 1, 1], \"Freq\": [29.983416459675883, 24.9244304472522, 15.129283670246584, 8.917350957652866, 8.341933214779244, 6.2753993113466935, 4.320388848522983, 2.1077970905235577]}, \"tinfo\": {\"Term\": [\"pain\", \"weight\", \"day\", \"use\", \"side\", \"effect\", \"month\", \"period\", \"work\", \"lost\", \"gain\", \"feel\", \"pill\", \"cymbalta\", \"year\", \"depress\", \"burn\", \"pound\", \"itch\", \"eat\", \"read\", \"infect\", \"sleep\", \"lb\", \"took\", \"anxieti\", \"night\", \"take\", \"shot\", \"hour\", \"savella\", \"contrav\", \"arthriti\", \"phentermin\", \"chantix\", \"thyroid\", \"pay\", \"tract\", \"topamax\", \"goal\", \"calori\", \"asthma\", \"adipex\", \"neurontin\", \"price\", \"armour\", \"habit\", \"cigarett\", \"carb\", \"rl\", \"saxenda\", \"abilifi\", \"victoza\", \"fm\", \"seroquel\", \"fat\", \"program\", \"afford\", \"remicad\", \"janumet\", \"fibromyalgia\", \"wonder\", \"expens\", \"cost\", \"lialda\", \"tri\", \"find\", \"year\", \"best\", \"work\", \"miracl\", \"amaz\", \"old\", \"well\", \"els\", \"great\", \"smoke\", \"help\", \"insur\", \"need\", \"differ\", \"new\", \"see\", \"seem\", \"good\", \"without\", \"medicin\", \"doctor\", \"mani\", \"ago\", \"chang\", \"give\", \"problem\", \"medic\", \"take\", \"much\", \"thing\", \"use\", \"sinc\", \"realli\", \"time\", \"life\", \"get\", \"back\", \"month\", \"start\", \"one\", \"week\", \"would\", \"better\", \"go\", \"hour\", \"night\", \"morn\", \"stomach\", \"lyrica\", \"inject\", \"sick\", \"drink\", \"diarrhea\", \"tast\", \"vomit\", \"woke\", \"sinu\", \"hot\", \"asleep\", \"flash\", \"bathroom\", \"slept\", \"flu\", \"chill\", \"lay\", \"stiff\", \"bowel\", \"augmentin\", \"movement\", \"keppra\", \"levaquin\", \"throw\", \"empti\", \"ga\", \"bed\", \"dizzi\", \"constip\", \"ate\", \"took\", \"mouth\", \"nauseou\", \"sit\", \"minut\", \"sweat\", \"nausea\", \"day\", \"headach\", \"tablet\", \"water\", \"felt\", \"wake\", \"feel\", \"sleep\", \"could\", \"bad\", \"take\", \"dose\", \"away\", \"like\", \"first\", \"next\", \"go\", \"still\", \"time\", \"start\", \"side\", \"went\", \"effect\", \"week\", \"pill\", \"get\", \"one\", \"got\", \"stop\", \"cymbalta\", \"insert\", \"bleed\", \"pregnant\", \"heavi\", \"cycl\", \"ovul\", \"pco\", \"juli\", \"pad\", \"strep\", \"smoker\", \"octob\", \"plaqu\", \"leak\", \"advil\", \"lupron\", \"monthli\", \"februari\", \"irregular\", \"heartbeat\", \"valium\", \"tegretol\", \"menstrual\", \"endometriosi\", \"cardiologist\", \"toradol\", \"alev\", \"altogeth\", \"novemb\", \"period\", \"septemb\", \"shot\", \"pregnanc\", \"cramp\", \"discharg\", \"spot\", \"birth\", \"august\", \"cyst\", \"babi\", \"hormon\", \"remov\", \"control\", \"sex\", \"bc\", \"pill\", \"got\", \"light\", \"month\", \"pack\", \"get\", \"week\", \"first\", \"last\", \"sinc\", \"pain\", \"never\", \"day\", \"would\", \"stop\", \"start\", \"bad\", \"time\", \"like\", \"two\", \"depress\", \"anxieti\", \"attack\", \"seizur\", \"panic\", \"withdraw\", \"zoloft\", \"disord\", \"memori\", \"suicid\", \"mental\", \"fog\", \"anxiou\", \"wean\", \"xanax\", \"toe\", \"zombi\", \"agit\", \"lexapro\", \"paxil\", \"antidepress\", \"prozac\", \"social\", \"effexor\", \"vivid\", \"wellbutrin\", \"taper\", \"neuropathi\", \"tremor\", \"turkey\", \"hallucin\", \"ulcer\", \"brain\", \"insomnia\", \"ambien\", \"fibro\", \"dream\", \"thought\", \"drug\", \"sleep\", \"effect\", \"feel\", \"side\", \"life\", \"increas\", \"mg\", \"made\", \"medic\", \"sever\", \"caus\", \"felt\", \"like\", \"symptom\", \"also\", \"could\", \"stop\", \"week\", \"infect\", \"yeast\", \"pressur\", \"surgeri\", \"knee\", \"joint\", \"allerg\", \"nerv\", \"tramadol\", \"bladder\", \"spasm\", \"cipro\", \"urinari\", \"diseas\", \"bactrim\", \"humira\", \"kidney\", \"disc\", \"hip\", \"prednison\", \"iv\", \"macrobid\", \"lung\", \"liver\", \"ankl\", \"infus\", \"diflucan\", \"foot\", \"enbrel\", \"botox\", \"muscl\", \"allergi\", \"leg\", \"pain\", \"relief\", \"blood\", \"chronic\", \"feet\", \"bone\", \"er\", \"antibiot\", \"hospit\", \"sever\", \"swell\", \"neck\", \"reaction\", \"side\", \"effect\", \"caus\", \"treatment\", \"drug\", \"prescrib\", \"migrain\", \"medic\", \"doctor\", \"lower\", \"back\", \"symptom\", \"due\", \"heart\", \"weight\", \"gain\", \"pound\", \"lb\", \"belviq\", \"vagina\", \"weigh\", \"synthroid\", \"qsymia\", \"card\", \"yaz\", \"workout\", \"copay\", \"con\", \"pro\", \"cheaper\", \"discount\", \"loestrin\", \"lethargi\", \"fe\", \"watcher\", \"grew\", \"growth\", \"zithromax\", \"lo\", \"loopi\", \"ortho\", \"tirosint\", \"adhes\", \"larger\", \"lose\", \"crave\", \"lost\", \"loss\", \"appetit\", \"hungri\", \"exercis\", \"diet\", \"hair\", \"curb\", \"eat\", \"brand\", \"hunger\", \"size\", \"decreas\", \"side\", \"healthi\", \"effect\", \"month\", \"pill\", \"switch\", \"increas\", \"food\", \"start\", \"also\", \"control\", \"notic\", \"week\", \"first\", \"itch\", \"uti\", \"cream\", \"monistat\", \"face\", \"red\", \"itchi\", \"patch\", \"appli\", \"fire\", \"rash\", \"sinus\", \"metformin\", \"applic\", \"otezla\", \"rosacea\", \"probiot\", \"heal\", \"wash\", \"scalp\", \"gel\", \"lip\", \"dermatologist\", \"portion\", \"oil\", \"elbow\", \"puff\", \"cheek\", \"blister\", \"topic\", \"skin\", \"burn\", \"hive\", \"product\", \"clear\", \"spray\", \"area\", \"use\", \"eye\", \"treatment\", \"shower\", \"sore\", \"dri\", \"look\", \"wors\", \"complet\", \"buy\", \"never\", \"get\", \"read\", \"review\", \"yi\", \"psoriasi\", \"comment\", \"im\", \"write\", \"suboxon\", \"oral\", \"stori\", \"heat\", \"share\", \"pneumonia\", \"react\", \"onlin\", \"reflux\", \"dont\", \"bronchiti\", \"intoler\", \"requip\", \"ive\", \"soma\", \"lifesav\", \"laid\", \"calcium\", \"websit\", \"internet\", \"horror\", \"gi\", \"bunch\", \"u\", \"didnt\", \"acid\", \"peopl\", \"everyon\", \"scare\", \"experi\", \"post\", \"let\", \"say\", \"know\", \"neg\", \"differ\", \"bodi\", \"pleas\", \"mani\", \"want\"], \"Freq\": [42195.0, 19547.0, 68504.0, 24932.0, 34554.0, 39815.0, 42096.0, 18231.0, 39403.0, 11441.0, 10540.0, 32021.0, 24457.0, 13773.0, 35324.0, 9987.0, 8150.0, 8346.0, 6932.0, 10023.0, 5536.0, 8551.0, 15623.0, 7132.0, 17448.0, 8158.0, 13585.0, 61582.0, 10993.0, 13217.0, 3540.4534628384577, 2114.3685845008977, 2126.467495105582, 1480.823416353621, 1331.1872634239526, 1360.7775365262355, 1459.8864831485698, 1194.768165188983, 984.5840356953303, 925.4819619496826, 924.1274098477242, 907.5900290373536, 849.0139118175304, 743.5216658340835, 924.3696909111471, 693.0938060842979, 681.1027331959266, 649.3628524926722, 642.5358193264412, 616.0602447784083, 608.5909969709313, 613.9927183788302, 595.2198985043071, 532.0820831372233, 575.8536527716074, 523.2846411997868, 515.9360386064266, 606.9935977282988, 481.0695363468232, 468.68985142564856, 7177.118547409379, 3750.964289665587, 1653.6111382135193, 2036.7494870385174, 551.9564185825132, 21598.326543560805, 4098.250701876495, 31711.14039514449, 3612.997960784354, 35108.133749380875, 2129.064374494491, 2375.0136185038627, 5041.354365610817, 11238.672442374685, 3223.242168895303, 9162.188436376862, 2856.861121892685, 21121.62383326759, 3157.0159421863123, 6975.4280532685225, 6380.151971597055, 3442.321990109267, 6692.704732803202, 6312.541402970773, 9041.90154915987, 5134.559551063282, 13158.066048682513, 15122.346184530203, 4918.114253375417, 8535.100511431609, 6310.801281501234, 5507.884667703774, 6847.761783007646, 14609.18583496434, 31077.108966638618, 9355.858181948466, 6607.905794527912, 13835.03556883035, 9736.563813787343, 8542.859166233653, 15353.323817405439, 7908.326759360653, 16003.226919874522, 11120.526459320929, 16784.3003107881, 15396.393238969627, 10498.311327352181, 12899.728770112515, 9597.548826798655, 7985.704990952739, 8292.174119942514, 13217.291526600704, 13585.393996137202, 7027.1608263693815, 6426.587842819186, 5019.295250877366, 3800.9696533119186, 3732.5857033256575, 3361.2452744857083, 2978.0981289035344, 2659.5562945622773, 2637.663482817847, 2457.084548834392, 2337.9616683330473, 2629.783632866395, 2079.4705444336796, 1729.2274368276987, 1297.3716143875752, 1290.3177240448108, 1148.2386720350516, 1071.593596624933, 1029.2707251335703, 1029.4875380603346, 827.6497025092643, 768.4012469529252, 776.1762785008253, 731.6235160562248, 722.9297647299384, 762.9478665768611, 714.9415671357567, 668.3520807621976, 3942.667429849272, 4974.053228021527, 2454.3115079718377, 1010.2377735354455, 16858.5393436165, 4469.025689727831, 1933.88154642124, 1296.796583684361, 3720.778045452986, 2895.5934576880964, 7071.620299258408, 55277.40598502965, 8437.822665312033, 2174.207323353458, 3717.5758491065267, 10925.272788024018, 2720.666247322444, 21705.05998474348, 10773.333865243289, 10175.770616863108, 9930.080043458165, 27873.28728551284, 8641.784455820381, 5975.9077644575955, 14106.746383167321, 13667.915137135466, 4776.585237598576, 10754.351264124087, 8238.537351995617, 11318.364153193488, 11415.082246987147, 10962.074753029732, 6747.437093734266, 10486.243904598257, 10227.423620324997, 7593.534541165482, 8225.926204003683, 6616.830304234072, 6408.568018147428, 6018.227106709781, 13772.967153367492, 8338.25485326692, 6505.611956743284, 4761.20602122978, 4259.300142853023, 2888.6509200184087, 2460.0863705997654, 1891.091449789787, 1832.1858789148, 1477.2601483540232, 1305.0333480998784, 1236.8924510763188, 1286.592830401316, 1201.218656256537, 1157.3237573347935, 1175.951652252979, 1144.6691539731066, 1160.5202384636002, 1040.3781640905556, 1033.2317654593742, 951.2141714244975, 866.814373103559, 821.8899706089093, 807.8029740885257, 797.4241041918418, 767.2946470572643, 733.4861981715505, 748.6276914153236, 718.5767127732636, 1152.8919718911013, 18223.460612877392, 991.8526056562746, 10604.561187543792, 2441.0675828080216, 9706.475884418584, 2577.7355567346076, 3525.7334667369164, 4603.736605200981, 1465.3354163954489, 1443.9379947677123, 2354.9411862426978, 1939.7611115888544, 2748.1048660448364, 8051.26607562176, 3367.2834623011568, 1577.666060107453, 12800.202887870306, 10120.37045422957, 2800.288850437856, 16665.732088773446, 3036.9834115025374, 9824.951986789416, 10104.532508995331, 8164.922927307407, 5556.607465457512, 5261.825966309673, 7985.197896272278, 4707.207105657668, 8138.610138478628, 5065.690575485236, 3968.712637174278, 4698.648308388176, 3767.704010459613, 4133.207270758915, 3659.539367888162, 3349.397221271312, 9986.822046275589, 8157.767751434497, 3380.169498116211, 3059.717642165683, 2699.643706636645, 2342.4293099212728, 1952.6255987061807, 1744.4840026308398, 1642.9029478811233, 1484.3304512093046, 1369.435158145161, 1259.2959422953866, 1194.4375277689287, 1163.1608064020172, 972.5171130225926, 937.9389164636889, 948.9978482165694, 934.9959568974666, 942.9009781195371, 896.9034822581118, 889.4627046791785, 886.7455956468704, 827.6837870152564, 823.0033861445282, 755.5859495416665, 725.9171189866428, 714.501355175148, 660.8061272976768, 668.4930423947484, 660.0151032696515, 998.3280494407219, 688.3441089931264, 2228.3506311059186, 2777.9666178461607, 918.806270059754, 1271.8168837661283, 1510.6270967518037, 3740.7549013470984, 4907.362895678419, 4849.813182887543, 8413.987143126993, 7206.917979346846, 6914.192790880724, 3717.6102302331806, 2729.9565016286588, 2726.5147852926107, 2766.706752353268, 3751.6381528672996, 2912.509897220547, 2167.4595425814646, 2486.777684409459, 2976.539996706484, 2029.9912336310629, 2019.0032642337878, 1884.9707791343894, 1834.3157789155512, 1700.640210053125, 8551.092003689402, 3014.821041110348, 2848.329821463605, 2094.3465072701606, 1883.9978930854804, 1762.2335869058456, 1262.6484229118498, 1225.151462482591, 1208.0929216792513, 1220.1198756778203, 1087.6059625880127, 1029.55340773057, 1004.9608736262473, 987.9936000244028, 927.0478985035185, 906.2859094807542, 916.6035918005902, 805.2051608030127, 752.0460713772409, 729.1074501573022, 673.6510888857878, 637.5612497882936, 623.4253068419755, 593.9985246791696, 582.138631394985, 566.7751091526302, 546.3365714069505, 568.2518030232395, 545.01705556411, 553.5407349637901, 3232.0984029439905, 563.6535582459302, 3339.9486738337464, 33144.26111984353, 4937.704589274238, 4221.678036363831, 1870.4330198071884, 1721.7331559569807, 899.1492710535799, 1669.9192143620446, 2421.5248565262036, 1600.3430531781262, 5917.244358050579, 1496.3001758969, 1194.6564839537102, 1621.0080265043916, 7571.868480884764, 7939.648056618501, 3085.8588949553114, 1909.2841839155765, 3569.6349102244153, 3007.2097187395907, 1982.3110170317761, 3059.9431045490705, 2743.7172919514774, 1526.5849799988694, 2521.2105320877354, 1976.2328891503282, 1743.3389925476663, 1614.838237688914, 19546.832426100013, 10540.386592638359, 8346.066360279086, 7131.931020114972, 2395.3253996858734, 1848.5637345565078, 3065.8989155517343, 749.4987368276045, 790.2807721979783, 569.8109925260401, 586.0818656324903, 483.7146235375974, 420.82240244368353, 389.7634319995021, 368.2246633497346, 344.96412015619774, 325.4841945915398, 294.6496798069607, 253.62713507317025, 248.81807334126773, 217.17748194699632, 221.93998201396155, 219.68711718192344, 206.7637227048542, 214.16585746438636, 173.87547417816924, 179.29308087633729, 159.2786439850517, 163.66844339686037, 165.68450128794825, 6141.783116398421, 2626.388787473681, 10900.139313661744, 5957.844872627923, 4420.624655727386, 1912.722036037028, 3308.777355436763, 2801.8390648333943, 2299.8673518233377, 582.8708879146002, 6217.98359137994, 1128.8321189261123, 561.8600847085397, 1013.765212338949, 1354.435825686844, 8290.511777745342, 1049.4884353675277, 8122.351422125049, 7000.025259195634, 4055.3399823903824, 1606.5135710062798, 1933.1931741443875, 1490.8206292091197, 3754.398316985901, 2706.5577854290937, 2231.327633215473, 1916.1346624921275, 2962.8673107694726, 2093.1292943110207, 6931.78599281402, 3757.1759403202495, 3535.4430367368986, 2661.8449436480664, 2629.0414111838136, 2220.0718262937253, 1748.4387862452006, 2454.420619810489, 1312.9665990482047, 1225.5971484548274, 1699.709678909874, 951.9553081392214, 885.8079397548045, 777.0920980051828, 688.7276048606785, 680.1556709564297, 697.8781789696732, 673.2902117806117, 617.3486161249659, 588.0734104180558, 558.883320450313, 519.4202053082375, 515.8266652941012, 472.6746168873326, 441.57458193590975, 379.3196578552106, 369.0857851052194, 345.55354672501403, 338.6664721482575, 333.51731659073096, 3504.4669436787817, 7009.667995313965, 1041.4146009493725, 3102.735989509016, 3176.234878103939, 658.4102921258811, 1031.5682556328106, 8567.6330104349, 1769.6912115830255, 1209.8289173890757, 678.3841461063067, 919.8256052113946, 1089.5193086840043, 1038.018862245711, 1206.1481000956783, 824.7749383675357, 711.4506115702773, 755.4058964326753, 730.575184212697, 5536.694536228617, 4634.103327737043, 1893.2615616125188, 1824.4141585348175, 962.675298816192, 930.7102625535567, 788.4132985277703, 714.1487455937845, 725.1836097403832, 746.4262485103891, 659.0172835702058, 661.6896056810062, 613.693700932421, 621.3758758792083, 479.2627227900856, 457.3051354840107, 444.4325201215485, 420.4539675809047, 376.57361318299616, 310.3088353442094, 289.2372533638224, 275.85429304417346, 270.9754040082649, 260.2363724018608, 242.211678551185, 254.7662361281339, 225.66073534532603, 216.2033661847182, 318.5444129302509, 190.66779294405742, 457.20067484128657, 297.57028775520916, 577.188347499895, 1588.4279761392136, 1054.2448217211172, 871.5771023312379, 1282.8240481432977, 602.2836937462185, 640.3887077182583, 890.5422205281446, 837.7624958771625, 574.8126538199004, 750.2286954946075, 625.6168983847456, 492.4235699374052, 515.796449722902, 489.6369977293624], \"Total\": [42195.0, 19547.0, 68504.0, 24932.0, 34554.0, 39815.0, 42096.0, 18231.0, 39403.0, 11441.0, 10540.0, 32021.0, 24457.0, 13773.0, 35324.0, 9987.0, 8150.0, 8346.0, 6932.0, 10023.0, 5536.0, 8551.0, 15623.0, 7132.0, 17448.0, 8158.0, 13585.0, 61582.0, 10993.0, 13217.0, 3540.7424163852347, 2114.5910078613597, 2126.692926320653, 1481.0408574647186, 1331.3999844547136, 1361.001570402501, 1460.1534485660306, 1194.9896512280093, 984.8060560463344, 925.7023403615314, 924.3488652398123, 907.8146921728247, 849.2272171748048, 743.7405086419166, 924.6629449761551, 693.3155620669572, 681.3261689238013, 649.5796345607258, 642.7566853015089, 616.2763731931988, 608.8102061710093, 614.2179564423351, 595.4404369443615, 532.2888381608258, 576.079628556564, 523.5076027286046, 516.1574383999871, 607.2598954399027, 481.2880633837396, 468.90442469383555, 7267.315866812046, 3775.5046239686967, 1664.754190357202, 2056.9808087662036, 552.2174633820557, 22711.542223498793, 4211.725425233529, 35324.580291789745, 3765.2533106991523, 39403.278818784325, 2195.901176240537, 2462.2272242304557, 5365.63359431356, 12357.232625362192, 3401.975915927949, 10384.73136601948, 3060.290913425003, 25431.974117090736, 3406.739127483823, 8027.056840707996, 7508.331563064598, 3870.7918774980562, 8178.730991455665, 7681.62577511675, 11503.66637963315, 6123.352130402029, 18233.27384493881, 21735.543578886278, 5902.10986933652, 11275.50816074914, 8105.668352151724, 6870.720987219953, 9028.446992480835, 23119.38531199357, 61582.51799952728, 14149.833800948543, 9086.919487809364, 24932.717690277153, 15428.30918903235, 13208.70912151967, 31413.56498834078, 11836.4714003122, 35063.62515047534, 20123.95740193037, 42096.26142390189, 36796.97317932383, 21039.940603389026, 38802.90652393385, 22064.064256280377, 14015.261805868005, 22063.964229719943, 13217.620331945047, 13585.742698214037, 7027.407685261434, 6426.838908188255, 5019.523736313267, 3801.205294650998, 3732.8321755050797, 3361.4822951852157, 2978.334540433936, 2659.792137572585, 2637.899314920642, 2457.3191088359677, 2338.191059513939, 2630.043473795372, 2079.705136373486, 1729.5183374398782, 1297.60320700305, 1290.5480747426307, 1148.4683297922932, 1071.8222349718772, 1029.500139758704, 1029.7343170429435, 827.8801735371565, 768.6210175568364, 776.4051941878312, 731.843856139068, 723.1510729248548, 763.1818365111392, 715.17121010974, 668.5798316615566, 3954.3680421341287, 5013.895116828446, 2458.9010961091967, 1010.6517947472379, 17448.551218179717, 4562.23116547386, 1980.8747574418755, 1312.079936941727, 3893.56641173368, 3028.1567367658295, 7762.946544041493, 68504.58232660299, 9865.593530744007, 2290.9140676977013, 4106.739532673637, 13664.674489793555, 2936.143451339338, 32021.141534468607, 15623.7673488604, 15638.73661540713, 15691.685479835725, 61582.51799952728, 13249.973052264604, 8141.148193678859, 26473.682443980357, 29401.880489928328, 6428.9138965188695, 22063.964229719943, 17600.34960460512, 31413.56498834078, 36796.97317932383, 34554.85509901085, 14125.712033108688, 39815.362218477465, 38802.90652393385, 24457.273414984258, 35063.62515047534, 21039.940603389026, 18702.567217828604, 17877.96089224851, 13773.14169332623, 8338.434522251546, 6505.794143046692, 4761.384608772655, 4259.478870369233, 2888.837632849574, 2460.2564203766074, 1891.260731879519, 1832.3577409256973, 1477.4314038833309, 1305.1967717917767, 1237.0575118786817, 1286.7653868645464, 1201.380708537722, 1157.488575857919, 1176.1208701520036, 1144.835114984605, 1160.6899434636266, 1040.5483874616948, 1033.4053821887017, 951.3799411628303, 866.9825183973627, 822.0544318538077, 807.9740468723393, 797.5944271146251, 767.4606792276666, 733.6483909451406, 748.793412537323, 718.7434183196738, 1153.171328012738, 18231.386586302266, 992.2549928013264, 10993.193897790554, 2497.429400940601, 10319.078002662898, 2686.3730419494163, 3738.335020376436, 4975.81556452406, 1501.6761821816315, 1492.2287707795306, 2578.7655847052342, 2111.327277025649, 3169.152635986335, 11789.164008882246, 4390.642498105481, 1704.6442545539842, 24457.273414984258, 18702.567217828604, 3605.8775159911006, 42096.26142390189, 4537.438294835426, 35063.62515047534, 38802.90652393385, 29401.880489928328, 14971.835602576246, 15428.30918903235, 42195.005462593195, 14530.650121489454, 68504.58232660299, 22064.064256280377, 17877.96089224851, 36796.97317932383, 15691.685479835725, 31413.56498834078, 26473.682443980357, 13882.039444440717, 9987.09246620814, 8158.007231716678, 3380.4021696095265, 3059.9449111504123, 2699.8746697590036, 2342.6578380629758, 1952.8533127528133, 1744.7134447813908, 1643.1279191674973, 1484.557942435623, 1369.661005863893, 1259.518459524001, 1194.6670779363387, 1163.3921035702342, 972.7432928995845, 938.1589790741228, 949.2217309259912, 935.2179970740772, 943.1285453469014, 897.1273256720756, 889.6907229872277, 886.9729346598039, 827.9073839940959, 823.2288580459866, 755.807105682803, 726.14617439843, 714.7274428866838, 661.0240794510813, 668.7144952512065, 660.2352662523264, 998.6877011663172, 689.5315455824368, 2367.6734495606024, 3457.0946642859612, 966.9738646696028, 1510.0043139304282, 1896.9961432680175, 8063.664150355194, 13862.568199758538, 15623.7673488604, 39815.362218477465, 32021.141534468607, 34554.85509901085, 11836.4714003122, 6883.485379617254, 8708.12401492511, 9972.706172081405, 23119.38531199357, 13344.030298796395, 8122.9003149842065, 13664.674489793555, 26473.682443980357, 10351.171742423905, 17375.275781099434, 15638.73661540713, 17877.96089224851, 38802.90652393385, 8551.336482838064, 3015.0572009821076, 2848.5733976359925, 2094.5860402434855, 1884.2341616108129, 1762.4705018545583, 1262.8836129777446, 1225.38602099213, 1208.3242612683507, 1220.3541594357123, 1087.839349174905, 1029.7833647759173, 1005.191272249293, 988.2280039117657, 927.2761426472039, 906.5142819571172, 916.836436980315, 805.4354537787233, 752.2790676671146, 729.3372742659092, 673.8819078730771, 637.7861820814702, 623.657366831121, 594.229786075093, 582.3714553260398, 567.0036002571477, 546.5572792556655, 568.4826522927873, 545.2400827718785, 553.7680574727171, 3241.523152560217, 563.8876790380143, 3455.459652503163, 42195.005462593195, 5581.1428107020865, 4809.372069825405, 2021.6455081983502, 1896.792844589583, 954.3544177709127, 2070.744133507496, 3363.2739983953015, 2085.608831793808, 13344.030298796395, 1986.2472510067676, 1470.876689168641, 2358.9015529788103, 34554.85509901085, 39815.362218477465, 8122.9003149842065, 3405.300939122876, 13862.568199758538, 10872.027492627867, 4934.452263365498, 23119.38531199357, 21735.543578886278, 2722.372994382234, 20123.95740193037, 10351.171742423905, 6219.532307324886, 3834.8078283041777, 19547.096422117447, 10540.630850481877, 8346.35301429211, 7132.235798150264, 2395.5841452111245, 1848.7789351735648, 3066.281058673891, 749.7107423198782, 790.5046704725335, 570.0257184910572, 586.303583078967, 483.9336194277739, 421.0358617263448, 389.98330284434184, 368.4440781315069, 345.17766164927997, 325.69641901141097, 294.8702312878823, 253.83870712611196, 249.03772273832945, 217.38402250910815, 222.154528574513, 219.90062095391357, 206.96965438234184, 214.38514454745584, 174.08385547736202, 179.51162416603748, 159.48182411266578, 163.87787391901887, 165.89807400881998, 6324.428399820366, 2701.2075144143682, 11441.120224986791, 6525.828229407563, 5336.532591093938, 2226.316004105915, 4043.736651796737, 3430.5698826179864, 2832.677183465253, 659.6151914305851, 10023.149788337143, 1441.7520990355017, 650.209891884082, 1422.8742122095725, 2312.514430949115, 34554.85509901085, 1723.743151864919, 39815.362218477465, 42096.26142390189, 24457.273414984258, 4485.7523517098, 6883.485379617254, 4055.807739569172, 36796.97317932383, 17375.275781099434, 11789.164008882246, 8447.283486363429, 38802.90652393385, 29401.880489928328, 6932.020427459966, 3757.4043581625933, 3535.6735655963116, 2662.063057632039, 2629.300688097368, 2220.304339564252, 1748.6684387073258, 2454.768789144919, 1313.1957859311658, 1225.821362091302, 1700.0216814436994, 952.1781143702948, 886.0318808175911, 777.3157098000875, 688.9425864071593, 680.3725811752817, 698.101591461941, 673.5170435882233, 617.5739944267506, 588.2962768482745, 559.108911325627, 519.6472004355167, 516.0529558728738, 472.8959115408212, 441.7981577634096, 379.5387981118453, 369.3038729809618, 345.7784832589125, 338.88879829404596, 333.7391218590251, 3727.0706620368337, 8150.836026767117, 1184.956710960293, 4280.739873800554, 4639.914171510899, 728.9730225827772, 1343.1926839855653, 24932.717690277153, 3012.9238782917296, 3405.300939122876, 880.410711365527, 2350.303514709733, 4541.813940084402, 3989.8449352839316, 8240.848582289376, 6135.621357709932, 1566.108196582495, 14530.650121489454, 35063.62515047534, 5536.93235878248, 4634.339794773349, 1893.4745882547386, 1824.633623402571, 962.902800768236, 930.9378195542532, 788.6433790120496, 714.3665364266387, 725.407913537346, 746.6589134526366, 659.2396133250232, 661.9152084203172, 613.9123304747276, 621.6058292082506, 479.48617542957055, 457.52613982867024, 444.6565138788113, 420.67558705693176, 376.7933687792093, 310.5175957993713, 289.4599380757891, 276.06952072921916, 271.19459605938283, 260.4548944124377, 242.42912926389505, 254.99538244685098, 225.88491555697468, 216.4245448601503, 318.89569353537763, 190.88610539278557, 464.3603935695553, 319.95652303074814, 772.4820954203008, 5203.642115249483, 3060.3261476841362, 2368.2469545280883, 8262.335256782859, 1667.2219228485815, 2284.437633736798, 7760.206853626371, 8392.037816224894, 2407.3239826302834, 7508.331563064598, 7498.246555809286, 2417.5384258348377, 5902.10986933652, 9807.733612983206], \"Category\": [\"Default\", \"Default\", \"Default\", \"Default\", \"Default\", \"Default\", \"Default\", \"Default\", \"Default\", \"Default\", \"Default\", \"Default\", \"Default\", \"Default\", \"Default\", \"Default\", \"Default\", \"Default\", \"Default\", \"Default\", \"Default\", \"Default\", \"Default\", \"Default\", \"Default\", \"Default\", \"Default\", \"Default\", \"Default\", \"Default\", \"Topic1\", \"Topic1\", \"Topic1\", \"Topic1\", \"Topic1\", \"Topic1\", \"Topic1\", \"Topic1\", \"Topic1\", \"Topic1\", \"Topic1\", \"Topic1\", \"Topic1\", \"Topic1\", \"Topic1\", \"Topic1\", \"Topic1\", \"Topic1\", \"Topic1\", \"Topic1\", \"Topic1\", \"Topic1\", \"Topic1\", \"Topic1\", \"Topic1\", \"Topic1\", \"Topic1\", \"Topic1\", \"Topic1\", \"Topic1\", \"Topic1\", \"Topic1\", \"Topic1\", \"Topic1\", \"Topic1\", \"Topic1\", \"Topic1\", \"Topic1\", \"Topic1\", \"Topic1\", \"Topic1\", \"Topic1\", \"Topic1\", \"Topic1\", \"Topic1\", \"Topic1\", \"Topic1\", \"Topic1\", \"Topic1\", \"Topic1\", \"Topic1\", \"Topic1\", \"Topic1\", \"Topic1\", \"Topic1\", \"Topic1\", \"Topic1\", \"Topic1\", \"Topic1\", \"Topic1\", \"Topic1\", \"Topic1\", \"Topic1\", \"Topic1\", \"Topic1\", \"Topic1\", \"Topic1\", \"Topic1\", \"Topic1\", \"Topic1\", \"Topic1\", \"Topic1\", \"Topic1\", \"Topic1\", \"Topic1\", \"Topic1\", \"Topic1\", \"Topic1\", \"Topic1\", \"Topic1\", \"Topic1\", \"Topic2\", \"Topic2\", \"Topic2\", \"Topic2\", \"Topic2\", \"Topic2\", \"Topic2\", \"Topic2\", \"Topic2\", \"Topic2\", \"Topic2\", \"Topic2\", \"Topic2\", \"Topic2\", \"Topic2\", \"Topic2\", \"Topic2\", \"Topic2\", \"Topic2\", \"Topic2\", \"Topic2\", \"Topic2\", \"Topic2\", \"Topic2\", \"Topic2\", \"Topic2\", \"Topic2\", \"Topic2\", \"Topic2\", \"Topic2\", \"Topic2\", \"Topic2\", \"Topic2\", \"Topic2\", \"Topic2\", \"Topic2\", \"Topic2\", \"Topic2\", \"Topic2\", \"Topic2\", \"Topic2\", \"Topic2\", \"Topic2\", \"Topic2\", \"Topic2\", \"Topic2\", \"Topic2\", \"Topic2\", \"Topic2\", \"Topic2\", \"Topic2\", \"Topic2\", \"Topic2\", \"Topic2\", \"Topic2\", \"Topic2\", \"Topic2\", \"Topic2\", \"Topic2\", \"Topic2\", \"Topic2\", \"Topic2\", \"Topic2\", \"Topic2\", \"Topic2\", \"Topic2\", \"Topic2\", \"Topic2\", \"Topic2\", \"Topic2\", \"Topic3\", \"Topic3\", \"Topic3\", \"Topic3\", \"Topic3\", \"Topic3\", \"Topic3\", \"Topic3\", \"Topic3\", \"Topic3\", \"Topic3\", \"Topic3\", \"Topic3\", \"Topic3\", \"Topic3\", \"Topic3\", \"Topic3\", \"Topic3\", \"Topic3\", \"Topic3\", \"Topic3\", \"Topic3\", \"Topic3\", \"Topic3\", \"Topic3\", \"Topic3\", \"Topic3\", \"Topic3\", \"Topic3\", \"Topic3\", \"Topic3\", \"Topic3\", \"Topic3\", \"Topic3\", \"Topic3\", \"Topic3\", \"Topic3\", \"Topic3\", \"Topic3\", \"Topic3\", \"Topic3\", \"Topic3\", \"Topic3\", \"Topic3\", \"Topic3\", \"Topic3\", \"Topic3\", \"Topic3\", \"Topic3\", \"Topic3\", \"Topic3\", \"Topic3\", \"Topic3\", \"Topic3\", \"Topic3\", \"Topic3\", \"Topic3\", \"Topic3\", \"Topic3\", \"Topic3\", \"Topic3\", \"Topic3\", \"Topic3\", \"Topic3\", \"Topic3\", \"Topic3\", \"Topic4\", \"Topic4\", \"Topic4\", \"Topic4\", \"Topic4\", \"Topic4\", \"Topic4\", \"Topic4\", \"Topic4\", \"Topic4\", \"Topic4\", \"Topic4\", \"Topic4\", \"Topic4\", \"Topic4\", \"Topic4\", \"Topic4\", \"Topic4\", \"Topic4\", \"Topic4\", \"Topic4\", \"Topic4\", \"Topic4\", \"Topic4\", \"Topic4\", \"Topic4\", \"Topic4\", \"Topic4\", \"Topic4\", \"Topic4\", \"Topic4\", \"Topic4\", \"Topic4\", \"Topic4\", \"Topic4\", \"Topic4\", \"Topic4\", \"Topic4\", \"Topic4\", \"Topic4\", \"Topic4\", \"Topic4\", \"Topic4\", \"Topic4\", \"Topic4\", \"Topic4\", \"Topic4\", \"Topic4\", \"Topic4\", \"Topic4\", \"Topic4\", \"Topic4\", \"Topic4\", \"Topic4\", \"Topic4\", \"Topic4\", \"Topic4\", \"Topic5\", \"Topic5\", \"Topic5\", \"Topic5\", \"Topic5\", \"Topic5\", \"Topic5\", \"Topic5\", \"Topic5\", \"Topic5\", \"Topic5\", \"Topic5\", \"Topic5\", \"Topic5\", \"Topic5\", \"Topic5\", \"Topic5\", \"Topic5\", \"Topic5\", \"Topic5\", \"Topic5\", \"Topic5\", \"Topic5\", \"Topic5\", \"Topic5\", \"Topic5\", \"Topic5\", \"Topic5\", \"Topic5\", \"Topic5\", \"Topic5\", \"Topic5\", \"Topic5\", \"Topic5\", \"Topic5\", \"Topic5\", \"Topic5\", \"Topic5\", \"Topic5\", \"Topic5\", \"Topic5\", \"Topic5\", \"Topic5\", \"Topic5\", \"Topic5\", \"Topic5\", \"Topic5\", \"Topic5\", \"Topic5\", \"Topic5\", \"Topic5\", \"Topic5\", \"Topic5\", \"Topic5\", \"Topic5\", \"Topic5\", \"Topic5\", \"Topic5\", \"Topic5\", \"Topic5\", \"Topic6\", \"Topic6\", \"Topic6\", \"Topic6\", \"Topic6\", \"Topic6\", \"Topic6\", \"Topic6\", \"Topic6\", \"Topic6\", \"Topic6\", \"Topic6\", \"Topic6\", \"Topic6\", \"Topic6\", \"Topic6\", \"Topic6\", \"Topic6\", \"Topic6\", \"Topic6\", \"Topic6\", \"Topic6\", \"Topic6\", \"Topic6\", \"Topic6\", \"Topic6\", \"Topic6\", \"Topic6\", \"Topic6\", \"Topic6\", \"Topic6\", \"Topic6\", \"Topic6\", \"Topic6\", \"Topic6\", \"Topic6\", \"Topic6\", \"Topic6\", \"Topic6\", \"Topic6\", \"Topic6\", \"Topic6\", \"Topic6\", \"Topic6\", \"Topic6\", \"Topic6\", \"Topic6\", \"Topic6\", \"Topic6\", \"Topic6\", \"Topic6\", \"Topic6\", \"Topic6\", \"Topic6\", \"Topic6\", \"Topic6\", \"Topic6\", \"Topic6\", \"Topic6\", \"Topic7\", \"Topic7\", \"Topic7\", \"Topic7\", \"Topic7\", \"Topic7\", \"Topic7\", \"Topic7\", \"Topic7\", \"Topic7\", \"Topic7\", \"Topic7\", \"Topic7\", \"Topic7\", \"Topic7\", \"Topic7\", \"Topic7\", \"Topic7\", \"Topic7\", \"Topic7\", \"Topic7\", \"Topic7\", \"Topic7\", \"Topic7\", \"Topic7\", \"Topic7\", \"Topic7\", \"Topic7\", \"Topic7\", \"Topic7\", \"Topic7\", \"Topic7\", \"Topic7\", \"Topic7\", \"Topic7\", \"Topic7\", \"Topic7\", \"Topic7\", \"Topic7\", \"Topic7\", \"Topic7\", \"Topic7\", \"Topic7\", \"Topic7\", \"Topic7\", \"Topic7\", \"Topic7\", \"Topic7\", \"Topic7\", \"Topic8\", \"Topic8\", \"Topic8\", \"Topic8\", \"Topic8\", \"Topic8\", \"Topic8\", \"Topic8\", \"Topic8\", \"Topic8\", \"Topic8\", \"Topic8\", \"Topic8\", \"Topic8\", \"Topic8\", \"Topic8\", \"Topic8\", \"Topic8\", \"Topic8\", \"Topic8\", \"Topic8\", \"Topic8\", \"Topic8\", \"Topic8\", \"Topic8\", \"Topic8\", \"Topic8\", \"Topic8\", \"Topic8\", \"Topic8\", \"Topic8\", \"Topic8\", \"Topic8\", \"Topic8\", \"Topic8\", \"Topic8\", \"Topic8\", \"Topic8\", \"Topic8\", \"Topic8\", \"Topic8\", \"Topic8\", \"Topic8\", \"Topic8\", \"Topic8\", \"Topic8\", \"Topic8\"], \"logprob\": [30.0, 29.0, 28.0, 27.0, 26.0, 25.0, 24.0, 23.0, 22.0, 21.0, 20.0, 19.0, 18.0, 17.0, 16.0, 15.0, 14.0, 13.0, 12.0, 11.0, 10.0, 9.0, 8.0, 7.0, 6.0, 5.0, 4.0, 3.0, 2.0, 1.0, -5.8388, -6.3543, -6.3486, -6.7104, -6.817, -6.795, -6.7247, -6.9251, -7.1186, -7.1805, -7.1819, -7.2, -7.2667, -7.3994, -7.1817, -7.4696, -7.4871, -7.5348, -7.5454, -7.5874, -7.5996, -7.5908, -7.6219, -7.734, -7.6549, -7.7507, -7.7648, -7.6023, -7.8348, -7.8608, -5.1321, -5.781, -6.6001, -6.3917, -7.6973, -4.0304, -5.6925, -3.6464, -5.8185, -3.5446, -6.3473, -6.238, -5.4854, -4.6837, -5.9326, -4.8879, -6.0533, -4.0527, -5.9534, -5.1606, -5.2498, -5.8669, -5.202, -5.2605, -4.9012, -5.467, -4.526, -4.3869, -5.5101, -4.9588, -5.2608, -5.3968, -5.1791, -4.4214, -3.6666, -4.867, -5.2148, -4.4758, -4.8271, -4.9579, -4.3717, -5.0351, -4.3302, -4.6942, -4.2826, -4.3689, -4.7518, -4.5458, -4.8415, -5.0254, -4.9877, -4.3367, -4.3092, -4.9684, -5.0578, -5.3049, -5.583, -5.6011, -5.7059, -5.8269, -5.9401, -5.9483, -6.0193, -6.069, -5.9513, -6.1861, -6.3706, -6.6579, -6.6633, -6.78, -6.8491, -6.8894, -6.8892, -7.1074, -7.1817, -7.1716, -7.2307, -7.2427, -7.1888, -7.2538, -7.3212, -5.5464, -5.314, -6.0204, -6.908, -4.0934, -5.4211, -6.2587, -6.6583, -5.6043, -5.855, -4.9621, -2.9059, -4.7855, -6.1416, -5.6052, -4.5272, -5.9174, -3.8407, -4.5412, -4.5982, -4.6227, -3.5906, -4.7616, -5.1305, -4.2716, -4.3032, -5.3545, -4.5429, -4.8094, -4.4918, -4.4833, -4.5238, -5.0091, -4.5682, -4.5932, -4.8909, -4.8109, -5.0286, -5.0606, -5.1234, -3.7963, -4.2982, -4.5463, -4.8585, -4.9699, -5.3582, -5.5188, -5.7819, -5.8135, -6.0288, -6.1528, -6.2064, -6.167, -6.2357, -6.2729, -6.2569, -6.2839, -6.2701, -6.3794, -6.3863, -6.469, -6.5619, -6.6152, -6.6325, -6.6454, -6.6839, -6.729, -6.7085, -6.7495, -6.2767, -3.5163, -6.4272, -4.0577, -5.5266, -4.1462, -5.4721, -5.1589, -4.8921, -6.0369, -6.0516, -5.5625, -5.7565, -5.4081, -4.3332, -5.2049, -5.9631, -3.8696, -4.1045, -5.3893, -3.6057, -5.3082, -4.1341, -4.106, -4.3192, -4.704, -4.7585, -4.3414, -4.8699, -4.3224, -4.7965, -5.0406, -4.8717, -5.0925, -5.0, -5.1217, -5.2102, -3.5891, -3.7914, -4.6725, -4.7721, -4.8973, -5.0392, -5.2212, -5.3339, -5.3939, -5.4954, -5.576, -5.6598, -5.7127, -5.7392, -5.9182, -5.9545, -5.9427, -5.9576, -5.9492, -5.9992, -6.0075, -6.0106, -6.0795, -6.0852, -6.1706, -6.2107, -6.2266, -6.3047, -6.2931, -6.3059, -5.8921, -6.2638, -5.0891, -4.8687, -5.9751, -5.6499, -5.4779, -4.5711, -4.2996, -4.3114, -3.7605, -3.9153, -3.9568, -4.5773, -4.8861, -4.8874, -4.8727, -4.5682, -4.8214, -5.1168, -4.9794, -4.7996, -5.1824, -5.1878, -5.2565, -5.2837, -5.3594, -3.6776, -4.7201, -4.7769, -5.0844, -5.1903, -5.2571, -5.5905, -5.6206, -5.6346, -5.6247, -5.7397, -5.7946, -5.8187, -5.8358, -5.8994, -5.9221, -5.9108, -6.0403, -6.1086, -6.1396, -6.2187, -6.2738, -6.2962, -6.3446, -6.3647, -6.3915, -6.4282, -6.3889, -6.4306, -6.4151, -4.6505, -6.397, -4.6177, -2.3228, -4.2268, -4.3834, -5.1975, -5.2803, -5.93, -5.3109, -4.9393, -5.3535, -4.0458, -5.4207, -5.6458, -5.3406, -3.7992, -3.7518, -4.6968, -5.1769, -4.5512, -4.7227, -5.1394, -4.7053, -4.8144, -5.4006, -4.8989, -5.1425, -5.2679, -5.3444, -2.5662, -3.1838, -3.4172, -3.5744, -4.6655, -4.9246, -4.4187, -5.8274, -5.7744, -6.1015, -6.0733, -6.2653, -6.4046, -6.4812, -6.5381, -6.6033, -6.6615, -6.761, -6.9109, -6.9301, -7.0661, -7.0444, -7.0546, -7.1152, -7.08, -7.2884, -7.2578, -7.3761, -7.3489, -7.3367, -3.7239, -4.5734, -3.1502, -3.7543, -4.0527, -4.8905, -4.3424, -4.5087, -4.7062, -6.0788, -3.7116, -5.4178, -6.1155, -5.5253, -5.2356, -3.4239, -5.4907, -3.4444, -3.5931, -4.139, -5.065, -4.8798, -5.1397, -4.2161, -4.5433, -4.7364, -4.8887, -4.4529, -4.8004, -3.2296, -3.8421, -3.9029, -4.1867, -4.1991, -4.3682, -4.607, -4.2678, -4.8934, -4.9623, -4.6353, -5.215, -5.287, -5.4179, -5.5386, -5.5512, -5.5254, -5.5613, -5.648, -5.6966, -5.7475, -5.8208, -5.8277, -5.9151, -5.9831, -6.1351, -6.1625, -6.2283, -6.2485, -6.2638, -3.9117, -3.2184, -5.1251, -4.0334, -4.01, -5.5837, -5.1346, -3.0177, -4.5949, -4.9752, -5.5538, -5.2493, -5.08, -5.1284, -4.9783, -5.3584, -5.5062, -5.4462, -5.4797, -2.7366, -2.9146, -3.8097, -3.8468, -4.4861, -4.5198, -4.6858, -4.7847, -4.7694, -4.7405, -4.865, -4.861, -4.9363, -4.9238, -5.1835, -5.2304, -5.259, -5.3144, -5.4247, -5.6182, -5.6885, -5.7359, -5.7538, -5.7942, -5.866, -5.8154, -5.9367, -5.9796, -5.592, -6.1052, -5.2307, -5.6601, -4.9976, -3.9853, -4.3952, -4.5855, -4.199, -4.9551, -4.8937, -4.564, -4.625, -5.0017, -4.7354, -4.917, -5.1564, -5.1101, -5.1621], \"loglift\": [30.0, 29.0, 28.0, 27.0, 26.0, 25.0, 24.0, 23.0, 22.0, 21.0, 20.0, 19.0, 18.0, 17.0, 16.0, 15.0, 14.0, 13.0, 12.0, 11.0, 10.0, 9.0, 8.0, 7.0, 6.0, 5.0, 4.0, 3.0, 2.0, 1.0, 1.2044, 1.2044, 1.2044, 1.2044, 1.2044, 1.2044, 1.2043, 1.2043, 1.2043, 1.2043, 1.2043, 1.2043, 1.2043, 1.2042, 1.2042, 1.2042, 1.2042, 1.2042, 1.2042, 1.2042, 1.2042, 1.2042, 1.2042, 1.2041, 1.2041, 1.2041, 1.2041, 1.2041, 1.2041, 1.2041, 1.192, 1.198, 1.1978, 1.1946, 1.2041, 1.1543, 1.1772, 1.0966, 1.1632, 1.0891, 1.1736, 1.1685, 1.1422, 1.1096, 1.1506, 1.0793, 1.1357, 1.0188, 1.1284, 1.0641, 1.0417, 1.0872, 1.004, 1.0082, 0.9637, 1.0284, 0.8783, 0.8418, 1.0221, 0.9261, 0.9542, 0.9834, 0.9281, 0.7455, 0.5206, 0.7908, 0.886, 0.6155, 0.7442, 0.7687, 0.4886, 0.8013, 0.4202, 0.6114, 0.285, 0.3332, 0.5093, 0.1032, 0.3721, 0.642, 0.2259, 1.3893, 1.3893, 1.3893, 1.3893, 1.3893, 1.3893, 1.3893, 1.3893, 1.3892, 1.3892, 1.3892, 1.3892, 1.3892, 1.3892, 1.3892, 1.3892, 1.3891, 1.3891, 1.3891, 1.3891, 1.3891, 1.3891, 1.389, 1.389, 1.389, 1.389, 1.389, 1.389, 1.389, 1.389, 1.3864, 1.3813, 1.3875, 1.3889, 1.3549, 1.3687, 1.3653, 1.3776, 1.3439, 1.3446, 1.296, 1.1748, 1.233, 1.337, 1.2898, 1.1656, 1.3131, 1.0005, 1.0176, 0.9596, 0.9318, 0.5966, 0.9619, 1.0801, 0.7598, 0.6233, 1.0922, 0.6707, 0.6302, 0.3685, 0.2188, 0.2412, 0.6505, 0.0551, 0.0559, 0.2197, -0.0606, 0.2325, 0.3183, 0.3005, 1.8885, 1.8885, 1.8885, 1.8885, 1.8885, 1.8885, 1.8885, 1.8884, 1.8884, 1.8884, 1.8884, 1.8884, 1.8884, 1.8884, 1.8884, 1.8884, 1.8884, 1.8884, 1.8884, 1.8884, 1.8884, 1.8883, 1.8883, 1.8883, 1.8883, 1.8883, 1.8883, 1.8883, 1.8883, 1.8883, 1.8881, 1.8881, 1.8525, 1.8657, 1.8273, 1.8473, 1.83, 1.8108, 1.864, 1.8556, 1.7977, 1.8038, 1.746, 1.5072, 1.6232, 1.8111, 1.2411, 1.2744, 1.6357, 0.9619, 1.487, 0.6163, 0.543, 0.6073, 0.8974, 0.8128, 0.2238, 0.7614, -0.2417, 0.4171, 0.3834, -0.1696, 0.4619, -0.1396, -0.0903, 0.4667, 2.4171, 2.4171, 2.4171, 2.4171, 2.4171, 2.4171, 2.4171, 2.417, 2.417, 2.417, 2.417, 2.417, 2.417, 2.417, 2.4169, 2.4169, 2.4169, 2.4169, 2.4169, 2.4169, 2.4169, 2.4169, 2.4169, 2.4169, 2.4169, 2.4169, 2.4169, 2.4168, 2.4168, 2.4168, 2.4168, 2.4154, 2.3565, 2.1985, 2.3661, 2.2455, 2.1894, 1.6491, 1.3787, 1.2473, 0.8628, 0.9258, 0.8082, 1.2591, 1.4923, 1.2559, 1.135, 0.5987, 0.8951, 1.096, 0.7133, 0.2318, 0.7881, 0.2647, 0.3013, 0.1403, -0.7103, 2.4838, 2.4838, 2.4838, 2.4838, 2.4837, 2.4837, 2.4837, 2.4837, 2.4837, 2.4837, 2.4837, 2.4837, 2.4836, 2.4836, 2.4836, 2.4836, 2.4836, 2.4836, 2.4836, 2.4836, 2.4835, 2.4835, 2.4835, 2.4835, 2.4835, 2.4835, 2.4835, 2.4835, 2.4835, 2.4835, 2.481, 2.4835, 2.4499, 2.2424, 2.3614, 2.3535, 2.4061, 2.387, 2.4243, 2.2687, 2.1554, 2.219, 1.6707, 2.2006, 2.2759, 2.1087, 0.9658, 0.8715, 1.516, 1.9053, 1.1271, 1.1987, 1.5719, 0.4616, 0.4142, 1.9054, 0.4067, 0.828, 1.212, 1.619, 2.7685, 2.7685, 2.7685, 2.7685, 2.7684, 2.7684, 2.7684, 2.7683, 2.7682, 2.7682, 2.7682, 2.7681, 2.768, 2.768, 2.7679, 2.7679, 2.7679, 2.7678, 2.7677, 2.7677, 2.7676, 2.7676, 2.7676, 2.7675, 2.7675, 2.7673, 2.7673, 2.7673, 2.7673, 2.7672, 2.7392, 2.7404, 2.7201, 2.6775, 2.5802, 2.6167, 2.5679, 2.5661, 2.5602, 2.6448, 2.2911, 2.5239, 2.6225, 2.4295, 2.2336, 1.3411, 2.2723, 1.1789, 0.9745, 0.9716, 1.7417, 1.4986, 1.7677, 0.486, 0.9092, 1.1039, 1.285, 0.1962, 0.1261, 3.1418, 3.1418, 3.1418, 3.1417, 3.1417, 3.1417, 3.1417, 3.1417, 3.1417, 3.1416, 3.1416, 3.1416, 3.1416, 3.1415, 3.1415, 3.1415, 3.1415, 3.1415, 3.1415, 3.1414, 3.1414, 3.1414, 3.1414, 3.1414, 3.1413, 3.1412, 3.1412, 3.1412, 3.1412, 3.1412, 3.0802, 2.991, 3.0127, 2.82, 2.7628, 3.04, 2.8779, 2.0736, 2.6097, 2.107, 2.8812, 2.2037, 1.7142, 1.7954, 1.2202, 1.1351, 2.3528, 0.1851, -0.7293, 3.8595, 3.8595, 3.8594, 3.8594, 3.8593, 3.8593, 3.8592, 3.8592, 3.8592, 3.8592, 3.8592, 3.8592, 3.8592, 3.8592, 3.8591, 3.859, 3.859, 3.859, 3.8589, 3.8589, 3.8588, 3.8587, 3.8587, 3.8587, 3.8586, 3.8586, 3.8585, 3.8585, 3.8584, 3.8584, 3.844, 3.787, 3.5681, 2.6729, 2.7938, 2.8599, 1.9969, 2.8413, 2.5877, 1.6946, 1.5552, 2.4273, 1.5561, 1.3758, 2.2684, 1.4222, 0.8623]}, \"token.table\": {\"Topic\": [1, 2, 8, 6, 1, 3, 1, 4, 1, 2, 3, 4, 5, 6, 7, 8, 3, 5, 5, 1, 2, 3, 4, 5, 6, 7, 8, 3, 1, 2, 3, 6, 7, 2, 4, 5, 2, 5, 7, 4, 4, 4, 2, 4, 6, 7, 7, 5, 7, 1, 1, 2, 1, 2, 4, 2, 1, 3, 1, 2, 3, 4, 5, 6, 7, 8, 1, 2, 3, 4, 7, 1, 2, 3, 4, 5, 6, 7, 8, 5, 1, 2, 3, 4, 5, 6, 7, 8, 2, 3, 6, 2, 4, 6, 1, 3, 6, 8, 1, 2, 3, 4, 5, 6, 7, 8, 3, 6, 5, 3, 7, 3, 5, 1, 2, 3, 4, 5, 6, 7, 8, 3, 5, 8, 5, 2, 4, 5, 5, 6, 8, 8, 2, 5, 7, 3, 7, 8, 1, 1, 6, 3, 1, 2, 3, 4, 5, 6, 7, 8, 1, 3, 4, 6, 7, 1, 6, 7, 2, 4, 5, 1, 5, 2, 3, 5, 6, 7, 8, 1, 2, 3, 4, 5, 6, 7, 8, 6, 2, 5, 1, 1, 3, 4, 6, 6, 1, 6, 1, 2, 3, 4, 5, 6, 7, 8, 2, 3, 1, 6, 7, 1, 6, 3, 3, 3, 7, 1, 2, 3, 4, 5, 6, 7, 8, 1, 3, 4, 5, 6, 4, 7, 2, 3, 8, 1, 6, 1, 2, 3, 4, 5, 6, 7, 8, 5, 5, 3, 5, 6, 5, 4, 2, 4, 1, 2, 3, 4, 5, 6, 7, 8, 8, 1, 2, 3, 4, 5, 2, 4, 2, 4, 6, 7, 2, 1, 2, 3, 4, 5, 1, 2, 3, 4, 5, 6, 7, 8, 1, 2, 6, 1, 2, 3, 4, 5, 6, 7, 8, 4, 7, 1, 2, 3, 6, 8, 2, 5, 3, 2, 4, 5, 1, 3, 4, 6, 8, 1, 6, 1, 6, 7, 1, 2, 3, 4, 5, 6, 7, 8, 2, 5, 7, 7, 1, 6, 3, 1, 2, 3, 4, 5, 6, 7, 8, 5, 7, 2, 3, 4, 2, 4, 1, 4, 1, 2, 3, 4, 5, 6, 7, 8, 7, 1, 2, 3, 4, 5, 6, 7, 8, 2, 2, 1, 4, 1, 2, 6, 5, 2, 6, 7, 1, 2, 3, 4, 5, 6, 7, 8, 8, 1, 2, 3, 4, 5, 6, 7, 8, 1, 2, 3, 4, 5, 6, 7, 8, 1, 1, 2, 3, 4, 5, 6, 7, 8, 1, 2, 3, 4, 5, 6, 7, 8, 1, 2, 3, 4, 6, 6, 6, 1, 6, 7, 4, 2, 3, 5, 6, 7, 1, 6, 2, 4, 5, 3, 8, 3, 1, 2, 3, 4, 5, 6, 7, 8, 5, 5, 7, 3, 6, 8, 4, 5, 2, 2, 5, 1, 2, 6, 1, 2, 6, 8, 1, 3, 4, 5, 6, 5, 5, 2, 3, 2, 4, 1, 6, 8, 8, 3, 7, 7, 5, 8, 1, 5, 3, 2, 5, 5, 1, 2, 3, 4, 5, 6, 7, 8, 8, 6, 1, 2, 3, 4, 5, 6, 7, 8, 2, 6, 3, 2, 5, 1, 2, 3, 4, 7, 8, 6, 2, 4, 1, 1, 2, 3, 4, 5, 7, 8, 2, 3, 6, 1, 2, 3, 4, 5, 6, 7, 8, 7, 5, 6, 6, 1, 2, 3, 4, 5, 6, 7, 8, 6, 1, 6, 4, 5, 6, 1, 4, 6, 1, 2, 3, 4, 5, 6, 7, 8, 5, 3, 2, 5, 1, 2, 3, 4, 5, 6, 7, 8, 1, 3, 4, 5, 6, 8, 1, 2, 3, 4, 5, 6, 7, 1, 2, 3, 4, 5, 4, 3, 4, 7, 1, 2, 3, 4, 5, 2, 3, 4, 5, 6, 2, 3, 1, 4, 5, 7, 1, 2, 3, 4, 5, 6, 7, 8, 3, 2, 2, 7, 2, 1, 2, 3, 4, 5, 6, 7, 8, 2, 5, 2, 6, 2, 6, 5, 7, 1, 2, 3, 4, 5, 6, 8, 1, 2, 3, 4, 5, 6, 8, 5, 1, 4, 1, 2, 3, 4, 5, 6, 7, 8, 1, 2, 3, 4, 5, 6, 7, 8, 2, 3, 2, 1, 2, 3, 4, 5, 6, 7, 8, 3, 3, 7, 1, 3, 1, 2, 3, 4, 5, 6, 7, 8, 8, 8, 6, 7, 3, 2, 3, 6, 7, 3, 2, 3, 5, 4, 7, 4, 1, 3, 1, 4, 8, 3, 6, 1, 2, 3, 6, 8, 3, 1, 2, 3, 4, 5, 6, 7, 8, 8, 7, 1, 2, 3, 4, 5, 6, 8, 6, 5, 3, 6, 3, 1, 2, 3, 4, 5, 6, 7, 8, 5, 1, 6, 7, 1, 2, 3, 4, 5, 6, 7, 8, 1, 7, 8, 1, 4, 8, 7, 6, 7, 8, 3, 4, 5, 7, 8, 8, 1, 2, 3, 4, 5, 6, 7, 8, 7, 8, 2, 5, 1, 3, 5, 7, 8, 8, 1, 7, 1, 1, 1, 2, 3, 4, 5, 6, 7, 8, 7, 2, 3, 4, 8, 1, 2, 3, 4, 5, 6, 7, 8, 1, 2, 3, 4, 5, 6, 7, 8, 4, 3, 1, 1, 2, 3, 4, 5, 6, 7, 8, 3, 4, 6, 8, 3, 5, 2, 7, 2, 1, 2, 3, 4, 5, 6, 7, 8, 1, 2, 3, 4, 5, 6, 7, 8, 2, 7, 2, 4, 3, 6, 7, 6, 7, 2, 4, 2, 1, 4, 3, 4, 8, 2, 3, 6, 7, 5, 3, 7, 5, 7, 1, 2, 3, 4, 5, 6, 7, 8, 2, 1, 2, 3, 4, 5, 6, 7, 8, 2, 1, 2, 3, 4, 5, 6, 7, 8, 8, 3, 8, 4, 5, 2, 4, 5, 7, 1, 2, 3, 4, 5, 6, 1, 2, 3, 4, 5, 6, 7, 8, 6, 2, 5, 1, 2, 3, 4, 5, 6, 7, 8, 4, 2, 3, 1, 2, 3, 4, 5, 6, 7, 8, 1, 2, 3, 4, 5, 6, 7, 8, 2, 1, 1, 2, 3, 4, 5, 6, 7, 8, 6, 4, 1, 2, 3, 4, 5, 6, 8, 1, 7, 3, 1, 5, 1, 3, 4, 5, 7, 4, 1, 2, 3, 4, 5, 6, 7, 8, 4, 1, 2, 3, 4, 5, 6, 7, 8, 2, 3, 8, 3, 4, 5, 1, 2, 3, 4, 5, 6, 7, 8, 7, 6, 3, 1, 4, 2, 2, 4, 1, 2, 3, 4, 5, 6, 7, 8, 7, 6, 2, 6, 4, 8, 1, 2, 3, 4, 5, 6, 7, 8, 6, 6, 1, 2, 3, 4, 5, 6, 7, 8, 4, 1, 2, 3, 4, 5, 6, 7, 8, 4, 1, 2, 3, 4, 5, 6, 7, 8, 2, 1, 2, 3, 4, 5, 1, 2, 3, 4, 5, 7, 6, 1, 2, 3, 4, 5, 6, 7, 8, 1, 2, 3, 4, 5, 6, 7, 8, 8, 4, 6, 1, 2, 3, 4, 5, 6, 7, 8, 5, 8, 6, 4, 4], \"Freq\": [0.9996451480454959, 0.25243303521993243, 0.7469428785738514, 1.0007452261739829, 0.9997324424250548, 0.9998972298212955, 0.9995720194238836, 0.9997669023962764, 0.7569503634178505, 0.08744616969302878, 0.13365251290810787, 0.009755657876504224, 0.008957467686608425, 0.0007095023910184891, 0.0023058827708100894, 0.00017737559775462226, 1.0002758938035752, 1.0000921597374923, 1.0001991903106968, 0.3311602113538316, 0.22261517162263134, 0.09035827803710735, 0.11619959449485333, 0.05876165724578764, 0.15579608830984049, 0.024632702547695503, 0.0005179773900216344, 1.0003569864763786, 0.9645738527411021, 0.00040613635904888505, 0.02071295431149314, 0.001218409077146655, 0.012590227130515438, 0.049639397458172994, 0.9503876305012705, 0.9993621676978796, 0.07373767350454549, 0.720131633983908, 0.20604922475262108, 0.9992236369680145, 0.999999113543728, 0.9994416202231914, 0.09163253323254973, 0.07982711484062614, 0.8284405509633995, 0.9998509088033457, 0.9995938461089785, 0.23153789006443262, 0.76831865770577, 0.9995448507372077, 0.9996741765996975, 0.9996609440631015, 1.000204125168686, 0.9993550748629493, 0.9998810290641919, 0.9991920367220631, 0.023973211020567223, 0.9755765040314162, 0.031076697534684384, 0.7340487923607663, 0.10686453302440875, 0.05158977456350767, 0.004913311863191207, 0.017196591521169223, 0.053800764901943715, 0.0003684983897393405, 0.03334928948566305, 0.04188050307501871, 0.913227636496936, 0.0031022594870384235, 0.008531213589355664, 0.5526249026413279, 0.17546250617988748, 0.10753352120455296, 0.013466536158241152, 0.12527357068238357, 0.013963456311681785, 0.011379471513790495, 0.00029815209206437976, 0.9997022002028269, 0.014466259873211302, 0.6328192094316663, 0.2401271682918951, 0.040212378766503666, 0.0017206564606903312, 0.012490691344270553, 0.030143352070612098, 0.028040327507546137, 0.9995351375522235, 0.9257063435871432, 0.07450234831151278, 0.9971251937065541, 0.002781733992080166, 0.9997561575065972, 0.9595635942297648, 0.03904119799384872, 0.00026558638091053554, 0.0010623455236421421, 0.569807407854227, 0.37780243233009414, 0.0010702618479606065, 0.04801908157849922, 0.00014270157972808088, 0.0012129634276886875, 0.001783769746601011, 7.135078986404044e-05, 0.9252754528976146, 0.07476161348347364, 0.9997097896270735, 1.0000316420945363, 1.000328136269224, 0.12205335571412963, 0.8778692807922578, 0.14843470292900682, 0.3488815659139999, 0.2291202332722675, 0.021871780126107025, 0.08241926901179354, 0.059747301807902116, 0.026139444540957176, 0.08348618511550608, 0.048200122662440524, 0.9419980494246528, 0.009430458781781842, 1.000418844178809, 1.0001447388966105, 0.9410081446888197, 0.05870742015787519, 0.21640336102768337, 0.7830749826931235, 0.9983940426358986, 1.0005966626380693, 0.07520700919352631, 0.06465594428219962, 0.8600344770744199, 0.5453007664882721, 0.45399162174843255, 0.998229877468941, 0.999622582714242, 1.0003785486857706, 0.9999548818759875, 0.999399735725705, 0.00603232812171908, 0.12741754297916832, 0.07977446169130538, 0.26677663346459685, 0.3799135629311241, 0.08950005192836268, 0.04985903855706587, 0.000615543685889702, 0.7785909472011259, 0.038244841329797025, 0.02701812984266306, 0.15532340398133695, 0.0007402227354154263, 0.9996995760407212, 0.9994853037463922, 1.0006406319415821, 1.000165853088621, 0.07469163084608645, 0.9249890707429248, 0.9991076774426313, 1.0002103697063798, 0.2377199144700621, 0.00021552122798736365, 0.0006465636839620909, 0.07672555716350146, 0.684495420087867, 1.000100943970343, 0.10854646354001524, 0.27038826278211003, 0.18107375524468008, 0.1844963914824283, 0.05117656088823541, 0.06503008851721634, 0.13446070934010898, 0.004726497661652315, 1.0000428150526866, 0.9980067941256556, 0.001626742940710115, 0.9997205096119474, 0.1054358052075188, 0.6829152596345406, 0.02222379804052287, 0.18924157797101726, 0.9999148250075474, 0.9902863416707381, 0.009722988136187905, 0.17750794506412443, 0.6506919484771363, 0.03484936241352587, 0.120534033301828, 0.013875801181165347, 0.0005754940582050143, 0.00159859460612504, 0.000319718921225008, 0.059307624173600575, 0.9405879088708613, 0.027395155538815934, 0.9721578168233871, 0.999809494405008, 0.11521869263679306, 0.8838486553585573, 1.000056205010825, 0.9999897123452742, 0.9676800422804231, 0.032166649604889415, 0.06900268331632937, 0.8069095252119185, 0.1188095704488269, 0.001430561236513704, 0.0026421590184589837, 8.758538182736963e-05, 0.0010656221455663305, 5.839025455157975e-05, 0.017729619089629875, 0.0004324297338934116, 0.2841063351679714, 0.11156687134450019, 0.5855098596916792, 0.9999907414286537, 0.9998973828707478, 0.9998876753335146, 0.06875934202437178, 0.9313765419664906, 0.18305996422983561, 0.816773916834394, 0.8497227308640511, 0.00039955614303952247, 0.018779138722857556, 0.005061044478500618, 0.00013318538101317416, 0.02570477853554261, 0.0002663707620263483, 0.09988903575988062, 0.9989803827031185, 0.9994593560828737, 0.9596582305371955, 0.040202904925530296, 0.9978617541650449, 0.9997692800539317, 0.9995910819719279, 0.9920430890756883, 0.007778383689978255, 0.6957267917002721, 0.11685928124049008, 0.0538748891073283, 0.006441062745538823, 0.12624482981256094, 0.0001380227731186891, 0.00023003795519781512, 0.0004140683193560672, 0.9985235482708115, 0.2523778717744987, 0.6522277415894792, 7.547185160720656e-05, 0.08000016270363895, 0.015245314024655725, 0.20347959133697824, 0.7965224417362023, 0.6559053363477589, 0.00022017634654171163, 0.10392323556768789, 0.23999221773046567, 0.9998565230624875, 0.35664387209911913, 0.03166801372401159, 7.21367055216665e-05, 0.35397481399481745, 0.25752803871234936, 0.19760328257360743, 0.107725141842406, 0.23747766343467713, 0.0982388980085225, 0.2802461525840503, 0.07572916687727348, 0.0024117569069195374, 0.0004823513813839075, 0.037213850723254664, 0.3424073342686595, 0.6203638707699665, 0.11520678814448335, 0.26336568137847227, 0.005123650486478004, 0.2113254666334604, 0.19942051403252622, 0.20399161397634485, 0.0004520868076304121, 0.001105101085318785, 0.9997219994856232, 0.9985803872633686, 0.9473905987723226, 0.04703149109636103, 0.0008818404580567694, 0.00029394681935225646, 0.0041152554709315906, 0.9997606026258892, 0.9995596751239234, 0.9992547250903251, 0.16805552862320364, 0.025111745656340775, 0.806473370117098, 0.5394849830791315, 0.0977020048096065, 0.005228200926266568, 0.01274373975777476, 0.3444077360178102, 0.1815152823252881, 0.8183025466135945, 0.9935400731113976, 0.001802067847239536, 0.0042048249768922505, 0.005688464403742991, 0.3210956609176629, 0.29543705552205624, 0.1469318252371062, 0.008835274499430603, 0.06196795265354067, 0.004962277458584311, 0.15528297510643102, 0.3285844714275726, 0.08363968363610938, 0.5874692064917206, 0.9998856395167243, 0.9990303813622592, 0.9998485260067645, 0.9994729822579106, 0.08182094311596437, 0.6778334237908422, 0.007245213283551044, 0.22507005230410504, 3.122936760151312e-05, 0.007901030003182818, 3.122936760151312e-05, 6.245873520302624e-05, 0.9078482159566541, 0.09173379185624728, 0.7995067872388854, 0.018441712620979323, 0.18200214003323642, 0.15761544374698097, 0.8423816993536126, 0.9875723212713933, 0.012384214701745213, 0.9729979013940058, 0.00474864763979505, 0.000474864763979505, 0.010684457189538863, 0.00854756575163109, 0.0002374323819897525, 0.000474864763979505, 0.00189945905591802, 1.0001457291528948, 0.1542078235966278, 0.4648682251695432, 0.27770332590791047, 0.02156324661673181, 0.00023808000996391587, 0.07118592297921085, 0.009863314698505087, 0.00034011429994845125, 0.9997002995408274, 0.9995922135768621, 0.999457365738076, 0.9995883668714177, 0.020957600916514135, 0.6114688267406477, 0.36762097607673616, 0.9991509814928553, 0.9991327413210842, 0.9999401505952703, 0.9998052055271865, 0.45639890146336043, 0.23460209732160237, 0.2802049120088431, 0.0047627705145523455, 0.00025667625527527613, 0.0026238017205917116, 0.020847815845136317, 0.0003137154231142264, 1.0003270864634952, 0.8016625926515261, 0.09664196832255144, 0.07233593110889769, 0.00829607258190577, 0.00029109026603178144, 0.001600996463174798, 0.0004366353990476721, 0.018775322159049902, 0.37581641783260133, 0.48740108024261874, 0.12096647602450711, 0.008656649277137827, 0.0002266138554224562, 0.001314360361450246, 0.002266138554224562, 0.003263239518083369, 0.9992412892018215, 0.7860102772111466, 0.13830373269663065, 0.033206804456387747, 0.0026947930318011, 8.692880747745483e-05, 0.03346759087882011, 0.00017385761495490967, 0.006085016523421838, 0.061328478953766245, 0.34268022808604, 0.5411021857123927, 0.015666298459854847, 0.0006416231451135091, 0.00032081157255675456, 0.037855765561697036, 0.000427748763409006, 0.8822568131111745, 0.01665907320107326, 0.06047339867210408, 0.00028888566244635706, 0.040251402300859086, 0.9993044095229363, 1.0004519270825853, 0.9995212734536286, 0.8119527397705015, 0.18780819893822037, 0.9993113951783785, 0.8552957278956185, 0.002331334645840155, 0.031726423658607325, 0.11058635211354821, 0.9992323229335539, 0.3910095302022224, 0.6085593430001948, 0.285803109066008, 0.2928438790886195, 0.42114235505620695, 0.9996006420291289, 0.9996365307542509, 0.9998875753621965, 0.8305293133263155, 0.09920582603552193, 0.00027524406747865776, 0.06487895876282647, 0.004364584498590144, 0.0005111675538889358, 0.00019660290534189839, 3.932058106837968e-05, 0.9996290370434205, 0.12067951400866982, 0.8785131054757013, 0.9188532830083037, 0.08099170690434018, 0.9980383700914116, 0.23254600412430032, 0.7671620754616093, 0.9999834703130176, 0.9999530678042289, 0.9994326819032493, 0.00615185965321043, 0.12918905271741904, 0.8643362812760654, 0.0004491725335288143, 0.14014183046099007, 0.8592670566406218, 1.0000667933394054, 0.19016529095508664, 0.00014527524137134196, 0.39660140894376356, 0.13220046964792118, 0.280817041570804, 0.9999606514328212, 0.9999936503804454, 0.999945992222181, 0.999947889229041, 0.19640769661719482, 0.803564920769613, 0.9266926177384538, 0.07309042186153786, 1.0005094826396068, 1.0005483939949904, 0.99960772200756, 0.9999970531737203, 0.9996177441689175, 1.0001752415750345, 0.9984110475568861, 1.0002038268379039, 0.9997330441252417, 0.9998047646932108, 1.000213356796839, 1.0001783993448423, 0.9998757258436431, 0.6431095900885497, 0.12523775786234312, 0.11737316031818075, 0.012273538591647327, 0.001549087395062284, 0.00023832113770188985, 0.0003574817065528348, 0.09985655669709184, 0.9982534618385118, 1.0006143892374217, 0.2724448830641792, 0.3466508808784236, 0.3711635732257033, 0.00046754454068380835, 0.005744118642686789, 0.0024713068579001298, 0.0009350890813676167, 0.0001335841544810881, 0.9995141916553587, 0.9999669390977897, 0.9995779000604331, 0.03328066641342291, 0.9665863114855, 0.4022871915731549, 0.16721839736773142, 0.14708215056428733, 0.0013132334871811368, 0.0013132334871811368, 0.2801564772653092, 1.0006354148101138, 0.9997910907823951, 0.9998637032591838, 0.999606199737466, 0.6681045163334249, 8.448463787726669e-05, 0.004900108996881467, 0.31411388362767756, 0.012672695681590003, 8.448463787726669e-05, 0.9992824486099265, 0.22019605393661398, 0.7765100138822659, 0.0030505750545374733, 0.18293639391679006, 0.5328688228338132, 0.13825050624312443, 0.11245129975021351, 0.0003399602612535847, 0.01212524931804452, 0.014504971146819612, 0.006572565050902637, 0.9987545387813612, 0.99961330434711, 0.9982034923722498, 1.0004400875312198, 0.46919116666542376, 0.0859682532939318, 0.05213235185171375, 0.005263362446567253, 0.000751908920938179, 0.05664380537734282, 0.26016048664460995, 0.06942625703329187, 0.9995183041119345, 0.028777304207471044, 0.9711549584741053, 0.06849705267841232, 0.0185417077720087, 0.9129875612035359, 0.04702336741685809, 0.0002622120859676102, 0.9527039123489837, 0.2901880093691086, 0.02387622861897729, 0.03709998600794933, 0.012489104200695813, 0.5609077092488973, 0.07530195179831299, 0.00036732659413811215, 0.00036732659413811215, 0.9989459487435206, 1.0001440251205058, 0.9998956601580588, 1.0003352501583398, 0.019954463368939974, 0.5196182370746077, 0.07861456925250723, 0.2774572871450096, 0.00030082105581316545, 0.07640854817654402, 0.027274442393727002, 0.0004010947410842206, 0.8332613436341963, 0.00016943093607852712, 0.033208463471391315, 0.04523805993296674, 0.0005082928082355814, 0.08742636301651999, 0.631893962700701, 0.07335835175168656, 4.325374513660764e-05, 0.16228805175255187, 0.13235646011801938, 4.325374513660764e-05, 4.325374513660764e-05, 0.7216476926688838, 0.1890499769440373, 5.48447858845481e-05, 0.01321759339817609, 0.07601487323598366, 0.9999221489903464, 1.0000321212392418, 0.9995173945515985, 0.9999640184306217, 0.5038972794231316, 0.09990670763403017, 0.00011483529613106918, 0.31315585254942563, 0.08291108380663194, 0.2310286814331189, 0.19211858771806728, 0.0002026567380992271, 0.4016656549126681, 0.17469010824153375, 0.9556790886592732, 0.044175437583820205, 0.9695336124574265, 0.00774169629486907, 0.02231430108521085, 0.9999763124949808, 0.39870523966458915, 0.0003325711007688422, 0.3959021403866803, 0.0221634883583807, 0.004608485253511099, 0.1662855503844211, 0.011877539313172937, 0.00011877539313172936, 1.0002671312335558, 0.999941986393889, 0.979564567841407, 0.020384762767789406, 0.9994781150475751, 0.6612091796705637, 0.23653988075645324, 0.03667887604200754, 0.02678476689772805, 0.00042403324904054956, 0.032933249008816015, 0.005229743404833445, 0.00021201662452027478, 0.002776472533565471, 0.9970621364981782, 0.9109942931950453, 0.0890125928447082, 0.9763363346088523, 0.023726891275396098, 0.8124406408775366, 0.18764319404368213, 0.8689361665694642, 0.11785141413257536, 0.0016195226043588579, 0.0029898878849701992, 0.008097613021794289, 0.0001245786618737583, 0.0003737359856212749, 0.0004153990103597867, 0.0004153990103597867, 0.18734495367226378, 0.32318043005991404, 0.08017200899943883, 0.16989819523715274, 0.23885443095687733, 0.9996849800915655, 1.0003489003961306, 0.9999635725054051, 0.1719124732282759, 0.31058486456333434, 0.3239359533568834, 0.08113883344120788, 0.012525248249618181, 0.03220778121330389, 0.05195913422231718, 0.015622150289358941, 0.8892237322314491, 0.0007750352111256094, 0.044952042245285345, 0.002583450703752031, 0.008008697181631297, 0.009817112674257718, 0.04391866196378453, 0.0002583450703752031, 0.743049304577971, 0.2569640885833804, 0.9999453325275964, 0.5718998312059437, 0.06558321392839842, 0.03006883815489747, 0.0632155888768317, 0.0005919062628916825, 0.22681847994009274, 0.04167020090757445, 0.000236762505156673, 0.9998514288305855, 1.000182327825918, 1.0004568652744326, 0.9394976215562681, 0.06038429466062902, 0.49895578119213063, 0.31449708555423206, 0.14895479312784696, 0.002804190425827368, 0.010503831934031326, 0.006178724667077251, 0.009458201605756715, 0.008650214533908152, 0.9989860491199043, 0.9994376770231843, 0.9971499106622519, 1.000083335816327, 0.9998957749385455, 0.27967322474542367, 0.6693203968099698, 0.05002822853996152, 0.0008815546879288374, 0.9997080041197196, 0.02523995407333567, 0.18924040683153553, 0.7854958101470775, 1.0000464207625637, 0.9996868181034733, 0.9998580740231269, 0.9998949092876633, 0.9998621385855879, 0.5734445094245179, 0.12126122166450091, 0.30517087163744444, 0.9995399918562109, 0.00043880370602259166, 0.9999724130063579, 0.3105006789247152, 0.523361692156486, 0.16579934856988676, 0.00028621342539807826, 0.9996831074987167, 0.6262568502824013, 0.00041364389054319767, 0.050050910755726916, 0.04715540352192454, 0.06494209081528203, 0.004550082795975174, 0.0024818633432591862, 0.20351279414725326, 1.0001428046333662, 1.0002201086045335, 0.44805073023733455, 0.05098301481950929, 0.02219260645084522, 0.05278241534255079, 0.06417861865514699, 0.000599800174347168, 0.3610797049569952, 0.999957704366026, 0.9995375606351004, 0.977405006556202, 0.02242305627494769, 0.9999192233343329, 0.3408747818668573, 0.2793407211359001, 0.0002759374920670728, 0.08738020582123973, 0.27658134621522934, 9.197916402235762e-05, 0.015360520391733723, 9.197916402235762e-05, 0.9997987070873904, 0.9992830414804043, 0.9987947203989301, 0.9998544746736242, 0.7584914665504735, 0.0564881203184494, 0.05759573052077194, 0.009082403659044806, 0.0727699902925907, 0.037104941777804996, 0.007974793456722268, 0.0004430440809290149, 0.2135144921077689, 0.7248746925715611, 0.061437977488340505, 0.9996949798873864, 1.0000305142796793, 0.9996527393804191, 0.9991771735874065, 0.9993615844518264, 0.9999872463722457, 0.999025380426335, 0.00042392612728462726, 0.07333922002024051, 0.6871842523283808, 0.15600481484074283, 0.08351344707507156, 1.0000122163705707, 0.6467702423760485, 0.19820256286322077, 0.12620461126546562, 0.006965101521549393, 0.00015141525046846505, 0.016958508052468086, 0.0037853812617116263, 0.000984199128045023, 0.9998629288972557, 0.998850033292377, 0.11520937947816337, 0.8847650324466108, 0.9994014740741453, 0.8671087560743947, 0.03881163646184518, 0.09403144443601515, 0.9983331192616031, 0.9999266789255004, 0.9995515434223663, 0.9994523865517361, 0.9997903218314331, 1.0003117454784216, 0.6851621484181634, 0.05180274283695724, 0.14149107371885336, 0.002577250887410808, 0.0002577250887410808, 0.0036081512423751312, 0.0005154501774821617, 0.1148165270341515, 0.9994963815683795, 0.15876722623081516, 0.3622932981543601, 0.11020810118681584, 0.36820484381189045, 0.8183421128524937, 0.11432091371837466, 0.02139696246065836, 0.0011004152122624298, 0.00024453671383609554, 0.0022008304245248597, 0.027265843592724652, 0.015161276257837924, 0.8218312353160748, 0.149317349423022, 0.010284281259301429, 0.004165784813894249, 0.0019527116315129294, 0.008071208076920107, 0.004295965589328444, 0.0001301807754341953, 1.000018003216132, 0.9997430168624232, 0.9998617750869554, 0.008018566924990509, 0.24325484335064668, 0.04099211315859634, 0.21829986404203136, 0.4434192569641948, 0.02000894737357445, 0.02570437808665182, 0.0003746993890182481, 0.7668581537788212, 0.002277570994294093, 0.2304901846225622, 1.0001281003648264, 0.9646877967040521, 0.035294565310813035, 0.22943837165122138, 0.7700951286115253, 1.000044959024952, 0.02112583015927324, 0.317234726309525, 0.0013601561883367702, 0.20008765715234955, 0.21912984378906433, 0.23993733952128002, 0.000260455440319807, 0.0008971242944348909, 0.6311125788768753, 0.009981651139677396, 0.3410613525778082, 0.0010370546638625866, 0.0025926366596564663, 0.013222446964247979, 0.0009074228308797633, 0.00012963183298282332, 0.9999182874670736, 0.9998129400711835, 0.9885068458733725, 0.011432230291519341, 0.1574278302873673, 0.71264205317585, 0.1293157177360517, 0.05956420474160735, 0.9401485288945592, 0.6895263965119005, 0.3104244892864306, 0.9995753162913051, 0.9335713763246498, 0.06633356296601467, 0.9999535091310392, 1.0001118675925529, 0.9997481767308628, 0.4573877345083086, 0.14083287453232574, 0.009785970133666139, 0.39143880534664555, 1.0001476788141712, 0.9432006443459273, 0.05670973811722535, 0.09602550139919791, 0.9026397131524604, 0.41840397917976013, 0.3102157328096234, 0.127700720847343, 0.033154900922272496, 0.000489170669345004, 0.10201926070673029, 0.007772378412926175, 0.000244585334672502, 0.9992868868884042, 0.3600496661919675, 0.4681157013974468, 0.1270429309776297, 0.019204163984990533, 0.007499851023724114, 0.004772632469642618, 0.013124739291517199, 0.00022726821284012465, 1.0000250654814982, 0.23576514264708628, 0.33661557021356237, 0.22200518414384, 0.10258440607704775, 0.055878855872939316, 0.025282525379948517, 0.02147895961482352, 0.0003356087439816175, 0.9991175174624385, 0.9998492397498758, 0.9994869070596837, 0.9996241693101532, 0.9997202119023875, 0.9563573657990447, 0.04359087440796751, 0.753179141842348, 0.24619291467975146, 0.5256643289951616, 0.00022292804452721018, 0.07735603145094193, 0.03566848712435363, 0.0028980645788537324, 0.35824536755522673, 0.0011592890446226905, 0.45386166096978336, 0.14095022634204213, 0.19611306338200515, 0.19089626268120305, 0.016230046624717668, 0.0002898222611556726, 0.00048303710192612104, 0.9990519779432813, 0.9489661924267652, 0.050634810635466765, 0.5046399694185703, 0.4526122169966152, 0.0058458148788713615, 0.01841431686844479, 0.008200379205083437, 0.010084030666053099, 6.495349865412624e-05, 0.00011366862264472092, 1.0003813441277913, 1.000078149876631, 0.9999337855843865, 0.7271991359519604, 0.059866272693381725, 0.12369428402088431, 0.07054095734642957, 0.00011004829539224582, 0.008583767040595174, 0.0004401931815689833, 0.009574201699125387, 0.011533218430966458, 0.3515771424923646, 0.10441903138573932, 0.46393301236823137, 0.0014881572168988976, 0.0003720393042247244, 0.02579472509291423, 0.040924323464719685, 0.9997617389428836, 0.9999988461420359, 0.48873790687871, 0.3602902123398189, 0.13156736593041807, 0.010918849870344397, 0.0007640011571086458, 0.004170172982551359, 0.003342505062350326, 0.0001591669077309679, 0.9969788148878621, 0.999830541435227, 0.0005731134851804176, 0.9662120246656661, 0.023325718846843, 0.008310145535116057, 0.001490095061469086, 5.7311348518041765e-05, 0.00011462269703608353, 1.0001969361911158, 1.0007816828291562, 0.9991162102266655, 1.0000086601352405, 0.9997316438320867, 0.010278093074797425, 0.00029365980213706927, 0.07341495053426732, 0.5605965622796653, 0.3553283605858538, 0.9989315391601642, 0.9509702065786333, 0.025713797603570787, 0.006032175122755476, 0.004887382763692392, 0.00017612190139432046, 0.002641828520914807, 0.0035664685032349894, 0.006032175122755476, 0.9996436630026417, 0.2923201606104851, 0.41903064915504973, 0.2412469733574457, 0.007563730129152522, 0.0099409024554576, 0.020097911486033845, 0.009508689305220313, 0.0002161065751186435, 0.010767498841933563, 0.0021534997683867125, 0.9841493941527276, 0.0014502599720152254, 0.9977788607464751, 0.9998097155689932, 0.5548933803311439, 0.02370379383994984, 0.06020202124156465, 0.00016043176879830686, 0.0134361606368582, 0.0034893909713631746, 0.34364484876597334, 0.0004411873641953439, 0.9998923836446523, 1.0001195734234252, 1.000020163731409, 0.9992603173767947, 1.0002552163319802, 1.0000381686589737, 0.9267258378533246, 0.07322530508580109, 0.5518094407494658, 0.1740463258239723, 0.1719051583709533, 0.04098806267207784, 0.0002039207098113325, 0.010909757974906288, 0.0003058810647169988, 0.049960573903776465, 0.9990705657428413, 0.9982334372845085, 0.9053410790772617, 0.0947223452826936, 0.9996629652470298, 1.0000181083794721, 0.3324493228888204, 0.263562730634416, 0.2604186362629093, 0.0438369223437119, 0.005154253068043727, 0.07636025920306781, 0.01791102941145195, 0.0003092551840826236, 0.9999083389068018, 0.9999950671897573, 0.9095078437653498, 0.07242721951863938, 0.0021849552257019703, 0.0013757125495160553, 0.0114103217342214, 0.002427728028557745, 0.0005664698733301404, 8.09242676185915e-05, 0.9997986983839017, 0.18866305597577054, 0.4776396392752435, 0.19765375320238326, 0.039290054809213, 0.05026295299917339, 0.01798139445322541, 0.027396849029126907, 0.001061893373221973, 0.9997191915727993, 0.8385929619342113, 0.11007042966770368, 0.0037561125850996803, 0.01861725368266798, 0.028415808252493235, 0.00016330924283042088, 0.00032661848566084177, 0.00016330924283042088, 0.999870139439839, 0.9935095764912776, 0.003443248332281154, 0.000529730512658639, 0.000529730512658639, 0.0015891915379759173, 0.8909918426195365, 0.10869653816621497, 2.5378598684617082e-05, 2.5378598684617082e-05, 0.00017765019079231956, 5.0757197369234165e-05, 1.000137168755303, 0.0013348139927774414, 0.5330761700246637, 0.14646549902567016, 0.16721578927702857, 0.005096562517877504, 0.00024269345323226207, 0.14634415229905404, 0.0003640401798483931, 0.43500598477762314, 0.26418523497278235, 0.22960411740815156, 0.04541321074673665, 0.0007704836154635959, 0.003263224724316406, 0.019896606305206975, 0.0019035477558512369, 0.9991841952533024, 1.000263900149494, 0.9994822083853339, 0.8977035180052904, 2.8308899687972323e-05, 0.09058847900151143, 0.0019816229781580625, 0.005152219743210963, 0.0045011150503875995, 5.6617799375944646e-05, 2.8308899687972323e-05, 0.999981028226566, 0.9997493558890717, 1.0001466186806405, 1.0000751143192521, 0.9997664076592779], \"Term\": [\"abilifi\", \"acid\", \"acid\", \"adhes\", \"adipex\", \"advil\", \"afford\", \"agit\", \"ago\", \"ago\", \"ago\", \"ago\", \"ago\", \"ago\", \"ago\", \"ago\", \"alev\", \"allerg\", \"allergi\", \"also\", \"also\", \"also\", \"also\", \"also\", \"also\", \"also\", \"also\", \"altogeth\", \"amaz\", \"amaz\", \"amaz\", \"amaz\", \"amaz\", \"ambien\", \"ambien\", \"ankl\", \"antibiot\", \"antibiot\", \"antibiot\", \"antidepress\", \"anxieti\", \"anxiou\", \"appetit\", \"appetit\", \"appetit\", \"appli\", \"applic\", \"area\", \"area\", \"armour\", \"arthriti\", \"asleep\", \"asthma\", \"ate\", \"attack\", \"augmentin\", \"august\", \"august\", \"away\", \"away\", \"away\", \"away\", \"away\", \"away\", \"away\", \"away\", \"babi\", \"babi\", \"babi\", \"babi\", \"babi\", \"back\", \"back\", \"back\", \"back\", \"back\", \"back\", \"back\", \"back\", \"bactrim\", \"bad\", \"bad\", \"bad\", \"bad\", \"bad\", \"bad\", \"bad\", \"bad\", \"bathroom\", \"bc\", \"bc\", \"bed\", \"bed\", \"belviq\", \"best\", \"best\", \"best\", \"best\", \"better\", \"better\", \"better\", \"better\", \"better\", \"better\", \"better\", \"better\", \"birth\", \"birth\", \"bladder\", \"bleed\", \"blister\", \"blood\", \"blood\", \"bodi\", \"bodi\", \"bodi\", \"bodi\", \"bodi\", \"bodi\", \"bodi\", \"bodi\", \"bone\", \"bone\", \"bone\", \"botox\", \"bowel\", \"brain\", \"brain\", \"brand\", \"brand\", \"bronchiti\", \"bunch\", \"burn\", \"burn\", \"burn\", \"buy\", \"buy\", \"calcium\", \"calori\", \"carb\", \"card\", \"cardiologist\", \"caus\", \"caus\", \"caus\", \"caus\", \"caus\", \"caus\", \"caus\", \"caus\", \"chang\", \"chang\", \"chang\", \"chang\", \"chang\", \"chantix\", \"cheaper\", \"cheek\", \"chill\", \"chronic\", \"chronic\", \"cigarett\", \"cipro\", \"clear\", \"clear\", \"clear\", \"clear\", \"clear\", \"comment\", \"complet\", \"complet\", \"complet\", \"complet\", \"complet\", \"complet\", \"complet\", \"complet\", \"con\", \"constip\", \"constip\", \"contrav\", \"control\", \"control\", \"control\", \"control\", \"copay\", \"cost\", \"cost\", \"could\", \"could\", \"could\", \"could\", \"could\", \"could\", \"could\", \"could\", \"cramp\", \"cramp\", \"crave\", \"crave\", \"cream\", \"curb\", \"curb\", \"cycl\", \"cymbalta\", \"cyst\", \"cyst\", \"day\", \"day\", \"day\", \"day\", \"day\", \"day\", \"day\", \"day\", \"decreas\", \"decreas\", \"decreas\", \"decreas\", \"decreas\", \"depress\", \"dermatologist\", \"diarrhea\", \"didnt\", \"didnt\", \"diet\", \"diet\", \"differ\", \"differ\", \"differ\", \"differ\", \"differ\", \"differ\", \"differ\", \"differ\", \"diflucan\", \"disc\", \"discharg\", \"discharg\", \"discount\", \"diseas\", \"disord\", \"dizzi\", \"dizzi\", \"doctor\", \"doctor\", \"doctor\", \"doctor\", \"doctor\", \"doctor\", \"doctor\", \"doctor\", \"dont\", \"dose\", \"dose\", \"dose\", \"dose\", \"dose\", \"dream\", \"dream\", \"dri\", \"dri\", \"dri\", \"dri\", \"drink\", \"drug\", \"drug\", \"drug\", \"drug\", \"drug\", \"due\", \"due\", \"due\", \"due\", \"due\", \"due\", \"due\", \"due\", \"eat\", \"eat\", \"eat\", \"effect\", \"effect\", \"effect\", \"effect\", \"effect\", \"effect\", \"effect\", \"effect\", \"effexor\", \"elbow\", \"els\", \"els\", \"els\", \"els\", \"els\", \"empti\", \"enbrel\", \"endometriosi\", \"er\", \"er\", \"er\", \"everyon\", \"everyon\", \"everyon\", \"everyon\", \"everyon\", \"exercis\", \"exercis\", \"expens\", \"expens\", \"expens\", \"experi\", \"experi\", \"experi\", \"experi\", \"experi\", \"experi\", \"experi\", \"experi\", \"eye\", \"eye\", \"eye\", \"face\", \"fat\", \"fe\", \"februari\", \"feel\", \"feel\", \"feel\", \"feel\", \"feel\", \"feel\", \"feel\", \"feel\", \"feet\", \"feet\", \"felt\", \"felt\", \"felt\", \"fibro\", \"fibro\", \"fibromyalgia\", \"fibromyalgia\", \"find\", \"find\", \"find\", \"find\", \"find\", \"find\", \"find\", \"find\", \"fire\", \"first\", \"first\", \"first\", \"first\", \"first\", \"first\", \"first\", \"first\", \"flash\", \"flu\", \"fm\", \"fog\", \"food\", \"food\", \"food\", \"foot\", \"ga\", \"gain\", \"gel\", \"get\", \"get\", \"get\", \"get\", \"get\", \"get\", \"get\", \"get\", \"gi\", \"give\", \"give\", \"give\", \"give\", \"give\", \"give\", \"give\", \"give\", \"go\", \"go\", \"go\", \"go\", \"go\", \"go\", \"go\", \"go\", \"goal\", \"good\", \"good\", \"good\", \"good\", \"good\", \"good\", \"good\", \"good\", \"got\", \"got\", \"got\", \"got\", \"got\", \"got\", \"got\", \"got\", \"great\", \"great\", \"great\", \"great\", \"great\", \"grew\", \"growth\", \"habit\", \"hair\", \"hair\", \"hallucin\", \"headach\", \"headach\", \"headach\", \"headach\", \"heal\", \"healthi\", \"healthi\", \"heart\", \"heart\", \"heart\", \"heartbeat\", \"heat\", \"heavi\", \"help\", \"help\", \"help\", \"help\", \"help\", \"help\", \"help\", \"help\", \"hip\", \"hive\", \"hive\", \"hormon\", \"hormon\", \"horror\", \"hospit\", \"hospit\", \"hot\", \"hour\", \"humira\", \"hunger\", \"hunger\", \"hunger\", \"hungri\", \"hungri\", \"hungri\", \"im\", \"increas\", \"increas\", \"increas\", \"increas\", \"increas\", \"infect\", \"infus\", \"inject\", \"insert\", \"insomnia\", \"insomnia\", \"insur\", \"insur\", \"internet\", \"intoler\", \"irregular\", \"itch\", \"itchi\", \"iv\", \"ive\", \"janumet\", \"joint\", \"juli\", \"keppra\", \"kidney\", \"knee\", \"know\", \"know\", \"know\", \"know\", \"know\", \"know\", \"know\", \"know\", \"laid\", \"larger\", \"last\", \"last\", \"last\", \"last\", \"last\", \"last\", \"last\", \"last\", \"lay\", \"lb\", \"leak\", \"leg\", \"leg\", \"let\", \"let\", \"let\", \"let\", \"let\", \"let\", \"lethargi\", \"levaquin\", \"lexapro\", \"lialda\", \"life\", \"life\", \"life\", \"life\", \"life\", \"life\", \"lifesav\", \"light\", \"light\", \"light\", \"like\", \"like\", \"like\", \"like\", \"like\", \"like\", \"like\", \"like\", \"lip\", \"liver\", \"lo\", \"loestrin\", \"look\", \"look\", \"look\", \"look\", \"look\", \"look\", \"look\", \"look\", \"loopi\", \"lose\", \"lose\", \"loss\", \"loss\", \"loss\", \"lost\", \"lost\", \"lost\", \"lower\", \"lower\", \"lower\", \"lower\", \"lower\", \"lower\", \"lower\", \"lower\", \"lung\", \"lupron\", \"lyrica\", \"macrobid\", \"made\", \"made\", \"made\", \"made\", \"made\", \"made\", \"made\", \"made\", \"mani\", \"mani\", \"mani\", \"mani\", \"mani\", \"mani\", \"medic\", \"medic\", \"medic\", \"medic\", \"medic\", \"medic\", \"medic\", \"medicin\", \"medicin\", \"medicin\", \"medicin\", \"medicin\", \"memori\", \"menstrual\", \"mental\", \"metformin\", \"mg\", \"mg\", \"mg\", \"mg\", \"mg\", \"migrain\", \"migrain\", \"migrain\", \"migrain\", \"migrain\", \"minut\", \"minut\", \"miracl\", \"miracl\", \"miracl\", \"monistat\", \"month\", \"month\", \"month\", \"month\", \"month\", \"month\", \"month\", \"month\", \"monthli\", \"morn\", \"mouth\", \"mouth\", \"movement\", \"much\", \"much\", \"much\", \"much\", \"much\", \"much\", \"much\", \"much\", \"muscl\", \"muscl\", \"nausea\", \"nausea\", \"nauseou\", \"nauseou\", \"neck\", \"neck\", \"need\", \"need\", \"need\", \"need\", \"need\", \"need\", \"need\", \"neg\", \"neg\", \"neg\", \"neg\", \"neg\", \"neg\", \"neg\", \"nerv\", \"neurontin\", \"neuropathi\", \"never\", \"never\", \"never\", \"never\", \"never\", \"never\", \"never\", \"never\", \"new\", \"new\", \"new\", \"new\", \"new\", \"new\", \"new\", \"new\", \"next\", \"next\", \"night\", \"notic\", \"notic\", \"notic\", \"notic\", \"notic\", \"notic\", \"notic\", \"notic\", \"novemb\", \"octob\", \"oil\", \"old\", \"old\", \"one\", \"one\", \"one\", \"one\", \"one\", \"one\", \"one\", \"one\", \"onlin\", \"oral\", \"ortho\", \"otezla\", \"ovul\", \"pack\", \"pack\", \"pack\", \"pack\", \"pad\", \"pain\", \"pain\", \"pain\", \"panic\", \"patch\", \"paxil\", \"pay\", \"pco\", \"peopl\", \"peopl\", \"peopl\", \"period\", \"period\", \"phentermin\", \"pill\", \"pill\", \"pill\", \"pill\", \"plaqu\", \"pleas\", \"pleas\", \"pleas\", \"pleas\", \"pleas\", \"pleas\", \"pleas\", \"pleas\", \"pneumonia\", \"portion\", \"post\", \"post\", \"post\", \"post\", \"post\", \"post\", \"post\", \"pound\", \"prednison\", \"pregnanc\", \"pregnanc\", \"pregnant\", \"prescrib\", \"prescrib\", \"prescrib\", \"prescrib\", \"prescrib\", \"prescrib\", \"prescrib\", \"prescrib\", \"pressur\", \"price\", \"pro\", \"probiot\", \"problem\", \"problem\", \"problem\", \"problem\", \"problem\", \"problem\", \"problem\", \"problem\", \"product\", \"product\", \"product\", \"program\", \"prozac\", \"psoriasi\", \"puff\", \"qsymia\", \"rash\", \"react\", \"reaction\", \"reaction\", \"reaction\", \"reaction\", \"reaction\", \"read\", \"realli\", \"realli\", \"realli\", \"realli\", \"realli\", \"realli\", \"realli\", \"realli\", \"red\", \"reflux\", \"relief\", \"relief\", \"remicad\", \"remov\", \"remov\", \"remov\", \"requip\", \"review\", \"rl\", \"rosacea\", \"savella\", \"saxenda\", \"say\", \"say\", \"say\", \"say\", \"say\", \"say\", \"say\", \"say\", \"scalp\", \"scare\", \"scare\", \"scare\", \"scare\", \"see\", \"see\", \"see\", \"see\", \"see\", \"see\", \"see\", \"see\", \"seem\", \"seem\", \"seem\", \"seem\", \"seem\", \"seem\", \"seem\", \"seem\", \"seizur\", \"septemb\", \"seroquel\", \"sever\", \"sever\", \"sever\", \"sever\", \"sever\", \"sever\", \"sever\", \"sever\", \"sex\", \"sex\", \"sex\", \"share\", \"shot\", \"shot\", \"shower\", \"shower\", \"sick\", \"side\", \"side\", \"side\", \"side\", \"side\", \"side\", \"side\", \"side\", \"sinc\", \"sinc\", \"sinc\", \"sinc\", \"sinc\", \"sinc\", \"sinc\", \"sinc\", \"sinu\", \"sinus\", \"sit\", \"sit\", \"size\", \"size\", \"size\", \"skin\", \"skin\", \"sleep\", \"sleep\", \"slept\", \"smoke\", \"smoke\", \"smoker\", \"social\", \"soma\", \"sore\", \"sore\", \"sore\", \"sore\", \"spasm\", \"spot\", \"spot\", \"spray\", \"spray\", \"start\", \"start\", \"start\", \"start\", \"start\", \"start\", \"start\", \"start\", \"stiff\", \"still\", \"still\", \"still\", \"still\", \"still\", \"still\", \"still\", \"still\", \"stomach\", \"stop\", \"stop\", \"stop\", \"stop\", \"stop\", \"stop\", \"stop\", \"stop\", \"stori\", \"strep\", \"suboxon\", \"suicid\", \"surgeri\", \"sweat\", \"sweat\", \"swell\", \"swell\", \"switch\", \"switch\", \"switch\", \"switch\", \"switch\", \"switch\", \"symptom\", \"symptom\", \"symptom\", \"symptom\", \"symptom\", \"symptom\", \"symptom\", \"symptom\", \"synthroid\", \"tablet\", \"tablet\", \"take\", \"take\", \"take\", \"take\", \"take\", \"take\", \"take\", \"take\", \"taper\", \"tast\", \"tegretol\", \"thing\", \"thing\", \"thing\", \"thing\", \"thing\", \"thing\", \"thing\", \"thing\", \"thought\", \"thought\", \"thought\", \"thought\", \"thought\", \"thought\", \"thought\", \"thought\", \"throw\", \"thyroid\", \"time\", \"time\", \"time\", \"time\", \"time\", \"time\", \"time\", \"time\", \"tirosint\", \"toe\", \"took\", \"took\", \"took\", \"took\", \"took\", \"took\", \"took\", \"topamax\", \"topic\", \"toradol\", \"tract\", \"tramadol\", \"treatment\", \"treatment\", \"treatment\", \"treatment\", \"treatment\", \"tremor\", \"tri\", \"tri\", \"tri\", \"tri\", \"tri\", \"tri\", \"tri\", \"tri\", \"turkey\", \"two\", \"two\", \"two\", \"two\", \"two\", \"two\", \"two\", \"two\", \"u\", \"u\", \"u\", \"ulcer\", \"ulcer\", \"urinari\", \"use\", \"use\", \"use\", \"use\", \"use\", \"use\", \"use\", \"use\", \"uti\", \"vagina\", \"valium\", \"victoza\", \"vivid\", \"vomit\", \"wake\", \"wake\", \"want\", \"want\", \"want\", \"want\", \"want\", \"want\", \"want\", \"want\", \"wash\", \"watcher\", \"water\", \"water\", \"wean\", \"websit\", \"week\", \"week\", \"week\", \"week\", \"week\", \"week\", \"week\", \"week\", \"weigh\", \"weight\", \"well\", \"well\", \"well\", \"well\", \"well\", \"well\", \"well\", \"well\", \"wellbutrin\", \"went\", \"went\", \"went\", \"went\", \"went\", \"went\", \"went\", \"went\", \"withdraw\", \"without\", \"without\", \"without\", \"without\", \"without\", \"without\", \"without\", \"without\", \"woke\", \"wonder\", \"wonder\", \"wonder\", \"wonder\", \"wonder\", \"work\", \"work\", \"work\", \"work\", \"work\", \"work\", \"workout\", \"wors\", \"wors\", \"wors\", \"wors\", \"wors\", \"wors\", \"wors\", \"wors\", \"would\", \"would\", \"would\", \"would\", \"would\", \"would\", \"would\", \"would\", \"write\", \"xanax\", \"yaz\", \"year\", \"year\", \"year\", \"year\", \"year\", \"year\", \"year\", \"year\", \"yeast\", \"yi\", \"zithromax\", \"zoloft\", \"zombi\"]}, \"R\": 30, \"lambda.step\": 0.01, \"plot.opts\": {\"xlab\": \"PC1\", \"ylab\": \"PC2\"}, \"topic.order\": [7, 3, 5, 1, 2, 6, 8, 4]};\n",
              "\n",
              "function LDAvis_load_lib(url, callback){\n",
              "  var s = document.createElement('script');\n",
              "  s.src = url;\n",
              "  s.async = true;\n",
              "  s.onreadystatechange = s.onload = callback;\n",
              "  s.onerror = function(){console.warn(\"failed to load library \" + url);};\n",
              "  document.getElementsByTagName(\"head\")[0].appendChild(s);\n",
              "}\n",
              "\n",
              "if(typeof(LDAvis) !== \"undefined\"){\n",
              "   // already loaded: just create the visualization\n",
              "   !function(LDAvis){\n",
              "       new LDAvis(\"#\" + \"ldavis_el784221397223852620646110563059\", ldavis_el784221397223852620646110563059_data);\n",
              "   }(LDAvis);\n",
              "}else if(typeof define === \"function\" && define.amd){\n",
              "   // require.js is available: use it to load d3/LDAvis\n",
              "   require.config({paths: {d3: \"https://d3js.org/d3.v5\"}});\n",
              "   require([\"d3\"], function(d3){\n",
              "      window.d3 = d3;\n",
              "      LDAvis_load_lib(\"https://cdn.jsdelivr.net/gh/bmabey/pyLDAvis@3.4.0/pyLDAvis/js/ldavis.v3.0.0.js\", function(){\n",
              "        new LDAvis(\"#\" + \"ldavis_el784221397223852620646110563059\", ldavis_el784221397223852620646110563059_data);\n",
              "      });\n",
              "    });\n",
              "}else{\n",
              "    // require.js not available: dynamically load d3 & LDAvis\n",
              "    LDAvis_load_lib(\"https://d3js.org/d3.v5.js\", function(){\n",
              "         LDAvis_load_lib(\"https://cdn.jsdelivr.net/gh/bmabey/pyLDAvis@3.4.0/pyLDAvis/js/ldavis.v3.0.0.js\", function(){\n",
              "                 new LDAvis(\"#\" + \"ldavis_el784221397223852620646110563059\", ldavis_el784221397223852620646110563059_data);\n",
              "            })\n",
              "         });\n",
              "}\n",
              "</script>"
            ]
          },
          "metadata": {},
          "execution_count": 18
        }
      ]
    },
    {
      "cell_type": "code",
      "source": [
        "# Find stemmed words\n",
        "word = \"tri\\w+\"\n",
        "sorted(dict(zip(*np.unique([itm[0] for itm in data['review'].str.findall(r'{}'.format(word)) if len(itm)>0], return_counts = True))).items(), key= lambda x: x[1], reverse = True)[:5]"
      ],
      "metadata": {
        "colab": {
          "base_uri": "https://localhost:8080/"
        },
        "id": "A7a_00O0v-Gh",
        "outputId": "b186b8d2-43d2-456c-ec3b-7ffe7cd63a46"
      },
      "execution_count": 24,
      "outputs": [
        {
          "output_type": "stream",
          "name": "stderr",
          "text": [
            "<>:2: DeprecationWarning: invalid escape sequence \\w\n",
            "<>:2: DeprecationWarning: invalid escape sequence \\w\n",
            "<ipython-input-24-f8ffdcd9292b>:2: DeprecationWarning: invalid escape sequence \\w\n",
            "  word = \"tri\\w+\"\n"
          ]
        },
        {
          "output_type": "execute_result",
          "data": {
            "text/plain": [
              "[('tried', 7724),\n",
              " ('trin', 2280),\n",
              " ('trist', 601),\n",
              " ('trial', 520),\n",
              " ('triosis', 480)]"
            ]
          },
          "metadata": {},
          "execution_count": 24
        }
      ]
    }
  ]
}