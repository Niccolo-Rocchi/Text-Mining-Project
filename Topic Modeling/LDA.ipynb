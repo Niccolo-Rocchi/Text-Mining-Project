{
  "nbformat": 4,
  "nbformat_minor": 0,
  "metadata": {
    "colab": {
      "provenance": []
    },
    "kernelspec": {
      "name": "python3",
      "display_name": "Python 3"
    },
    "language_info": {
      "name": "python"
    }
  },
  "cells": [
    {
      "cell_type": "markdown",
      "source": [
        "# LDA analysis"
      ],
      "metadata": {
        "id": "EPTxABib9-4W"
      }
    },
    {
      "cell_type": "code",
      "source": [
        "# TODO: POS, NER, BI/TRI-GRAMS ???"
      ],
      "metadata": {
        "id": "Bdd-kvjs-oah"
      },
      "execution_count": 1,
      "outputs": []
    },
    {
      "cell_type": "code",
      "execution_count": 2,
      "metadata": {
        "id": "9F2sCWpY2YzC"
      },
      "outputs": [],
      "source": [
        "# Import libraries\n",
        "import pandas as pd\n",
        "import csv, html, re\n",
        "import matplotlib.pyplot as plt\n",
        "import numpy as np\n",
        "import warnings\n",
        "warnings.filterwarnings('ignore')"
      ]
    },
    {
      "cell_type": "code",
      "source": [
        "# Mount Drive\n",
        "from google.colab import drive\n",
        "drive.mount('/content/drive/')"
      ],
      "metadata": {
        "colab": {
          "base_uri": "https://localhost:8080/"
        },
        "id": "YvAw24OI24Dr",
        "outputId": "eb36da2d-de29-4146-b19f-f2fc0dbe9527"
      },
      "execution_count": 3,
      "outputs": [
        {
          "output_type": "stream",
          "name": "stdout",
          "text": [
            "Drive already mounted at /content/drive/; to attempt to forcibly remount, call drive.mount(\"/content/drive/\", force_remount=True).\n"
          ]
        }
      ]
    },
    {
      "cell_type": "code",
      "source": [
        "# Load data\n",
        "data = pd.read_csv(\"drive/MyDrive/data_train_class_balanced_9-4.csv\").drop('Unnamed: 0', axis = 1)\n",
        "data['review'] = data['review'].apply(html.unescape)"
      ],
      "metadata": {
        "id": "Ly6LroTD2geH"
      },
      "execution_count": 4,
      "outputs": []
    },
    {
      "cell_type": "code",
      "source": [
        "# View data head\n",
        "data.head()"
      ],
      "metadata": {
        "id": "ObJrw5n_4ctN",
        "colab": {
          "base_uri": "https://localhost:8080/",
          "height": 206
        },
        "outputId": "d16ce0f0-bd9f-4e66-9564-a0da7e4351c2"
      },
      "execution_count": 5,
      "outputs": [
        {
          "output_type": "execute_result",
          "data": {
            "text/plain": [
              "      drugName           condition  \\\n",
              "0    trazodone            Insomnia   \n",
              "1  fluvoxamine  Anxiety and Stress   \n",
              "2  mirtazapine             Anxiety   \n",
              "3    trazodone          Depression   \n",
              "4  mirtazapine             Anxiety   \n",
              "\n",
              "                                              review  rating  \\\n",
              "0  \"I have insomnia, it's horrible. My story begi...    10.0   \n",
              "1  \"I've suffered from panic attacks and anxiety ...     9.0   \n",
              "2  \"Suffered from anxiety and depression for 3 mo...    10.0   \n",
              "3  \"I take trazodone to help balance the effects ...    10.0   \n",
              "4  \"I have taken this medicine for 7 years. Gaine...    10.0   \n",
              "\n",
              "               date  positiveness        drugClass  \n",
              "0     April 3, 2016             1  antidepressants  \n",
              "1   January 3, 2011             1  antidepressants  \n",
              "2      May 31, 2012             1  antidepressants  \n",
              "3      June 1, 2016             1  antidepressants  \n",
              "4  November 6, 2012             1  antidepressants  "
            ],
            "text/html": [
              "\n",
              "  <div id=\"df-1bd3dd32-eb17-4a30-a238-bb2d48aa82ad\">\n",
              "    <div class=\"colab-df-container\">\n",
              "      <div>\n",
              "<style scoped>\n",
              "    .dataframe tbody tr th:only-of-type {\n",
              "        vertical-align: middle;\n",
              "    }\n",
              "\n",
              "    .dataframe tbody tr th {\n",
              "        vertical-align: top;\n",
              "    }\n",
              "\n",
              "    .dataframe thead th {\n",
              "        text-align: right;\n",
              "    }\n",
              "</style>\n",
              "<table border=\"1\" class=\"dataframe\">\n",
              "  <thead>\n",
              "    <tr style=\"text-align: right;\">\n",
              "      <th></th>\n",
              "      <th>drugName</th>\n",
              "      <th>condition</th>\n",
              "      <th>review</th>\n",
              "      <th>rating</th>\n",
              "      <th>date</th>\n",
              "      <th>positiveness</th>\n",
              "      <th>drugClass</th>\n",
              "    </tr>\n",
              "  </thead>\n",
              "  <tbody>\n",
              "    <tr>\n",
              "      <th>0</th>\n",
              "      <td>trazodone</td>\n",
              "      <td>Insomnia</td>\n",
              "      <td>\"I have insomnia, it's horrible. My story begi...</td>\n",
              "      <td>10.0</td>\n",
              "      <td>April 3, 2016</td>\n",
              "      <td>1</td>\n",
              "      <td>antidepressants</td>\n",
              "    </tr>\n",
              "    <tr>\n",
              "      <th>1</th>\n",
              "      <td>fluvoxamine</td>\n",
              "      <td>Anxiety and Stress</td>\n",
              "      <td>\"I've suffered from panic attacks and anxiety ...</td>\n",
              "      <td>9.0</td>\n",
              "      <td>January 3, 2011</td>\n",
              "      <td>1</td>\n",
              "      <td>antidepressants</td>\n",
              "    </tr>\n",
              "    <tr>\n",
              "      <th>2</th>\n",
              "      <td>mirtazapine</td>\n",
              "      <td>Anxiety</td>\n",
              "      <td>\"Suffered from anxiety and depression for 3 mo...</td>\n",
              "      <td>10.0</td>\n",
              "      <td>May 31, 2012</td>\n",
              "      <td>1</td>\n",
              "      <td>antidepressants</td>\n",
              "    </tr>\n",
              "    <tr>\n",
              "      <th>3</th>\n",
              "      <td>trazodone</td>\n",
              "      <td>Depression</td>\n",
              "      <td>\"I take trazodone to help balance the effects ...</td>\n",
              "      <td>10.0</td>\n",
              "      <td>June 1, 2016</td>\n",
              "      <td>1</td>\n",
              "      <td>antidepressants</td>\n",
              "    </tr>\n",
              "    <tr>\n",
              "      <th>4</th>\n",
              "      <td>mirtazapine</td>\n",
              "      <td>Anxiety</td>\n",
              "      <td>\"I have taken this medicine for 7 years. Gaine...</td>\n",
              "      <td>10.0</td>\n",
              "      <td>November 6, 2012</td>\n",
              "      <td>1</td>\n",
              "      <td>antidepressants</td>\n",
              "    </tr>\n",
              "  </tbody>\n",
              "</table>\n",
              "</div>\n",
              "      <button class=\"colab-df-convert\" onclick=\"convertToInteractive('df-1bd3dd32-eb17-4a30-a238-bb2d48aa82ad')\"\n",
              "              title=\"Convert this dataframe to an interactive table.\"\n",
              "              style=\"display:none;\">\n",
              "        \n",
              "  <svg xmlns=\"http://www.w3.org/2000/svg\" height=\"24px\"viewBox=\"0 0 24 24\"\n",
              "       width=\"24px\">\n",
              "    <path d=\"M0 0h24v24H0V0z\" fill=\"none\"/>\n",
              "    <path d=\"M18.56 5.44l.94 2.06.94-2.06 2.06-.94-2.06-.94-.94-2.06-.94 2.06-2.06.94zm-11 1L8.5 8.5l.94-2.06 2.06-.94-2.06-.94L8.5 2.5l-.94 2.06-2.06.94zm10 10l.94 2.06.94-2.06 2.06-.94-2.06-.94-.94-2.06-.94 2.06-2.06.94z\"/><path d=\"M17.41 7.96l-1.37-1.37c-.4-.4-.92-.59-1.43-.59-.52 0-1.04.2-1.43.59L10.3 9.45l-7.72 7.72c-.78.78-.78 2.05 0 2.83L4 21.41c.39.39.9.59 1.41.59.51 0 1.02-.2 1.41-.59l7.78-7.78 2.81-2.81c.8-.78.8-2.07 0-2.86zM5.41 20L4 18.59l7.72-7.72 1.47 1.35L5.41 20z\"/>\n",
              "  </svg>\n",
              "      </button>\n",
              "      \n",
              "  <style>\n",
              "    .colab-df-container {\n",
              "      display:flex;\n",
              "      flex-wrap:wrap;\n",
              "      gap: 12px;\n",
              "    }\n",
              "\n",
              "    .colab-df-convert {\n",
              "      background-color: #E8F0FE;\n",
              "      border: none;\n",
              "      border-radius: 50%;\n",
              "      cursor: pointer;\n",
              "      display: none;\n",
              "      fill: #1967D2;\n",
              "      height: 32px;\n",
              "      padding: 0 0 0 0;\n",
              "      width: 32px;\n",
              "    }\n",
              "\n",
              "    .colab-df-convert:hover {\n",
              "      background-color: #E2EBFA;\n",
              "      box-shadow: 0px 1px 2px rgba(60, 64, 67, 0.3), 0px 1px 3px 1px rgba(60, 64, 67, 0.15);\n",
              "      fill: #174EA6;\n",
              "    }\n",
              "\n",
              "    [theme=dark] .colab-df-convert {\n",
              "      background-color: #3B4455;\n",
              "      fill: #D2E3FC;\n",
              "    }\n",
              "\n",
              "    [theme=dark] .colab-df-convert:hover {\n",
              "      background-color: #434B5C;\n",
              "      box-shadow: 0px 1px 3px 1px rgba(0, 0, 0, 0.15);\n",
              "      filter: drop-shadow(0px 1px 2px rgba(0, 0, 0, 0.3));\n",
              "      fill: #FFFFFF;\n",
              "    }\n",
              "  </style>\n",
              "\n",
              "      <script>\n",
              "        const buttonEl =\n",
              "          document.querySelector('#df-1bd3dd32-eb17-4a30-a238-bb2d48aa82ad button.colab-df-convert');\n",
              "        buttonEl.style.display =\n",
              "          google.colab.kernel.accessAllowed ? 'block' : 'none';\n",
              "\n",
              "        async function convertToInteractive(key) {\n",
              "          const element = document.querySelector('#df-1bd3dd32-eb17-4a30-a238-bb2d48aa82ad');\n",
              "          const dataTable =\n",
              "            await google.colab.kernel.invokeFunction('convertToInteractive',\n",
              "                                                     [key], {});\n",
              "          if (!dataTable) return;\n",
              "\n",
              "          const docLinkHtml = 'Like what you see? Visit the ' +\n",
              "            '<a target=\"_blank\" href=https://colab.research.google.com/notebooks/data_table.ipynb>data table notebook</a>'\n",
              "            + ' to learn more about interactive tables.';\n",
              "          element.innerHTML = '';\n",
              "          dataTable['output_type'] = 'display_data';\n",
              "          await google.colab.output.renderOutput(dataTable, element);\n",
              "          const docLink = document.createElement('div');\n",
              "          docLink.innerHTML = docLinkHtml;\n",
              "          element.appendChild(docLink);\n",
              "        }\n",
              "      </script>\n",
              "    </div>\n",
              "  </div>\n",
              "  "
            ]
          },
          "metadata": {},
          "execution_count": 5
        }
      ]
    },
    {
      "cell_type": "code",
      "source": [
        "data.shape"
      ],
      "metadata": {
        "colab": {
          "base_uri": "https://localhost:8080/"
        },
        "id": "_Bw-ivOGnRkW",
        "outputId": "0cc0b55d-4b30-4b9d-85cc-56b6a840700f"
      },
      "execution_count": 6,
      "outputs": [
        {
          "output_type": "execute_result",
          "data": {
            "text/plain": [
              "(36094, 7)"
            ]
          },
          "metadata": {},
          "execution_count": 6
        }
      ]
    },
    {
      "cell_type": "markdown",
      "source": [
        "## Preprocessing"
      ],
      "metadata": {
        "id": "O800UqMy96XI"
      }
    },
    {
      "cell_type": "code",
      "source": [
        "# Import Text Mining libraries\n",
        "import nltk\n",
        "from nltk.stem import WordNetLemmatizer\n",
        "from nltk.stem.porter import PorterStemmer\n",
        "from nltk.tokenize import word_tokenize, wordpunct_tokenize\n",
        "from textblob import TextBlob\n",
        "import gensim\n",
        "from gensim.models.coherencemodel import CoherenceModel"
      ],
      "metadata": {
        "id": "OGYkSRih_EJt"
      },
      "execution_count": 7,
      "outputs": []
    },
    {
      "cell_type": "code",
      "source": [
        "# Define useful classes\n",
        "%%capture\n",
        "wordnet_lemmatizer = WordNetLemmatizer()\n",
        "porter_stemmer = PorterStemmer()\n",
        "nltk.download('stopwords')\n",
        "stop_words = nltk.corpus.stopwords.words('english')\n",
        "nltk.download('punkt')\n",
        "nltk.download('wordnet')\n",
        "nltk.download('omw-1.4')"
      ],
      "metadata": {
        "colab": {
          "base_uri": "https://localhost:8080/"
        },
        "id": "rnIGx7PA_vC9",
        "outputId": "ed06f793-e957-4e4d-d124-389646c6ad5e"
      },
      "execution_count": 8,
      "outputs": [
        {
          "output_type": "stream",
          "name": "stderr",
          "text": [
            "[nltk_data] Downloading package stopwords to /root/nltk_data...\n",
            "[nltk_data]   Package stopwords is already up-to-date!\n",
            "[nltk_data] Downloading package punkt to /root/nltk_data...\n",
            "[nltk_data]   Package punkt is already up-to-date!\n",
            "[nltk_data] Downloading package wordnet to /root/nltk_data...\n",
            "[nltk_data]   Package wordnet is already up-to-date!\n",
            "[nltk_data] Downloading package omw-1.4 to /root/nltk_data...\n",
            "[nltk_data]   Package omw-1.4 is already up-to-date!\n"
          ]
        }
      ]
    },
    {
      "cell_type": "code",
      "source": [
        "def correct (text):\n",
        "  textBlb = TextBlob(text)        \n",
        "  textCorrected = textBlb.correct()\n",
        "  return textCorrected"
      ],
      "metadata": {
        "id": "0OjtZLdsBbr6"
      },
      "execution_count": 9,
      "outputs": []
    },
    {
      "cell_type": "code",
      "source": [
        "def preprocessing(text):\n",
        "\n",
        "  # Tokenization\n",
        "  tokens = word_tokenize(text.lower())\n",
        "\n",
        "  # Keep only alphabet strings\n",
        "  tokens = [t for t in tokens if t.isalpha()]\n",
        "\n",
        "  # Correct text\n",
        "  # tokens = [correct(t) for t in tokens]\n",
        "\n",
        "  # Stop words removal\n",
        "  tokens = [t for t in tokens if t not in stop_words]\n",
        "\n",
        "  # Lemmatization\n",
        "  # tokens = [wordnet_lemmatizer.lemmatize(t) for t in tokens]\n",
        "\n",
        "  # Stemming (Porter stemmer)\n",
        "  tokens = [porter_stemmer.stem(t) for t in tokens]\n",
        "\n",
        "  # Short words removal\n",
        "  # tokens = [t for t in tokens if len(t) > 2]\n",
        "\n",
        "  return tokens"
      ],
      "metadata": {
        "id": "RrX8uEA0qfft"
      },
      "execution_count": 10,
      "outputs": []
    },
    {
      "cell_type": "code",
      "source": [
        "# Preprocess data\n",
        "reviews = data['review'].apply(preprocessing)"
      ],
      "metadata": {
        "id": "BFkeSvhBAh0_"
      },
      "execution_count": 11,
      "outputs": []
    },
    {
      "cell_type": "code",
      "source": [
        "# Create dictionary\n",
        "dictionary = gensim.corpora.Dictionary(reviews)\n",
        "\n",
        "# Filter words that occurs in less than 'less'% documents and words that occurs in more than 'more'% of total documents. Keep top 'keep_n' frequent words\n",
        "less = 5 # to be fixed according to STM\n",
        "more = 55 # to be fixed\n",
        "keep_n = 100000\n",
        "dictionary.filter_extremes(no_below = less/100, no_above = more/100, keep_n = keep_n)\n",
        "\n",
        "# Create BoW\n",
        "bow_corpus = [dictionary.doc2bow(doc) for doc in reviews]"
      ],
      "metadata": {
        "id": "5DTv5nKr-GSC"
      },
      "execution_count": 12,
      "outputs": []
    },
    {
      "cell_type": "markdown",
      "source": [
        "## LDA"
      ],
      "metadata": {
        "id": "pQEaAMrt99ir"
      }
    },
    {
      "cell_type": "code",
      "source": [
        "# Get best LDA according to highest coherence based on number of topics\n",
        "def get_topic_coherence(topic_num: list):\n",
        "  coherence = []\n",
        "  for num_topics in topic_num:\n",
        "    lda_model = gensim.models.LdaModel(corpus = bow_corpus,\n",
        "                                        id2word = dictionary,\n",
        "                                        num_topics = num_topics,\n",
        "                                        offset = 2,\n",
        "                                        random_state = 123,\n",
        "                                        update_every = 1,\n",
        "                                        passes = 10,\n",
        "                                        alpha = 'auto',\n",
        "                                        eta = \"auto\",\n",
        "                                        per_word_topics = True)\n",
        "    coherence_model_lda = CoherenceModel(model=lda_model, texts=reviews, dictionary=dictionary, coherence='c_v')\n",
        "    coherence = coherence + [coherence_model_lda.get_coherence()]\n",
        "  return coherence"
      ],
      "metadata": {
        "id": "9MuWNNAU-QcW"
      },
      "execution_count": 13,
      "outputs": []
    },
    {
      "cell_type": "code",
      "source": [
        "topic_num = [3, 4, 5, 6, 7, 8]\n",
        "coherence = get_topic_coherence(topic_num = topic_num)"
      ],
      "metadata": {
        "id": "kyNwy3L6-aD7"
      },
      "execution_count": 17,
      "outputs": []
    },
    {
      "cell_type": "code",
      "source": [
        "plt.plot(topic_num, coherence)"
      ],
      "metadata": {
        "colab": {
          "base_uri": "https://localhost:8080/",
          "height": 282
        },
        "id": "mBCzb6qBa0qv",
        "outputId": "29f456f5-9230-43cd-8336-2384f1f92129"
      },
      "execution_count": 18,
      "outputs": [
        {
          "output_type": "execute_result",
          "data": {
            "text/plain": [
              "[<matplotlib.lines.Line2D at 0x7f2cbf6e5910>]"
            ]
          },
          "metadata": {},
          "execution_count": 18
        },
        {
          "output_type": "display_data",
          "data": {
            "text/plain": [
              "<Figure size 432x288 with 1 Axes>"
            ],
            "image/png": "[encoded data removed]"
          },
          "metadata": {
            "needs_background": "light"
          }
        }
      ]
    },
    {
      "cell_type": "code",
      "source": [
        "opt_num = 7\n",
        "lda_model = gensim.models.LdaModel(corpus = bow_corpus,\n",
        "                                        id2word = dictionary,\n",
        "                                        num_topics = opt_num,\n",
        "                                        offset = 2,\n",
        "                                        random_state = 123,\n",
        "                                        update_every = 1,\n",
        "                                        passes = 10,\n",
        "                                        alpha = 'auto',\n",
        "                                        eta = \"auto\",\n",
        "                                        per_word_topics = True)"
      ],
      "metadata": {
        "id": "_UDojA6Ra_i0"
      },
      "execution_count": 19,
      "outputs": []
    },
    {
      "cell_type": "code",
      "source": [
        "from pprint import pprint\n",
        "pprint(lda_model.print_topics())"
      ],
      "metadata": {
        "colab": {
          "base_uri": "https://localhost:8080/"
        },
        "id": "T_pjYqPj-Vji",
        "outputId": "c1d24d17-e5e2-4ee2-cbce-0c1ce55d093f"
      },
      "execution_count": 20,
      "outputs": [
        {
          "output_type": "stream",
          "name": "stdout",
          "text": [
            "[(0,\n",
            "  '0.034*\"effect\" + 0.032*\"side\" + 0.031*\"feel\" + 0.021*\"day\" + 0.021*\"week\" + '\n",
            "  '0.017*\"take\" + 0.016*\"start\" + 0.016*\"like\" + 0.012*\"first\" + 0.011*\"get\"'),\n",
            " (1,\n",
            "  '0.029*\"took\" + 0.027*\"day\" + 0.018*\"hour\" + 0.018*\"pill\" + 0.016*\"take\" + '\n",
            "  '0.015*\"work\" + 0.013*\"time\" + 0.012*\"go\" + 0.010*\"start\" + 0.010*\"water\"'),\n",
            " (2,\n",
            "  '0.031*\"cramp\" + 0.028*\"period\" + 0.022*\"pain\" + 0.020*\"get\" + 0.019*\"month\" '\n",
            "  '+ 0.019*\"day\" + 0.019*\"bleed\" + 0.016*\"got\" + 0.012*\"week\" + '\n",
            "  '0.012*\"insert\"'),\n",
            " (3,\n",
            "  '0.018*\"patch\" + 0.018*\"inject\" + 0.017*\"use\" + 0.011*\"drug\" + 0.010*\"insur\" '\n",
            "  '+ 0.009*\"effect\" + 0.008*\"one\" + 0.008*\"tri\" + 0.007*\"cover\" + '\n",
            "  '0.007*\"doctor\"'),\n",
            " (4,\n",
            "  '0.044*\"weight\" + 0.033*\"month\" + 0.028*\"gain\" + 0.018*\"year\" + 0.018*\"pill\" '\n",
            "  '+ 0.015*\"control\" + 0.015*\"pound\" + 0.014*\"start\" + 0.013*\"lost\" + '\n",
            "  '0.012*\"lb\"'),\n",
            " (5,\n",
            "  '0.017*\"year\" + 0.017*\"take\" + 0.016*\"anxieti\" + 0.015*\"life\" + '\n",
            "  '0.014*\"medic\" + 0.011*\"work\" + 0.011*\"drug\" + 0.011*\"feel\" + '\n",
            "  '0.011*\"depress\" + 0.009*\"like\"'),\n",
            " (6,\n",
            "  '0.033*\"pain\" + 0.031*\"migrain\" + 0.028*\"take\" + 0.020*\"work\" + 0.012*\"day\" '\n",
            "  '+ 0.011*\"tri\" + 0.011*\"sleep\" + 0.011*\"hour\" + 0.011*\"help\" + '\n",
            "  '0.010*\"sever\"')]\n"
          ]
        }
      ]
    },
    {
      "cell_type": "code",
      "source": [
        "# Compute Perplexity (lower is better)\n",
        "print('Perplexity: ', lda_model.log_perplexity(bow_corpus))  \n",
        "\n",
        "# Compute Coherence Score (higher is better)\n",
        "coherence_model_lda = CoherenceModel(model=lda_model, texts=reviews, dictionary=dictionary, coherence='c_v')\n",
        "coherence_lda = coherence_model_lda.get_coherence()\n",
        "print('\\nCoherence Score: ', coherence_lda)"
      ],
      "metadata": {
        "colab": {
          "base_uri": "https://localhost:8080/"
        },
        "id": "wko7gZVDtmkr",
        "outputId": "bf033aec-3b5e-4ed0-e60a-3bf89d63d741"
      },
      "execution_count": 21,
      "outputs": [
        {
          "output_type": "stream",
          "name": "stdout",
          "text": [
            "Perplexity:  -6.841213835996103\n",
            "\n",
            "Coherence Score:  0.48422873078162026\n"
          ]
        }
      ]
    },
    {
      "cell_type": "code",
      "source": [
        "%%capture\n",
        "!pip install pyLDAvis\n",
        "import pyLDAvis.gensim_models as gensimvis\n",
        "import pickle \n",
        "import pyLDAvis\n",
        "import os"
      ],
      "metadata": {
        "id": "fVLT5Ks0vmXH"
      },
      "execution_count": 22,
      "outputs": []
    },
    {
      "cell_type": "code",
      "source": [
        "# Visualize the topics\n",
        "pyLDAvis.enable_notebook()\n",
        "vis = gensimvis.prepare(lda_model, bow_corpus, dictionary)\n",
        "vis"
      ],
      "metadata": {
        "colab": {
          "base_uri": "https://localhost:8080/",
          "height": 861
        },
        "id": "vZ1hHTYzvk1M",
        "outputId": "c1b0cf57-3508-4d67-c2af-1ee94ca7f67c"
      },
      "execution_count": 23,
      "outputs": [
        {
          "output_type": "execute_result",
          "data": {
            "text/plain": [
              "PreparedData(topic_coordinates=              x         y  topics  cluster       Freq\n",
              "topic                                                \n",
              "5     -0.002651  0.070626       1        1  21.999783\n",
              "0      0.073855  0.017734       2        1  16.837695\n",
              "2      0.077168 -0.121573       3        1  15.835921\n",
              "6     -0.003445  0.164314       4        1  15.708188\n",
              "4      0.096677 -0.157960       5        1  13.944431\n",
              "1      0.057433  0.090129       6        1  10.709980\n",
              "3     -0.299038 -0.063269       7        1   4.964002, topic_info=         Term          Freq         Total Category  logprob  loglift\n",
              "87     weight   8889.000000   8889.000000  Default  30.0000  30.0000\n",
              "318      pain  12686.000000  12686.000000  Default  29.0000  29.0000\n",
              "1766    cramp   7244.000000   7244.000000  Default  28.0000  28.0000\n",
              "958   migrain   7192.000000   7192.000000  Default  27.0000  27.0000\n",
              "59       gain   5769.000000   5769.000000  Default  26.0000  26.0000\n",
              "...       ...           ...           ...      ...      ...      ...\n",
              "333     howev    306.945723   2252.508067   Topic7  -5.4650   1.0098\n",
              "117      side    345.593209  10482.368941   Topic7  -5.3465  -0.4092\n",
              "134       bad    327.214001   6736.857942   Topic7  -5.4011  -0.0218\n",
              "151     would    329.669786   9459.986795   Topic7  -5.3936  -0.3538\n",
              "218     thing    304.104384   4882.741618   Topic7  -5.4743   0.2269\n",
              "\n",
              "[513 rows x 6 columns], token_table=       Topic      Freq          Term\n",
              "term                                \n",
              "1287       1  0.999996       abilifi\n",
              "3620       6  0.998651         abort\n",
              "3490       6  0.998278          achi\n",
              "4447       5  0.999820           acn\n",
              "539        1  0.104972        actual\n",
              "...      ...       ...           ...\n",
              "89         7  0.005120          year\n",
              "14500      5  1.000999  zolmitriptan\n",
              "255        1  0.998896        zoloft\n",
              "3641       4  0.999761         zomig\n",
              "4043       5  0.999874       zyprexa\n",
              "\n",
              "[1082 rows x 3 columns], R=30, lambda_step=0.01, plot_opts={'xlab': 'PC1', 'ylab': 'PC2'}, topic_order=[6, 1, 3, 7, 5, 2, 4])"
            ],
            "text/html": [
              "\n",
              "<link rel=\"stylesheet\" type=\"text/css\" href=\"https://cdn.jsdelivr.net/gh/bmabey/pyLDAvis@3.4.0/pyLDAvis/js/ldavis.v1.0.0.css\">\n",
              "\n",
              "\n",
              "<div id=\"ldavis_el63211398301547314081027421029\" style=\"background-color:white;\"></div>\n",
              "<script type=\"text/javascript\">\n",
              "\n",
              "var ldavis_el63211398301547314081027421029_data = {\"mdsDat\": {\"x\": [-0.0026510040690268725, 0.07385531403787836, 0.07716783686286231, -0.0034450182322005992, 0.0966774035722526, 0.0574331731009854, -0.29903770527275114], \"y\": [0.07062555267508089, 0.017733530116781467, -0.12157294109274212, 0.16431425531581945, -0.1579604173389146, 0.09012927419387208, -0.06326925386989692], \"topics\": [1, 2, 3, 4, 5, 6, 7], \"cluster\": [1, 1, 1, 1, 1, 1, 1], \"Freq\": [21.999783097829127, 16.83769471838799, 15.835921091989388, 15.708187603077725, 13.9444312750066, 10.709979892193797, 4.96400232151538]}, \"tinfo\": {\"Term\": [\"weight\", \"pain\", \"cramp\", \"migrain\", \"gain\", \"period\", \"took\", \"side\", \"effect\", \"month\", \"anxieti\", \"feel\", \"hour\", \"bleed\", \"pill\", \"day\", \"drug\", \"pound\", \"year\", \"insert\", \"control\", \"use\", \"medic\", \"lb\", \"birth\", \"lost\", \"work\", \"life\", \"sleep\", \"week\", \"attack\", \"panic\", \"disord\", \"bipolar\", \"spray\", \"abilifi\", \"xanax\", \"latuda\", \"suicid\", \"tape\", \"bm\", \"breast\", \"adhd\", \"xr\", \"antidepress\", \"interact\", \"psychiatrist\", \"klonopin\", \"episod\", \"social\", \"paxil\", \"manic\", \"zoloft\", \"percocet\", \"buspar\", \"saphri\", \"geodon\", \"prozac\", \"ativan\", \"voic\", \"anxieti\", \"adderal\", \"lexapro\", \"life\", \"alcohol\", \"famili\", \"withdraw\", \"depress\", \"diagnos\", \"drug\", \"live\", \"medic\", \"school\", \"year\", \"medicin\", \"thought\", \"help\", \"mg\", \"take\", \"could\", \"work\", \"doctor\", \"feel\", \"tri\", \"like\", \"time\", \"would\", \"prescrib\", \"med\", \"start\", \"day\", \"go\", \"better\", \"thing\", \"felt\", \"month\", \"get\", \"back\", \"took\", \"made\", \"chantix\", \"belviq\", \"rash\", \"cigarett\", \"sour\", \"halfway\", \"begun\", \"drain\", \"nois\", \"con\", \"sob\", \"nope\", \"sooo\", \"safeti\", \"pro\", \"curb\", \"author\", \"uncommon\", \"notori\", \"brick\", \"yawn\", \"manhood\", \"boob\", \"migrainea\", \"exact\", \"drift\", \"suppress\", \"iron\", \"pleasur\", \"chase\", \"tire\", \"dri\", \"appetit\", \"smoke\", \"energi\", \"outweigh\", \"side\", \"fatigu\", \"nauseou\", \"effect\", \"tingli\", \"crave\", \"irrit\", \"feel\", \"overwhelm\", \"notic\", \"dizzi\", \"nausea\", \"headach\", \"mouth\", \"hungri\", \"benefit\", \"week\", \"made\", \"decreas\", \"eat\", \"far\", \"realli\", \"wors\", \"like\", \"start\", \"felt\", \"make\", \"day\", \"first\", \"take\", \"actual\", \"good\", \"seem\", \"get\", \"much\", \"time\", \"also\", \"thing\", \"bad\", \"go\", \"month\", \"work\", \"cramp\", \"insert\", \"botox\", \"mirena\", \"alev\", \"iud\", \"skyla\", \"naproxen\", \"menstrual\", \"hydrocodon\", \"cheek\", \"advil\", \"wound\", \"park\", \"discharg\", \"oxycontin\", \"crampi\", \"tampon\", \"cervix\", \"cath\", \"uteru\", \"produc\", \"margin\", \"uti\", \"materi\", \"sticki\", \"brown\", \"endometriosi\", \"shingl\", \"circul\", \"painless\", \"flow\", \"lighter\", \"infect\", \"bleed\", \"heavi\", \"remov\", \"procedur\", \"spot\", \"bled\", \"period\", \"bladder\", \"implant\", \"discomfort\", \"got\", \"nexplanon\", \"pain\", \"get\", \"light\", \"month\", \"last\", \"sinc\", \"day\", \"week\", \"recommend\", \"would\", \"ever\", \"stop\", \"bad\", \"never\", \"first\", \"year\", \"everi\", \"birth\", \"like\", \"time\", \"go\", \"one\", \"imitrex\", \"muscl\", \"neck\", \"asleep\", \"chronic\", \"spasm\", \"maxalt\", \"lyrica\", \"leg\", \"relpax\", \"gabapentin\", \"seroquel\", \"tingl\", \"zomig\", \"nose\", \"treximet\", \"fibromyalgia\", \"ambien\", \"vyvans\", \"narcot\", \"throat\", \"awak\", \"neurologist\", \"onset\", \"disc\", \"soma\", \"nasal\", \"shoulder\", \"restless\", \"vicodin\", \"migrain\", \"liquid\", \"relief\", \"pain\", \"tablet\", \"sleep\", \"nerv\", \"fall\", \"night\", \"hour\", \"work\", \"take\", \"sever\", \"dose\", \"help\", \"tri\", \"prescrib\", \"medicin\", \"back\", \"medic\", \"mg\", \"day\", \"took\", \"doctor\", \"use\", \"still\", \"time\", \"well\", \"year\", \"effect\", \"get\", \"drug\", \"also\", \"would\", \"headach\", \"gain\", \"weight\", \"acn\", \"hair\", \"depo\", \"triptan\", \"zyprexa\", \"metformin\", \"seizur\", \"yaz\", \"bug\", \"dhe\", \"lo\", \"risperidon\", \"ortho\", \"refriger\", \"sprintec\", \"pimpl\", \"everytim\", \"heck\", \"lifestyl\", \"cystic\", \"mitig\", \"input\", \"loestrin\", \"iraq\", \"zolmitriptan\", \"implanon\", \"ingredi\", \"chin\", \"yasmin\", \"lb\", \"sumatriptan\", \"pound\", \"diet\", \"swing\", \"lose\", \"exercis\", \"lost\", \"weigh\", \"control\", \"mood\", \"birth\", \"shot\", \"month\", \"loss\", \"pill\", \"switch\", \"skin\", \"year\", \"face\", \"start\", \"sinc\", \"eat\", \"period\", \"also\", \"first\", \"get\", \"back\", \"take\", \"never\", \"time\", \"stop\", \"week\", \"would\", \"tri\", \"prep\", \"victoza\", \"colonoscopi\", \"toilet\", \"drank\", \"saxenda\", \"b\", \"miralax\", \"suprep\", \"inkl\", \"contrav\", \"trulic\", \"explod\", \"oz\", \"phentermin\", \"poop\", \"straw\", \"lemon\", \"meal\", \"unprotect\", \"clot\", \"bought\", \"abort\", \"achi\", \"migran\", \"breakfast\", \"hallway\", \"soften\", \"purs\", \"ovul\", \"bathroom\", \"water\", \"drink\", \"insid\", \"lax\", \"bottl\", \"chill\", \"constip\", \"plan\", \"took\", \"tast\", \"bowel\", \"min\", \"hour\", \"later\", \"vomit\", \"diarrhea\", \"pill\", \"woke\", \"next\", \"blood\", \"day\", \"morn\", \"today\", \"stomach\", \"work\", \"go\", \"second\", \"take\", \"time\", \"one\", \"nausea\", \"start\", \"like\", \"went\", \"felt\", \"week\", \"first\", \"got\", \"still\", \"get\", \"patch\", \"cost\", \"compani\", \"site\", \"ritalin\", \"tongu\", \"gel\", \"durat\", \"catch\", \"contain\", \"potenti\", \"opiat\", \"sciatica\", \"appli\", \"ignor\", \"pad\", \"toe\", \"gentl\", \"sting\", \"administr\", \"towel\", \"ed\", \"deliveri\", \"shorten\", \"conscious\", \"needl\", \"swore\", \"agoni\", \"spine\", \"inject\", \"pay\", \"cover\", \"insur\", \"limit\", \"brand\", \"number\", \"red\", \"whatev\", \"expens\", \"use\", \"assum\", \"sign\", \"box\", \"drug\", \"gener\", \"read\", \"wish\", \"prior\", \"give\", \"peopl\", \"one\", \"tri\", \"doctor\", \"effect\", \"experi\", \"medic\", \"even\", \"say\", \"review\", \"pleas\", \"howev\", \"side\", \"bad\", \"would\", \"thing\"], \"Freq\": [8889.0, 12686.0, 7244.0, 7192.0, 5769.0, 9245.0, 8553.0, 10482.0, 12695.0, 15782.0, 5089.0, 13376.0, 5796.0, 4761.0, 8237.0, 19383.0, 5587.0, 3579.0, 13475.0, 2758.0, 4846.0, 6961.0, 8102.0, 2712.0, 3391.0, 4022.0, 13059.0, 5900.0, 4053.0, 12263.0, 2216.5506175855085, 1671.0368994551493, 1283.9712181854109, 1061.6476934108136, 927.5478905519323, 950.7469698725937, 931.2914929913268, 744.9692518492963, 783.0313803176074, 673.0670438435131, 550.8536389902945, 590.9495953721834, 811.2275424914295, 603.4970847406142, 575.041567597904, 507.22295615174585, 409.4241301797703, 511.35126908531697, 480.1428697681498, 387.2690565771841, 386.8431471476812, 367.26613153622395, 383.141604293488, 459.23143523510566, 312.2461508340115, 308.988179441541, 345.4396016685731, 312.150543858754, 307.2958050110255, 274.6651069361101, 5077.364872224474, 857.4725802941012, 393.1403351861036, 4850.490979301461, 375.0049455350249, 656.3540464990822, 838.7435667465516, 3398.531233291973, 1001.2660697942094, 3498.2070618024563, 810.6656503816583, 4342.909917962548, 843.3318034894726, 5614.672630571644, 2767.1554913423347, 2034.6262973053192, 2931.094175049716, 1460.337536411223, 5368.378285475325, 2394.8067732588356, 3565.44671781958, 2448.4836349918105, 3434.7614497913205, 2552.652504885115, 2988.4107625241145, 2974.9289441673463, 2554.528871291106, 1465.8657524960095, 1288.410525080377, 2600.218153791812, 2686.2699696183336, 2051.405227914096, 1415.5466227018987, 1532.6601157516604, 1697.42188009613, 1909.7470481737096, 1815.2547267632492, 1523.8834328425894, 1506.9027359674378, 1492.4316941281234, 663.3956205798171, 422.30598839471065, 353.3006313552781, 234.80140829448527, 205.90787211003794, 205.5639853135092, 189.0443309047371, 178.61378542070105, 154.510578708216, 137.65597297495486, 124.87705942581239, 122.59152605831862, 111.04192009880775, 105.9393789331242, 111.37291203544585, 154.4360162035512, 96.80401866551261, 96.65451418501465, 92.76121875587353, 96.79671563548015, 213.19377582109436, 85.29035506949485, 94.606171777242, 83.1795144762777, 90.38088203479165, 105.13376880254283, 148.5223088765949, 73.133179970283, 68.38451356867263, 55.47363355086015, 1366.1258764224979, 847.2278362290502, 1510.2225061404183, 1190.965536387816, 1016.1481810106587, 275.7197700583894, 7877.067667764471, 579.4013242264173, 1113.5372654596056, 8445.819169450211, 262.20045814095545, 674.3666046059224, 747.6820954131825, 7651.168853554896, 250.64188091023803, 1657.2786100208284, 1060.098216696707, 1676.196493574262, 2128.358872544367, 823.8335102983832, 515.9582698923788, 376.21716728582106, 5054.980282834774, 2620.515507905601, 482.9655859097086, 1816.259674124918, 1339.156330659937, 2430.614273824055, 1737.8397949149662, 3942.505765761226, 3985.7598656441805, 2641.6091789007073, 1809.0370633408097, 5062.5076161269035, 2923.803299877879, 4142.287799001365, 1129.911517972398, 1616.3910355403946, 1199.3501022090898, 2748.8302610840296, 1604.424605561864, 2344.3553508165874, 1738.1694909217654, 1540.6170870702051, 1698.5606054016826, 1717.2787009648944, 1735.106227814814, 1475.7984855500517, 7244.353302184047, 2758.261488994575, 1970.3162525252517, 1556.4382579394264, 899.7232050075576, 883.4687081122418, 737.088541136308, 536.677663884993, 572.165714114343, 468.7417093767926, 413.7631689294215, 404.56852402106256, 348.7159025565771, 337.32378602579524, 293.05274477192836, 256.3967481932178, 253.6402859896672, 267.2852802829663, 210.66207711751267, 196.08404019277407, 207.86210075775278, 196.95754209855545, 190.26899475000488, 213.74650488343067, 166.3577436958496, 166.14341863180906, 167.8155554689467, 178.02604246166214, 153.29673604493615, 148.21366039169837, 168.08497691585703, 234.16461024760727, 316.09404939453293, 424.13502596846934, 4305.49570156726, 1837.5977259265153, 1660.177945692002, 830.4844385479292, 1994.4768850806536, 505.784579261374, 6501.23591578144, 618.0576206508168, 836.752793487402, 393.16811138374254, 3732.5040938857924, 655.9533733841828, 5193.515686048853, 4668.959549620144, 1060.5603611719225, 4433.901330182564, 2170.3911913325915, 2292.170924364955, 4401.3555964915495, 2861.255820058432, 1401.4814251859975, 2272.7190325906654, 1436.8133577741285, 1783.155658056811, 1766.7427270749442, 1746.9193421143723, 2121.0916321001396, 2285.9178148680166, 1409.0870155319496, 1279.487394025004, 1852.1316426483006, 1804.83510830743, 1587.0477665577396, 1406.3608287301813, 1099.1639905247694, 1157.83341030313, 863.152007090235, 783.2583316175989, 725.6461489635, 648.4921524072599, 604.2887930449531, 614.5730357773843, 704.9153774664726, 522.857915633796, 510.942423081181, 509.6673261764991, 438.8426451835795, 427.8363177779035, 436.28726805346497, 375.9075394543978, 367.11302051113654, 359.6766384771619, 346.42595990456385, 342.3336212992622, 369.09540023496066, 338.21061025982726, 319.6549364895883, 314.50597527743355, 307.9966862678399, 283.2930330061116, 264.42160416044874, 333.8804534174002, 245.26634842646052, 237.390452854601, 7179.742678276636, 343.8237725788034, 1403.3354662330082, 7492.468984420637, 726.7034929603544, 2621.607999578653, 441.4932992301742, 754.6327748179347, 2027.6548015469712, 2590.95309255063, 4559.525091130295, 6342.455334859999, 2239.432462711053, 1855.2210029506368, 2461.5002446001704, 2632.9815946494823, 1389.410822372073, 1908.0196974613762, 2079.622241030922, 2206.9632865476783, 1144.1855664575435, 2789.698068513275, 1882.3452670029603, 1622.8892841217203, 1618.2604183824205, 1520.0876821278569, 1968.8282790571966, 1265.41574399066, 1755.294808066024, 1697.4725673307792, 1686.3752379123348, 1310.1236488635698, 1355.5839367897827, 1293.38836268462, 1174.0744107403852, 5769.628764890155, 8888.339354573889, 1780.017145645194, 901.2355186668316, 833.4325908645661, 523.9565067864338, 473.83091691160183, 356.4872654588741, 317.20135123437154, 320.51914299112326, 270.62833922907106, 246.68613270304945, 212.24652736208841, 191.65629046821158, 201.96076573114067, 183.29436847488876, 207.01766819942526, 189.74366952250958, 175.72581909218147, 163.31341565598345, 160.38782747140328, 150.0462688579003, 127.65308381208784, 124.85716283415148, 132.73984744978245, 120.1165895290292, 116.67239181328569, 888.4574997211377, 115.09436301759722, 117.71347693646531, 116.67157353660208, 2543.422329472684, 1209.7381618276281, 2966.066363509914, 1184.3628563515733, 1452.1429286131226, 1658.9782278438477, 1128.963390237398, 2675.2810945386354, 686.5216143448113, 3050.8400176756236, 1892.7501518992553, 2111.0058423258497, 1834.8131267756771, 6736.453642480224, 1246.257399571321, 3601.8321489063724, 1110.2991869113848, 752.4897997953046, 3718.272778672883, 735.6672170888386, 2872.414525918028, 1940.3730010305253, 1392.0153886666442, 2181.157912036809, 1652.2781309222464, 2028.7077953232379, 2323.2593191102073, 1571.019983134577, 2158.3486273678477, 1539.0866051073951, 1669.809270082211, 1450.9627127355673, 1406.1962896204902, 1348.4354430246144, 1269.4097437751088, 781.2238971848876, 647.1307165401084, 495.2773781212092, 472.2607280846389, 458.9180393030652, 426.808612570164, 416.426824484315, 325.72880613102, 290.33737350506453, 272.9134771956014, 279.8319671138274, 258.05765736474086, 248.67243028899608, 241.9707915802221, 238.45428252694646, 193.74050676132052, 186.26979678569134, 180.57688782088533, 288.8367937396581, 194.5635540138617, 185.99164649023416, 183.75292735932078, 171.98528807973275, 169.04466253489176, 162.3264284420611, 158.24248841405256, 140.08263873917775, 145.7175002931203, 149.79004579563218, 165.8295664614206, 622.7759794118809, 1563.4032221447533, 1421.4545772909078, 592.2028371126091, 343.3534683325674, 461.5293621502194, 494.409645383387, 856.5156426666625, 734.4107051444201, 4611.227879924979, 917.1587100432723, 538.0209302176248, 549.1646486366844, 2855.3527415241997, 1440.7744461330115, 1071.1903246904503, 561.7828241200118, 2778.5844987114015, 705.3876190793779, 1202.5378163488854, 881.6574855625313, 4234.8933901881865, 943.0482378383973, 909.8869078596464, 959.8633149046569, 2349.32140880092, 1894.4401465738074, 1019.4725499695379, 2532.0946255675376, 1971.516323933361, 1498.998558670852, 960.3993221280201, 1621.2157837313218, 1504.5252041117442, 1069.5297661514041, 1151.1717690433038, 1325.5059324420847, 1189.2478101696079, 984.4716280439371, 890.2379731365328, 884.5287238210145, 1272.18627869213, 386.43895935593844, 273.5342995083512, 234.43496180685892, 213.6948044592282, 217.42701350655426, 203.06831963303202, 190.9661653891526, 186.86456194092227, 190.94044709554908, 176.1357443115499, 150.00526565971583, 145.16637631718237, 155.40575269783207, 133.71453352820689, 133.0739825287874, 124.67333749128117, 122.82952328118128, 122.66610319822124, 119.91178033887074, 118.45716851286417, 118.75047188883246, 118.42095519662467, 114.5010346905351, 111.67250366228066, 115.00788602507872, 116.57102803689611, 101.14203605041781, 135.66605048065958, 1270.811844448546, 404.14526993481667, 533.6506745817529, 726.0067930009777, 243.3566260373023, 209.9938525106941, 273.390712738482, 289.83908973534596, 166.73384203002917, 270.3818750260833, 1266.5029241975772, 190.6780124265455, 216.857580428022, 182.5174104248726, 775.5804503653954, 391.34124099931734, 422.21008305683534, 324.615795265708, 274.2867833437201, 483.7559691556213, 430.0612380918079, 607.3835532087676, 573.972061837743, 524.6762228360077, 619.6742970146721, 400.8524502503034, 486.59278306175656, 433.6151921770336, 387.24411250040083, 305.3401790655802, 274.00459135133104, 306.9457233329711, 345.5932093599767, 327.21400149711064, 329.6697861341258, 304.1043838177184], \"Total\": [8889.0, 12686.0, 7244.0, 7192.0, 5769.0, 9245.0, 8553.0, 10482.0, 12695.0, 15782.0, 5089.0, 13376.0, 5796.0, 4761.0, 8237.0, 19383.0, 5587.0, 3579.0, 13475.0, 2758.0, 4846.0, 6961.0, 8102.0, 2712.0, 3391.0, 4022.0, 13059.0, 5900.0, 4053.0, 12263.0, 2216.861500910316, 1671.304369659671, 1284.2396571775691, 1061.9072965173623, 927.7869052777908, 951.0041126470522, 931.5711050241007, 745.2150509045917, 783.2927923374176, 673.3025492631429, 551.0908847773984, 591.2042713439146, 811.5809205197112, 603.7643464818774, 575.3108062508771, 507.49218098239703, 409.67802749917644, 511.6696109639176, 480.44712472972026, 387.5232365373613, 387.09759942561783, 367.5147085514498, 383.4233838076017, 459.5787125981916, 312.49481575162855, 309.2424079724527, 345.7328465130985, 312.42242301369083, 307.56554683225045, 274.9089063582131, 5089.721147933807, 859.6882603422406, 393.6097053179399, 5900.67196660109, 380.06008414810015, 700.6753389094556, 935.6157452818306, 4765.085334242002, 1191.7386944294512, 5587.50048796805, 959.7470095335214, 8102.8418437070695, 1031.945544715461, 13475.65599335257, 5300.691792993549, 3566.912864889427, 7453.7329720720845, 2605.1717739046962, 21299.76868724062, 5911.83220684209, 13059.910959592622, 6849.738622464736, 13376.810926122054, 8518.111759741272, 11823.187950612606, 12874.463677910368, 9459.986795467865, 3099.6793182898714, 2335.0046893271183, 12292.7255608387, 19383.59348433543, 9387.389628495952, 3723.153533797749, 4882.741618221586, 7049.703197085914, 15782.601284342827, 14348.75891133194, 6458.390000668639, 8553.488742046535, 5672.745455393423, 663.6481503824998, 422.56815930827867, 353.5802892392795, 235.0520107331032, 206.14265039519637, 205.8034007824666, 189.28316549592247, 178.85498380963722, 154.74801434495706, 137.90450101677027, 125.11242817943048, 122.83102793382434, 111.27784353024235, 106.17166797017333, 111.61973611083593, 154.79595977513696, 97.03382222040057, 96.88671763253755, 92.98794551585617, 97.03353048099967, 213.71642430885026, 85.51533887643333, 94.8601029703422, 83.40330214957294, 90.6248350423348, 105.41906841304774, 149.00476911096868, 73.3733834790647, 68.61956999701727, 55.705804500487986, 1430.060823420348, 885.4484416711782, 1622.6640937984732, 1271.659385701375, 1082.0624891360583, 288.4115882176096, 10482.368940564173, 660.6462709532858, 1349.173225550926, 12695.932407762159, 288.71457788967945, 833.1477215035776, 941.5841230249015, 13376.810926122054, 279.39217129933155, 2482.892047508928, 1494.9472584484586, 2731.692382302067, 3782.020567941981, 1199.8105561015352, 679.6126878985925, 462.50685244825985, 12263.631134076863, 5672.745455393423, 637.1547252026505, 3695.3420815012323, 2505.674305196259, 5607.744498134278, 3749.0651857986268, 11823.187950612606, 12292.7255608387, 7049.703197085914, 4225.024350264712, 19383.59348433543, 10385.61846331574, 21299.76868724062, 2133.897193697228, 4161.017326726781, 2405.3377381626788, 14348.75891133194, 4946.428178940022, 12874.463677910368, 6560.257453571241, 4882.741618221586, 6736.85794242714, 9387.389628495952, 15782.601284342827, 13059.910959592622, 7244.6101048984265, 2758.524245734899, 1970.5387412512464, 1556.6830035597275, 899.9430685116018, 883.7069626716453, 737.3235259490266, 536.8973154542124, 572.4021152448338, 468.9582278842275, 413.98288086522564, 404.7925514630567, 348.9279518853149, 337.536386654775, 293.2838570731594, 256.6133203352236, 253.85958947791377, 267.518213049005, 210.88471083483827, 196.2929063310639, 208.0841229907564, 197.170832052304, 190.47611054444124, 213.9856715498597, 166.5621124528325, 166.35043880881707, 168.03401987880494, 178.26430448459683, 153.50352068820104, 148.41602157315435, 168.33764342419016, 235.41302574658272, 319.60403511524646, 434.14375431322907, 4761.846683796402, 1999.1436914786825, 1863.3471143337156, 906.943744282831, 2318.461395336837, 550.2827648649846, 9245.99231856096, 692.5941900042897, 997.5955124132264, 425.7969103970257, 7495.226177922058, 834.1285883522884, 12686.997680402881, 14348.75891133194, 1883.782148305013, 15782.601284342827, 5479.023742872516, 6460.73161178702, 19383.59348433543, 12263.631134076863, 3831.400931880631, 9459.986795467865, 4118.162783181097, 6858.329749788403, 6736.85794242714, 6685.209530850719, 10385.61846331574, 13475.65599335257, 4393.104926778902, 3391.018618784647, 11823.187950612606, 12874.463677910368, 9387.389628495952, 7507.323480946187, 1099.4348120285463, 1158.1251245169547, 863.4388507304117, 783.541446958521, 725.9464504063453, 648.7647734418507, 604.5538660871148, 614.8442651391271, 705.2633699563166, 523.1204363194471, 511.21176843515684, 509.94431130474777, 439.1154902040673, 428.10238886998536, 436.56574117529385, 376.16754289100186, 367.3885479078972, 359.9512855600005, 346.69398650581167, 342.6039968309485, 369.3904359337482, 338.48521898711016, 319.9219085517018, 314.77040379850035, 308.26727717389167, 283.55420001453484, 264.6799859589006, 334.21701137791575, 245.53989504503133, 237.66483801867133, 7192.228707361543, 344.3362636021021, 1536.647110639971, 12686.997680402881, 859.333523095299, 4053.46696601853, 475.04053400564817, 930.8807688099732, 3316.475889878876, 5796.125717497655, 13059.910959592622, 21299.76868724062, 4821.189073773374, 3750.974042918513, 7453.7329720720845, 8518.111759741272, 3099.6793182898714, 5300.691792993549, 6458.390000668639, 8102.8418437070695, 2605.1717739046962, 19383.59348433543, 8553.488742046535, 6849.738622464736, 6961.542398662936, 6147.086642927838, 12874.463677910368, 4024.498336821742, 13475.65599335257, 12695.932407762159, 14348.75891133194, 5587.50048796805, 6560.257453571241, 9459.986795467865, 3782.020567941981, 5769.915813794167, 8889.05381864877, 1780.320230645811, 901.482793548792, 833.677535800121, 524.1783536572151, 474.05954862232034, 356.70970154128185, 317.43451050583514, 320.76045301132655, 270.84903822360786, 246.90158653052646, 212.48343981212125, 191.8772482478351, 202.1963472613059, 183.5113585352736, 207.26671381182226, 189.97660098094306, 175.9477886476131, 163.5354359299789, 160.6281799195514, 150.27572293157274, 127.8651639324296, 125.07245960437974, 132.9734500531079, 120.32844865263826, 116.88328091413145, 890.144019185378, 115.31616947966549, 117.94426680780174, 116.90131311205539, 2712.5862590717384, 1275.683254645016, 3579.403434732248, 1349.681676116904, 1705.0169629706597, 2072.771196983975, 1395.608583323823, 4022.0832361660355, 849.7712823488134, 4846.012757751964, 2958.2684108677977, 3391.018618784647, 3014.391447128458, 15782.601284342827, 2030.0279972475548, 8237.470820693932, 1839.4966569393052, 1164.476067325612, 13475.65599335257, 1224.3719846151648, 12292.7255608387, 6460.73161178702, 3695.3420815012323, 9245.99231856096, 6560.257453571241, 10385.61846331574, 14348.75891133194, 6458.390000668639, 21299.76868724062, 6685.209530850719, 12874.463677910368, 6858.329749788403, 12263.631134076863, 9459.986795467865, 8518.111759741272, 781.4814937019809, 647.3835884066334, 495.5290045743797, 472.519230839067, 459.17828005119577, 427.05454704213497, 416.708629604131, 325.9793223047408, 290.5865920317039, 273.156371678235, 280.0952830879997, 258.30201836173256, 248.92503984992084, 242.21881348447542, 238.70698018568658, 193.9910635481324, 186.51776700701254, 180.82125046306075, 289.2384408823174, 194.8345616436215, 186.25115731639738, 184.01616630464295, 172.23226084735373, 169.2916007181084, 162.56766192992927, 158.50754791053907, 140.3193305515924, 145.96597436182455, 150.046156556735, 166.11564564463086, 639.7386183950831, 1690.8974207654987, 1615.0595602528276, 642.3734464251966, 366.64177807527636, 506.3536978198444, 548.0921389520088, 1123.662132737222, 951.5572088385828, 8553.488742046535, 1286.9584520229196, 679.247546592464, 710.5914798737119, 5796.125717497655, 2574.1809423246273, 1817.2721413928361, 784.8712481356384, 8237.470820693932, 1126.0874235644947, 2569.2267001358855, 1635.4282414786248, 19383.59348433543, 1866.466612599612, 1890.797611614123, 2220.743829427552, 13059.910959592622, 9387.389628495952, 2832.771689361758, 21299.76868724062, 12874.463677910368, 7507.323480946187, 2731.692382302067, 12292.7255608387, 11823.187950612606, 5091.220338122449, 7049.703197085914, 12263.631134076863, 10385.61846331574, 7495.226177922058, 6147.086642927838, 14348.75891133194, 1272.4880913626246, 386.78794137542565, 273.8081319497653, 234.70862281710805, 213.95060604510797, 217.68849469603254, 203.32604949399467, 191.22096909787834, 187.11980287507603, 191.22233314014878, 176.40053801213216, 150.26467711486245, 145.42063052539987, 155.6941339475053, 133.97477352049583, 133.34272524492195, 124.92807409949263, 123.08074380970824, 122.9184946551902, 120.15966226691052, 118.70469525885183, 118.99961449467936, 118.67113304462968, 114.75281346847477, 111.91923421022413, 115.26951881374364, 116.8438008127902, 101.39562693356943, 136.0069926749786, 1274.0780598417073, 405.7073429935433, 542.0934260223527, 767.6349488938064, 315.3360529849558, 263.0102177165356, 388.9163505845321, 436.9802678547293, 204.2148381845926, 482.3774006540063, 6961.542398662936, 265.19705443765156, 344.42021849119715, 250.92453635720727, 5587.50048796805, 1316.4812446906117, 1606.7813808367089, 901.7411914230946, 659.980085047438, 2801.8400799502847, 2337.1189461783033, 7507.323480946187, 8518.111759741272, 6849.738622464736, 12695.932407762159, 3595.549550252683, 8102.8418437070695, 5163.391019060386, 3301.22374877657, 1452.9188879077115, 875.2178058625641, 2252.5080670887014, 10482.368940564173, 6736.85794242714, 9459.986795467865, 4882.741618221586], \"Category\": [\"Default\", \"Default\", \"Default\", \"Default\", \"Default\", \"Default\", \"Default\", \"Default\", \"Default\", \"Default\", \"Default\", \"Default\", \"Default\", \"Default\", \"Default\", \"Default\", \"Default\", \"Default\", \"Default\", \"Default\", \"Default\", \"Default\", \"Default\", \"Default\", \"Default\", \"Default\", \"Default\", \"Default\", \"Default\", \"Default\", \"Topic1\", \"Topic1\", \"Topic1\", \"Topic1\", \"Topic1\", \"Topic1\", \"Topic1\", \"Topic1\", \"Topic1\", \"Topic1\", \"Topic1\", \"Topic1\", \"Topic1\", \"Topic1\", \"Topic1\", \"Topic1\", \"Topic1\", \"Topic1\", \"Topic1\", \"Topic1\", \"Topic1\", \"Topic1\", \"Topic1\", \"Topic1\", \"Topic1\", \"Topic1\", \"Topic1\", \"Topic1\", \"Topic1\", \"Topic1\", \"Topic1\", \"Topic1\", \"Topic1\", \"Topic1\", \"Topic1\", \"Topic1\", \"Topic1\", \"Topic1\", \"Topic1\", \"Topic1\", \"Topic1\", \"Topic1\", \"Topic1\", \"Topic1\", \"Topic1\", \"Topic1\", \"Topic1\", \"Topic1\", \"Topic1\", \"Topic1\", \"Topic1\", \"Topic1\", \"Topic1\", \"Topic1\", \"Topic1\", \"Topic1\", \"Topic1\", \"Topic1\", \"Topic1\", \"Topic1\", \"Topic1\", \"Topic1\", \"Topic1\", \"Topic1\", \"Topic1\", \"Topic1\", \"Topic1\", \"Topic1\", \"Topic1\", \"Topic1\", \"Topic2\", \"Topic2\", \"Topic2\", \"Topic2\", \"Topic2\", \"Topic2\", \"Topic2\", \"Topic2\", \"Topic2\", \"Topic2\", \"Topic2\", \"Topic2\", \"Topic2\", \"Topic2\", \"Topic2\", \"Topic2\", \"Topic2\", \"Topic2\", \"Topic2\", \"Topic2\", \"Topic2\", \"Topic2\", \"Topic2\", \"Topic2\", \"Topic2\", \"Topic2\", \"Topic2\", \"Topic2\", \"Topic2\", \"Topic2\", \"Topic2\", \"Topic2\", \"Topic2\", \"Topic2\", \"Topic2\", \"Topic2\", \"Topic2\", \"Topic2\", \"Topic2\", \"Topic2\", \"Topic2\", \"Topic2\", \"Topic2\", \"Topic2\", \"Topic2\", \"Topic2\", \"Topic2\", \"Topic2\", \"Topic2\", \"Topic2\", \"Topic2\", \"Topic2\", \"Topic2\", \"Topic2\", \"Topic2\", \"Topic2\", \"Topic2\", \"Topic2\", \"Topic2\", \"Topic2\", \"Topic2\", \"Topic2\", \"Topic2\", \"Topic2\", \"Topic2\", \"Topic2\", \"Topic2\", \"Topic2\", \"Topic2\", \"Topic2\", \"Topic2\", \"Topic2\", \"Topic2\", \"Topic2\", \"Topic2\", \"Topic2\", \"Topic2\", \"Topic2\", \"Topic3\", \"Topic3\", \"Topic3\", \"Topic3\", \"Topic3\", \"Topic3\", \"Topic3\", \"Topic3\", \"Topic3\", \"Topic3\", \"Topic3\", \"Topic3\", \"Topic3\", \"Topic3\", \"Topic3\", \"Topic3\", \"Topic3\", \"Topic3\", \"Topic3\", \"Topic3\", \"Topic3\", \"Topic3\", \"Topic3\", \"Topic3\", \"Topic3\", \"Topic3\", \"Topic3\", \"Topic3\", \"Topic3\", \"Topic3\", \"Topic3\", \"Topic3\", \"Topic3\", \"Topic3\", \"Topic3\", \"Topic3\", \"Topic3\", \"Topic3\", \"Topic3\", \"Topic3\", \"Topic3\", \"Topic3\", \"Topic3\", \"Topic3\", \"Topic3\", \"Topic3\", \"Topic3\", \"Topic3\", \"Topic3\", \"Topic3\", \"Topic3\", \"Topic3\", \"Topic3\", \"Topic3\", \"Topic3\", \"Topic3\", \"Topic3\", \"Topic3\", \"Topic3\", \"Topic3\", \"Topic3\", \"Topic3\", \"Topic3\", \"Topic3\", \"Topic3\", \"Topic3\", \"Topic3\", \"Topic3\", \"Topic4\", \"Topic4\", \"Topic4\", \"Topic4\", \"Topic4\", \"Topic4\", \"Topic4\", \"Topic4\", \"Topic4\", \"Topic4\", \"Topic4\", \"Topic4\", \"Topic4\", \"Topic4\", \"Topic4\", \"Topic4\", \"Topic4\", \"Topic4\", \"Topic4\", \"Topic4\", \"Topic4\", \"Topic4\", \"Topic4\", \"Topic4\", \"Topic4\", \"Topic4\", \"Topic4\", \"Topic4\", \"Topic4\", \"Topic4\", \"Topic4\", \"Topic4\", \"Topic4\", \"Topic4\", \"Topic4\", \"Topic4\", \"Topic4\", \"Topic4\", \"Topic4\", \"Topic4\", \"Topic4\", \"Topic4\", \"Topic4\", \"Topic4\", \"Topic4\", \"Topic4\", \"Topic4\", \"Topic4\", \"Topic4\", \"Topic4\", \"Topic4\", \"Topic4\", \"Topic4\", \"Topic4\", \"Topic4\", \"Topic4\", \"Topic4\", \"Topic4\", \"Topic4\", \"Topic4\", \"Topic4\", \"Topic4\", \"Topic4\", \"Topic4\", \"Topic4\", \"Topic5\", \"Topic5\", \"Topic5\", \"Topic5\", \"Topic5\", \"Topic5\", \"Topic5\", \"Topic5\", \"Topic5\", \"Topic5\", \"Topic5\", \"Topic5\", \"Topic5\", \"Topic5\", \"Topic5\", \"Topic5\", \"Topic5\", \"Topic5\", \"Topic5\", \"Topic5\", \"Topic5\", \"Topic5\", \"Topic5\", \"Topic5\", \"Topic5\", \"Topic5\", \"Topic5\", \"Topic5\", \"Topic5\", \"Topic5\", \"Topic5\", \"Topic5\", \"Topic5\", \"Topic5\", \"Topic5\", \"Topic5\", \"Topic5\", \"Topic5\", \"Topic5\", \"Topic5\", \"Topic5\", \"Topic5\", \"Topic5\", \"Topic5\", \"Topic5\", \"Topic5\", \"Topic5\", \"Topic5\", \"Topic5\", \"Topic5\", \"Topic5\", \"Topic5\", \"Topic5\", \"Topic5\", \"Topic5\", \"Topic5\", \"Topic5\", \"Topic5\", \"Topic5\", \"Topic5\", \"Topic5\", \"Topic5\", \"Topic5\", \"Topic5\", \"Topic5\", \"Topic5\", \"Topic6\", \"Topic6\", \"Topic6\", \"Topic6\", \"Topic6\", \"Topic6\", \"Topic6\", \"Topic6\", \"Topic6\", \"Topic6\", \"Topic6\", \"Topic6\", \"Topic6\", \"Topic6\", \"Topic6\", \"Topic6\", \"Topic6\", \"Topic6\", \"Topic6\", \"Topic6\", \"Topic6\", \"Topic6\", \"Topic6\", \"Topic6\", \"Topic6\", \"Topic6\", \"Topic6\", \"Topic6\", \"Topic6\", \"Topic6\", \"Topic6\", \"Topic6\", \"Topic6\", \"Topic6\", \"Topic6\", \"Topic6\", \"Topic6\", \"Topic6\", \"Topic6\", \"Topic6\", \"Topic6\", \"Topic6\", \"Topic6\", \"Topic6\", \"Topic6\", \"Topic6\", \"Topic6\", \"Topic6\", \"Topic6\", \"Topic6\", \"Topic6\", \"Topic6\", \"Topic6\", \"Topic6\", \"Topic6\", \"Topic6\", \"Topic6\", \"Topic6\", \"Topic6\", \"Topic6\", \"Topic6\", \"Topic6\", \"Topic6\", \"Topic6\", \"Topic6\", \"Topic6\", \"Topic6\", \"Topic6\", \"Topic6\", \"Topic6\", \"Topic6\", \"Topic7\", \"Topic7\", \"Topic7\", \"Topic7\", \"Topic7\", \"Topic7\", \"Topic7\", \"Topic7\", \"Topic7\", \"Topic7\", \"Topic7\", \"Topic7\", \"Topic7\", \"Topic7\", \"Topic7\", \"Topic7\", \"Topic7\", \"Topic7\", \"Topic7\", \"Topic7\", \"Topic7\", \"Topic7\", \"Topic7\", \"Topic7\", \"Topic7\", \"Topic7\", \"Topic7\", \"Topic7\", \"Topic7\", \"Topic7\", \"Topic7\", \"Topic7\", \"Topic7\", \"Topic7\", \"Topic7\", \"Topic7\", \"Topic7\", \"Topic7\", \"Topic7\", \"Topic7\", \"Topic7\", \"Topic7\", \"Topic7\", \"Topic7\", \"Topic7\", \"Topic7\", \"Topic7\", \"Topic7\", \"Topic7\", \"Topic7\", \"Topic7\", \"Topic7\", \"Topic7\", \"Topic7\", \"Topic7\", \"Topic7\", \"Topic7\", \"Topic7\", \"Topic7\", \"Topic7\", \"Topic7\", \"Topic7\", \"Topic7\", \"Topic7\", \"Topic7\"], \"logprob\": [30.0, 29.0, 28.0, 27.0, 26.0, 25.0, 24.0, 23.0, 22.0, 21.0, 20.0, 19.0, 18.0, 17.0, 16.0, 15.0, 14.0, 13.0, 12.0, 11.0, 10.0, 9.0, 8.0, 7.0, 6.0, 5.0, 4.0, 3.0, 2.0, 1.0, -4.9768, -5.2593, -5.5228, -5.713, -5.848, -5.8233, -5.844, -6.0672, -6.0174, -6.1687, -6.3691, -6.2988, -5.982, -6.2778, -6.3261, -6.4516, -6.6658, -6.4435, -6.5065, -6.7214, -6.7225, -6.7745, -6.7321, -6.551, -6.9367, -6.9472, -6.8357, -6.9371, -6.9527, -7.065, -4.148, -5.9266, -6.7064, -4.1937, -6.7536, -6.1938, -5.9486, -4.5494, -5.7715, -4.5205, -5.9827, -4.3042, -5.9432, -4.0474, -4.755, -5.0625, -4.6974, -5.3941, -4.0923, -4.8995, -4.5015, -4.8773, -4.5388, -4.8357, -4.678, -4.6826, -4.8349, -5.3903, -5.5194, -4.8172, -4.7846, -5.0543, -5.4253, -5.3458, -5.2437, -5.1258, -5.1766, -5.3515, -5.3627, -5.3724, -5.9158, -6.3674, -6.5458, -6.9544, -7.0857, -7.0874, -7.1711, -7.2279, -7.3729, -7.4884, -7.5858, -7.6043, -7.7032, -7.7503, -7.7002, -7.3733, -7.8404, -7.842, -7.8831, -7.8405, -7.0509, -7.9671, -7.8634, -7.9921, -7.9091, -7.7579, -7.4124, -8.1208, -8.188, -8.3972, -5.1934, -5.6712, -5.0931, -5.3306, -5.4894, -6.7937, -3.4414, -6.0511, -5.3978, -3.3717, -6.844, -5.8994, -5.7961, -3.4705, -6.8891, -5.0002, -5.447, -4.9888, -4.75, -5.6992, -6.1671, -6.483, -3.885, -4.542, -6.2332, -4.9086, -5.2133, -4.6172, -4.9527, -4.1336, -4.1226, -4.534, -4.9126, -3.8835, -4.4325, -4.0841, -5.3832, -5.0252, -5.3236, -4.4942, -5.0326, -4.6534, -4.9525, -5.0732, -4.9756, -4.9646, -4.9543, -5.1162, -3.4638, -4.4294, -4.7658, -5.0016, -5.5497, -5.5679, -5.7491, -6.0664, -6.0024, -6.2017, -6.3265, -6.349, -6.4975, -6.5307, -6.6714, -6.8051, -6.8159, -6.7635, -7.0015, -7.0732, -7.0149, -7.0688, -7.1033, -6.987, -7.2376, -7.2389, -7.2289, -7.1699, -7.3194, -7.3531, -7.2273, -6.8958, -6.5957, -6.3017, -3.9841, -4.8356, -4.9371, -5.6298, -4.7537, -6.1257, -3.572, -5.9252, -5.6223, -6.3776, -4.127, -5.8657, -3.7966, -3.9031, -5.3852, -3.9548, -4.6691, -4.6145, -3.9621, -4.3928, -5.1065, -4.6231, -5.0816, -4.8656, -4.8749, -4.8862, -4.6921, -4.6173, -5.1011, -5.1976, -4.8277, -4.8536, -4.9822, -5.103, -5.3414, -5.2894, -5.5831, -5.6802, -5.7566, -5.869, -5.9396, -5.9228, -5.7856, -6.0844, -6.1074, -6.1099, -6.2595, -6.2849, -6.2654, -6.4143, -6.438, -6.4585, -6.496, -6.5079, -6.4326, -6.52, -6.5764, -6.5927, -6.6136, -6.6972, -6.7661, -6.5329, -6.8413, -6.874, -3.4647, -6.5036, -5.0971, -3.422, -5.7552, -4.4721, -6.2535, -5.7175, -4.7291, -4.4839, -3.9187, -3.5887, -4.6297, -4.8179, -4.5352, -4.4678, -5.1071, -4.7899, -4.7037, -4.6443, -5.3012, -4.41, -4.8034, -4.9517, -4.9546, -5.0172, -4.7585, -5.2005, -4.8733, -4.9068, -4.9134, -5.1658, -5.1317, -5.1787, -5.2755, -3.5642, -3.1321, -4.7402, -5.4208, -5.499, -5.9632, -6.0637, -6.3483, -6.4651, -6.4546, -6.6238, -6.7165, -6.8668, -6.9689, -6.9165, -7.0135, -6.8918, -6.9789, -7.0557, -7.1289, -7.147, -7.2136, -7.3753, -7.3974, -7.3362, -7.4361, -7.4652, -5.4351, -7.4788, -7.4563, -7.4652, -4.3833, -5.1264, -4.2296, -5.1476, -4.9438, -4.8106, -5.1955, -4.3328, -5.6929, -4.2014, -4.6788, -4.5697, -4.7099, -3.4093, -5.0967, -4.0354, -5.2122, -5.6012, -4.0036, -5.6238, -4.2617, -4.654, -4.9861, -4.537, -4.8147, -4.6094, -4.4739, -4.8651, -4.5475, -4.8856, -4.8041, -4.9446, -4.9759, -5.0179, -5.0783, -5.2998, -5.4881, -5.7556, -5.8032, -5.8318, -5.9043, -5.929, -6.1746, -6.2896, -6.3515, -6.3265, -6.4075, -6.4445, -6.4719, -6.4865, -6.6942, -6.7335, -6.7645, -6.2948, -6.6899, -6.735, -6.7471, -6.8133, -6.8305, -6.8711, -6.8966, -7.0185, -6.979, -6.9514, -6.8497, -5.5265, -4.6061, -4.7012, -5.5768, -6.1219, -5.8261, -5.7573, -5.2078, -5.3616, -3.5244, -5.1394, -5.6728, -5.6523, -4.0037, -4.6877, -4.9842, -5.6296, -4.031, -5.4019, -4.8685, -5.1789, -3.6096, -5.1116, -5.1474, -5.0939, -4.1988, -4.414, -5.0336, -4.1239, -4.3741, -4.6481, -5.0933, -4.5698, -4.6445, -4.9857, -4.9121, -4.7711, -4.8796, -5.0686, -5.1692, -5.1756, -4.0432, -5.2347, -5.5803, -5.7345, -5.8272, -5.8099, -5.8782, -5.9396, -5.9613, -5.9398, -6.0205, -6.181, -6.2138, -6.1457, -6.296, -6.3008, -6.366, -6.3809, -6.3823, -6.405, -6.4172, -6.4147, -6.4175, -6.4511, -6.4761, -6.4467, -6.4332, -6.5752, -6.2815, -4.0443, -5.1899, -4.912, -4.6042, -5.6972, -5.8446, -5.5808, -5.5224, -6.0753, -5.5919, -4.0477, -5.9411, -5.8125, -5.9849, -4.5381, -5.2221, -5.1462, -5.4091, -5.5775, -5.0101, -5.1278, -4.7826, -4.8391, -4.9289, -4.7625, -5.1981, -5.0043, -5.1196, -5.2327, -5.4703, -5.5786, -5.465, -5.3465, -5.4011, -5.3936, -5.4743], \"loglift\": [30.0, 29.0, 28.0, 27.0, 26.0, 25.0, 24.0, 23.0, 22.0, 21.0, 20.0, 19.0, 18.0, 17.0, 16.0, 15.0, 14.0, 13.0, 12.0, 11.0, 10.0, 9.0, 8.0, 7.0, 6.0, 5.0, 4.0, 3.0, 2.0, 1.0, 1.514, 1.514, 1.5139, 1.5139, 1.5139, 1.5139, 1.5138, 1.5138, 1.5138, 1.5138, 1.5137, 1.5137, 1.5137, 1.5137, 1.5137, 1.5136, 1.5135, 1.5135, 1.5135, 1.5135, 1.5135, 1.5135, 1.5134, 1.5134, 1.5133, 1.5133, 1.5133, 1.5133, 1.5133, 1.5133, 1.5117, 1.5116, 1.5129, 1.3182, 1.5007, 1.4488, 1.4048, 1.1762, 1.34, 1.0459, 1.3453, 0.8905, 1.3123, 0.6386, 0.8641, 0.9527, 0.5808, 0.9353, 0.136, 0.6105, 0.2159, 0.4854, 0.1546, 0.3091, 0.1388, 0.0491, 0.2049, 0.7653, 0.9195, -0.0393, -0.4621, -0.0067, 0.5471, 0.3554, 0.0903, -0.5978, -0.5533, 0.07, -0.2221, 0.1789, 1.7812, 1.7809, 1.7808, 1.7805, 1.7804, 1.7804, 1.7803, 1.7802, 1.78, 1.7797, 1.7797, 1.7796, 1.7794, 1.7794, 1.7793, 1.7792, 1.7792, 1.7792, 1.7791, 1.7791, 1.7791, 1.7789, 1.7789, 1.7789, 1.7789, 1.7788, 1.7783, 1.7783, 1.7781, 1.7774, 1.7358, 1.7374, 1.7097, 1.716, 1.7187, 1.7365, 1.4958, 1.6503, 1.5896, 1.3739, 1.6852, 1.5701, 1.551, 1.2229, 1.673, 1.3773, 1.4378, 1.2932, 1.2066, 1.4056, 1.5061, 1.5751, 0.8953, 1.0092, 1.5045, 1.0713, 1.155, 0.9455, 1.0127, 0.6833, 0.6553, 0.8, 0.9333, 0.439, 0.514, 0.1441, 1.1457, 0.836, 1.0856, 0.1291, 0.6556, 0.0783, 0.4534, 0.628, 0.4037, 0.0829, -0.4263, -0.3988, 1.8429, 1.8428, 1.8428, 1.8427, 1.8426, 1.8426, 1.8426, 1.8425, 1.8425, 1.8424, 1.8424, 1.8423, 1.8423, 1.8423, 1.8421, 1.842, 1.842, 1.842, 1.8418, 1.8418, 1.8418, 1.8418, 1.8418, 1.8418, 1.8417, 1.8416, 1.8416, 1.8416, 1.8415, 1.8415, 1.8414, 1.8376, 1.8318, 1.8196, 1.7421, 1.7586, 1.7274, 1.7548, 1.6924, 1.7586, 1.4907, 1.729, 1.6671, 1.7632, 1.1457, 1.6026, 0.9497, 0.7202, 1.2684, 0.5733, 0.9169, 0.8066, 0.3604, 0.3875, 0.8372, 0.4168, 0.7899, 0.4958, 0.5044, 0.5008, 0.2544, 0.0688, 0.7058, 0.8682, -0.0108, -0.1219, 0.0654, 0.168, 1.8507, 1.8507, 1.8507, 1.8506, 1.8506, 1.8506, 1.8505, 1.8505, 1.8505, 1.8505, 1.8505, 1.8504, 1.8504, 1.8504, 1.8504, 1.8503, 1.8502, 1.8502, 1.8502, 1.8502, 1.8502, 1.8502, 1.8502, 1.8501, 1.8501, 1.8501, 1.85, 1.85, 1.8499, 1.8498, 1.8493, 1.8495, 1.7602, 1.3243, 1.6833, 1.4152, 1.7778, 1.6411, 1.359, 1.0458, 0.7987, 0.6396, 1.0842, 1.147, 0.743, 0.6769, 1.0486, 0.8292, 0.7178, 0.5504, 1.0282, -0.0875, 0.3372, 0.411, 0.3919, 0.4538, -0.0268, 0.694, -0.1873, -0.1612, -0.2901, 0.4006, 0.2742, -0.1388, 0.6812, 1.97, 1.97, 1.9699, 1.9698, 1.9698, 1.9697, 1.9696, 1.9695, 1.9694, 1.9693, 1.9693, 1.9692, 1.969, 1.9689, 1.9689, 1.9689, 1.9689, 1.9689, 1.9688, 1.9687, 1.9686, 1.9686, 1.9684, 1.9684, 1.9683, 1.9683, 1.9683, 1.9682, 1.9682, 1.9681, 1.9681, 1.9057, 1.917, 1.7821, 1.8394, 1.8096, 1.7474, 1.7581, 1.5623, 1.7568, 1.5074, 1.5235, 1.4961, 1.4736, 1.1187, 1.4822, 1.1428, 1.4652, 1.5335, 0.6825, 1.4607, 0.5162, 0.7672, 0.9938, 0.5258, 0.5912, 0.3371, 0.1494, 0.5564, -0.3193, 0.5014, -0.0724, 0.4169, -0.1957, 0.022, 0.0664, 2.2337, 2.2336, 2.2335, 2.2334, 2.2334, 2.2334, 2.2333, 2.2332, 2.2331, 2.2331, 2.2331, 2.233, 2.233, 2.233, 2.2329, 2.2327, 2.2327, 2.2326, 2.2326, 2.2326, 2.2326, 2.2326, 2.2326, 2.2325, 2.2325, 2.2323, 2.2323, 2.2323, 2.2323, 2.2323, 2.2071, 2.1556, 2.1063, 2.1527, 2.1684, 2.1413, 2.1309, 1.9625, 1.975, 1.6161, 1.8952, 2.0009, 1.9763, 1.526, 1.6536, 1.7054, 1.8996, 1.1472, 1.7662, 1.4748, 1.6161, 0.7129, 1.5513, 1.5026, 1.3952, 0.5186, 0.6336, 1.212, 0.1043, 0.3576, 0.6229, 1.1887, 0.2082, 0.1724, 0.6737, 0.4218, 0.0092, 0.0669, 0.2041, 0.3017, -0.5524, 3.0027, 3.0021, 3.002, 3.0018, 3.0018, 3.0018, 3.0017, 3.0016, 3.0016, 3.0015, 3.0015, 3.0012, 3.0012, 3.0011, 3.001, 3.0009, 3.0009, 3.0009, 3.0009, 3.0009, 3.0009, 3.0009, 3.0008, 3.0008, 3.0008, 3.0007, 3.0006, 3.0005, 3.0004, 3.0004, 2.9991, 2.9873, 2.9472, 2.7438, 2.7778, 2.6505, 2.5924, 2.8002, 2.4241, 1.2988, 2.6731, 2.5403, 2.6847, 1.0283, 1.7898, 1.6665, 1.9813, 2.1249, 1.2465, 1.3102, 0.4885, 0.3056, 0.4338, -0.0169, 0.8091, 0.1904, 0.5258, 0.86, 1.4431, 1.8416, 1.0098, -0.4092, -0.0218, -0.3538, 0.2269]}, \"token.table\": {\"Topic\": [1, 6, 6, 5, 1, 2, 3, 4, 5, 6, 7, 1, 4, 1, 7, 3, 7, 1, 4, 3, 1, 2, 3, 4, 5, 6, 7, 4, 1, 1, 2, 2, 5, 7, 4, 1, 2, 3, 5, 6, 7, 1, 1, 2, 4, 6, 1, 2, 3, 4, 5, 6, 7, 1, 2, 3, 4, 5, 6, 7, 4, 6, 2, 2, 2, 4, 7, 1, 2, 3, 4, 5, 6, 7, 1, 3, 5, 3, 4, 3, 5, 3, 5, 1, 2, 3, 4, 5, 6, 7, 1, 2, 3, 1, 4, 6, 6, 4, 6, 6, 7, 1, 5, 7, 6, 1, 2, 3, 5, 1, 7, 3, 3, 2, 2, 3, 1, 6, 5, 4, 2, 3, 6, 6, 7, 2, 7, 4, 6, 7, 6, 1, 2, 3, 4, 5, 6, 7, 7, 1, 2, 3, 4, 5, 6, 7, 5, 7, 3, 3, 2, 4, 5, 6, 2, 5, 1, 2, 3, 4, 5, 6, 7, 2, 4, 5, 7, 5, 1, 2, 5, 5, 1, 4, 2, 4, 6, 5, 6, 4, 3, 3, 7, 1, 1, 2, 3, 4, 6, 1, 2, 3, 4, 5, 6, 7, 1, 2, 3, 4, 5, 6, 7, 2, 6, 2, 4, 2, 1, 4, 6, 1, 2, 3, 4, 5, 6, 7, 7, 1, 2, 3, 5, 6, 7, 1, 2, 3, 4, 5, 6, 7, 3, 1, 2, 1, 1, 2, 3, 4, 5, 6, 7, 1, 2, 3, 4, 5, 6, 7, 1, 2, 3, 4, 5, 6, 7, 5, 2, 1, 2, 4, 5, 1, 2, 3, 4, 5, 6, 7, 1, 2, 3, 4, 5, 6, 7, 6, 1, 2, 3, 4, 5, 6, 7, 2, 4, 5, 1, 5, 1, 2, 3, 4, 5, 6, 7, 2, 3, 4, 5, 6, 1, 2, 3, 4, 5, 6, 7, 1, 2, 3, 4, 5, 6, 7, 4, 1, 2, 3, 4, 5, 6, 7, 3, 6, 4, 5, 7, 1, 2, 3, 4, 5, 6, 7, 7, 1, 1, 2, 3, 4, 5, 6, 7, 1, 2, 3, 4, 5, 6, 7, 1, 2, 3, 4, 5, 6, 7, 1, 2, 3, 4, 5, 6, 7, 1, 2, 3, 4, 5, 6, 7, 5, 2, 6, 1, 2, 3, 4, 5, 6, 7, 3, 5, 5, 1, 2, 3, 4, 5, 6, 7, 3, 4, 6, 1, 2, 3, 4, 5, 6, 7, 2, 5, 6, 3, 7, 4, 3, 5, 3, 5, 3, 7, 5, 4, 7, 6, 5, 3, 1, 3, 6, 5, 7, 1, 5, 2, 1, 2, 3, 4, 5, 7, 3, 1, 1, 2, 3, 4, 5, 6, 7, 1, 2, 3, 4, 5, 6, 7, 1, 4, 6, 2, 5, 6, 4, 6, 1, 1, 2, 3, 4, 5, 6, 7, 5, 1, 2, 3, 4, 5, 6, 7, 2, 3, 1, 2, 3, 4, 5, 6, 7, 4, 6, 7, 4, 1, 2, 3, 4, 5, 6, 7, 5, 5, 1, 2, 3, 4, 5, 1, 2, 4, 5, 1, 2, 3, 4, 5, 6, 7, 4, 1, 2, 3, 4, 5, 6, 7, 1, 2, 3, 4, 5, 6, 7, 2, 1, 3, 3, 4, 6, 1, 2, 3, 4, 7, 1, 2, 3, 4, 5, 6, 7, 1, 2, 3, 4, 5, 6, 7, 3, 5, 1, 4, 4, 7, 2, 6, 3, 4, 6, 6, 3, 5, 1, 2, 3, 4, 5, 6, 7, 1, 2, 5, 1, 2, 3, 4, 5, 6, 7, 2, 4, 6, 1, 2, 3, 4, 5, 6, 7, 4, 3, 4, 4, 2, 3, 4, 5, 6, 2, 4, 6, 4, 7, 3, 4, 6, 4, 1, 2, 3, 4, 5, 6, 7, 3, 5, 1, 2, 3, 4, 5, 6, 7, 1, 2, 3, 4, 5, 6, 7, 2, 2, 4, 1, 2, 3, 4, 5, 6, 7, 2, 1, 2, 3, 4, 5, 6, 7, 1, 2, 3, 4, 5, 6, 7, 4, 7, 5, 2, 7, 1, 2, 6, 3, 6, 7, 3, 4, 3, 1, 3, 7, 1, 5, 7, 1, 2, 3, 4, 5, 6, 7, 1, 3, 5, 6, 6, 1, 2, 3, 4, 5, 6, 7, 5, 6, 7, 1, 2, 3, 4, 5, 6, 7, 2, 6, 7, 2, 5, 6, 1, 2, 3, 4, 5, 6, 7, 1, 2, 3, 4, 5, 6, 7, 2, 3, 7, 3, 1, 1, 6, 2, 1, 2, 3, 4, 5, 6, 7, 1, 2, 3, 4, 5, 6, 7, 1, 2, 3, 4, 5, 6, 7, 5, 6, 7, 5, 4, 7, 4, 3, 5, 7, 4, 1, 2, 3, 4, 5, 6, 7, 5, 7, 2, 1, 6, 1, 2, 3, 4, 5, 6, 7, 1, 2, 3, 4, 5, 6, 7, 1, 2, 3, 4, 5, 6, 7, 1, 2, 3, 4, 5, 6, 7, 5, 4, 1, 2, 3, 4, 5, 6, 7, 3, 7, 3, 5, 7, 4, 1, 2, 3, 4, 5, 6, 7, 1, 2, 3, 4, 5, 6, 7, 1, 2, 3, 4, 5, 6, 7, 7, 2, 3, 5, 7, 3, 1, 2, 4, 1, 2, 2, 1, 6, 4, 2, 2, 4, 7, 3, 5, 1, 5, 1, 2, 3, 4, 5, 6, 7, 3, 1, 2, 3, 4, 5, 6, 7, 7, 2, 3, 4, 5, 6, 1, 2, 3, 4, 5, 6, 7, 6, 1, 5, 6, 2, 6, 2, 3, 5, 1, 2, 3, 4, 5, 6, 7, 7, 4, 6, 1, 2, 3, 4, 5, 6, 7, 3, 1, 4, 6, 1, 2, 3, 4, 5, 6, 7, 1, 2, 3, 4, 5, 6, 7, 4, 1, 2, 3, 4, 5, 6, 7, 4, 1, 2, 1, 2, 3, 4, 6, 1, 2, 3, 4, 5, 6, 7, 7, 6, 7, 1, 2, 3, 4, 5, 6, 7, 7, 4, 1, 2, 3, 4, 5, 6, 7, 5, 6, 2, 6, 1, 2, 3, 4, 5, 6, 7, 3, 3, 4, 6, 1, 2, 4, 6, 4, 5, 6, 1, 2, 3, 4, 5, 6, 7, 2, 5, 6, 5, 1, 2, 3, 4, 5, 6, 7, 1, 2, 3, 4, 5, 6, 7, 1, 4, 6, 7, 1, 2, 3, 4, 5, 6, 7, 1, 4, 4, 6, 1, 2, 3, 4, 5, 6, 7, 1, 2, 3, 4, 5, 6, 7, 1, 2, 3, 4, 5, 6, 7, 3, 1, 1, 5, 2, 5, 1, 2, 3, 4, 5, 6, 7, 5, 1, 4, 5], \"Freq\": [0.9999956754686993, 0.9986514672326134, 0.9982775240066756, 0.9998201275027387, 0.10497225483102757, 0.529547535531523, 0.10356637641811202, 0.0796664433985477, 0.09325660139006467, 0.03608421259816572, 0.052954753553152295, 0.9968729823748316, 0.0023264246963239942, 0.9992842112166225, 0.9986712490373362, 1.0005124811120993, 0.9960981854392139, 0.986686094227858, 0.013155814589704775, 1.000063261211059, 0.1571584663096948, 0.2649286270089714, 0.07530192275168693, 0.2066992049621204, 0.2518193853963296, 0.025151451931231465, 0.018901697208925466, 1.0001353362022967, 0.9994597594074366, 0.9975006198642197, 0.00235769301523944, 0.9305684434449157, 0.06902229514293415, 0.9955416820794332, 0.9993089747062868, 0.003770780946720893, 0.06410327609425519, 0.0527909332540925, 0.033937028520488036, 0.12820655218851038, 0.7202191608236906, 0.9981612152658994, 1.000062475301063, 0.9996514388526947, 0.9985664987423613, 0.998299460213233, 0.23597212305887688, 0.03344486783511641, 0.12541825438168652, 0.32206169026408393, 0.24324947856003645, 0.03839966306994847, 0.0015483735108850188, 0.15036683401328166, 0.25219471963333223, 0.2622884459047075, 0.14294497646079984, 0.052101440018422374, 0.09158572219762565, 0.0485389483932311, 0.025010214390588637, 0.9738352228335451, 0.9985040111983515, 0.9986554611468864, 0.812960928059034, 0.07567455447358029, 0.10810650639082899, 0.38032275251233855, 0.3266048496151156, 0.058821103672459144, 0.1598107611192383, 0.02793330950655594, 0.04243714328880614, 0.004028842717291722, 1.0000872990353695, 0.37717280374544154, 0.6225268089965811, 0.8922974072251059, 0.10684467335705151, 0.9195272545454887, 0.07995889169960771, 0.9040610262923922, 0.09576116794177256, 0.0030573032024195667, 0.00183438192145174, 0.18894133790952922, 0.045859548036293496, 0.20911953904549835, 0.5393082849068116, 0.01284067345016218, 0.9998350820528721, 1.0014747720619863, 0.9997266020505111, 0.03949808224194267, 0.047397698690331204, 0.9124056997888756, 0.9999121473674428, 0.20758264156763662, 0.7920529160524007, 0.27099781068519185, 0.7293029316969134, 0.003802133653521285, 0.19390881632958554, 0.7984480672394698, 0.9967979574649307, 0.999654482631781, 0.9996544443881052, 0.999797541719055, 1.0005573650081323, 0.9984165633262159, 0.9993597530927498, 0.9985078099023614, 1.0005466928574638, 0.9990233523861609, 0.9873297853461249, 1.000041352277028, 0.096699069797534, 0.9013083109430527, 1.0004725383751725, 1.0000737652117793, 0.9997787267041836, 0.9971969227530513, 0.998651512720693, 0.9989324447822503, 1.00070073904989, 1.0006925008431604, 1.0007216435168254, 0.23761590981943345, 0.7626847742144361, 0.9988373055777652, 0.9996598190196235, 0.07366881142211647, 0.001857196926607978, 0.26434102922053554, 0.02930244039759254, 0.6295897581201045, 0.0008254208562702125, 0.0006190656422026593, 0.9979628595125698, 0.4051197524226303, 0.13921234081161785, 0.10775001348359729, 0.15866485501980263, 0.06512363452305331, 0.11164051632523425, 0.01268642230968571, 0.014757603792948649, 0.9850700531793224, 0.999915784991933, 1.0005531030849573, 0.8089801875514171, 0.0012002673405807375, 0.16803742768130325, 0.020404544789872536, 0.9948580067832958, 0.9981652197294816, 0.13857079711100276, 0.26120027765190135, 0.22704768357614413, 0.14393615932229997, 0.009544153933557524, 0.21848374004657362, 0.0012381605102993545, 0.7580576285397228, 0.029820072344212696, 0.21030998390128955, 0.9943445973135077, 0.9991872927228743, 0.7133135634685732, 0.2266486168126093, 0.06001991148926506, 1.0003985939128883, 0.839949231051218, 0.15943092297675465, 0.23188516642993076, 0.05096377284174303, 0.7160410084264894, 0.8772438871708047, 0.122251048465526, 0.9991329693623598, 0.9990321421847347, 0.9229752269304986, 0.07515319913937903, 0.99981338593912, 0.000668919919648441, 0.7090551148273474, 0.000668919919648441, 0.13378398392968818, 0.15585834127808673, 0.35738589965629053, 0.02204463678435452, 0.18073682343729072, 0.23694334768879066, 0.1198585880791726, 0.006423602771599994, 0.07664526034295446, 0.28845840776816745, 0.135431489044574, 0.0005331948387581653, 0.49453821294819833, 0.0007997922581372479, 0.0799792258137248, 0.0005331948387581653, 1.0008108031840877, 0.9996117411059253, 0.956577435950295, 0.04178673569086295, 0.9960247380350036, 0.11330851474688183, 0.005572549905584352, 0.879843712870596, 0.6260402137829759, 0.00017897090159604799, 0.00017897090159604799, 0.23445188109082288, 0.00017897090159604799, 0.00017897090159604799, 0.13888141963853323, 0.9988444306138557, 0.0002706109415434011, 0.4914294698428163, 0.0002706109415434011, 0.3766904306284143, 0.13097569570700612, 1.0000032395510041, 0.06758070005755763, 0.6652524390281257, 0.011105919240228003, 0.1336648578061484, 0.05592342312455236, 0.017643446168872857, 0.04883453850313023, 0.9985173448752906, 0.06007046788203275, 0.9389476210483888, 0.9990693570494947, 0.23143705281833596, 0.2504168278611786, 0.16481416899448026, 0.09373684817077373, 0.09102545173608192, 0.08463430299716554, 0.08405328947544587, 0.23894150178296347, 0.1129144291962175, 0.3489420102257302, 0.10077309272350593, 0.13768275560054907, 0.03472422231195506, 0.025982460051602735, 0.1582024585307562, 0.08809259201640669, 0.32072987635947553, 0.17823384896342748, 0.21010197010631362, 0.04211144579595669, 0.00227629436734901, 1.000296743441837, 0.9931052559484064, 0.005015732981040136, 0.1741175877703933, 0.01146453252809174, 0.8089660765134734, 0.0020730656093013522, 0.06426503388834191, 0.0020730656093013522, 0.2508409387254636, 0.07877649315345138, 0.04146131218602704, 0.559727714511365, 0.09956753341776113, 0.3584987446242852, 0.23445651025467215, 0.041440118657112876, 0.0923363717728958, 0.06202111718480651, 0.11152676229196148, 1.000301135434685, 0.024502357434639743, 0.005717216734749273, 0.0024502357434639742, 0.1756002282815848, 0.6011245023964951, 0.18785140699890468, 0.003266980991285299, 0.08056885748738703, 0.811059832039696, 0.10849939474968119, 0.936239601383732, 0.06279655862939665, 0.03990941671574008, 0.5343870898237597, 0.20952443775763543, 0.057070465903508324, 0.10615904846386863, 0.0031927533372592067, 0.04988677089467511, 0.876414543541624, 0.010595685327791654, 0.048437418641333274, 0.007568346662708324, 0.056005765304041596, 0.2567876617955464, 0.5719599418916231, 0.051955582226464264, 0.08185807559421349, 0.0011960997347099688, 0.03513542970710533, 0.0011960997347099688, 0.24071935407173975, 0.3747675506526438, 0.09007471410462861, 0.12922529850286088, 0.0009929496043029925, 0.16326928493610635, 0.0008510996608311365, 0.9989424060436566, 0.10456767729683002, 0.281543175336953, 0.2042247178145271, 0.09108749790313185, 0.19536631421295406, 0.11448523785076509, 0.008762116605903803, 0.9939976739090732, 0.004247853307303732, 0.9995857520342204, 1.0000145905431812, 0.9983964204547027, 0.30839786106897005, 0.13520891445880953, 0.0015192012860540396, 0.19369816397189005, 0.06304685337124265, 0.0007596006430270198, 0.2970038514235647, 0.999343976911343, 0.9978803098389707, 0.12649177613309837, 0.19158451382362943, 0.3253939960140145, 0.11750145154843186, 0.16189553496263773, 0.061677808197130604, 0.01547172137826327, 0.14990148902697273, 0.23984238244315637, 0.10064814263239598, 0.20308082680082734, 0.11563829153509325, 0.017488507053146817, 0.1727436206882257, 0.21848459275346083, 0.18290494673705132, 0.16905658152108355, 0.11323701711210574, 0.09725813417060446, 0.20176002860802283, 0.017150667690544706, 0.19826882111278715, 0.38836656353728977, 0.11030956229184159, 0.1033401128224224, 0.11079021397938774, 0.059600809255722684, 0.029560078784088267, 0.11447286307747793, 0.10860245984273548, 0.4980503471657635, 0.024415540726315223, 0.12167744886557096, 0.13128356324969498, 0.0014676008086856145, 0.9994644450762156, 1.000955276816544, 0.9977242583018525, 0.0005288178538617301, 0.5626621965088808, 0.012691628492681522, 0.3104160802168356, 0.06451577817113108, 0.04600715328597052, 0.0031729071231703806, 0.9193936423051755, 0.08053448118124769, 0.9967258721210237, 0.3932257851176017, 0.151601889178741, 0.029112929160873272, 0.3303042930602304, 0.07311772531187066, 0.01972166168962383, 0.0029515412052498247, 0.06004010557421812, 0.44702274006551485, 0.49257040636319754, 0.08568226805484727, 0.26104235034326523, 0.15094285564066356, 0.19933335936075866, 0.13851226752907952, 0.02841277282647785, 0.13629251965201095, 0.7592559838685564, 0.23395678572693887, 0.005885705301306638, 1.0000890742784512, 1.0001882927572205, 0.9996045131336673, 0.0011234137155863356, 0.997591379440666, 0.8390174069400744, 0.16038564529320418, 0.9766350334135857, 0.023033845127678906, 0.9972582381023223, 0.002354643796607504, 0.9975840884960457, 0.9994275378704356, 0.9994206589955219, 0.9998099542769255, 0.018680722353608965, 0.05915562078642839, 0.9215823027780422, 0.053410804261951196, 0.9457620461994284, 0.9990301703142612, 0.9972703990094112, 0.9949111862999853, 0.12744479974289716, 0.7944059183973922, 0.0010620399978574762, 0.0010620399978574762, 0.03292323993358176, 0.043543639912156526, 0.9992000032799243, 0.9986913216075972, 0.11972935887590724, 0.07994124876165758, 0.3960559584767054, 0.18360935217860166, 0.12228455860801503, 0.0936298187550921, 0.004927885197636426, 0.1169303971803087, 0.001553892321333006, 0.1522814474906346, 0.14218114740197005, 0.017092815534663068, 0.5597897087602154, 0.010488773168997791, 0.9997114243675961, 0.0627315308166485, 0.9355180465265407, 0.03354732027255078, 0.937481708275787, 0.028386194076773733, 0.9996265650995982, 1.000988542754137, 0.9984509901313348, 0.8219402853525682, 0.010846222322178219, 0.06660258394712563, 0.041859639274656565, 0.050163778240074265, 0.007117833398929457, 0.0011863055664882427, 0.9960892296739836, 0.001061693891620938, 0.15766154290570927, 0.5632286095049076, 0.016456255320124537, 0.07644196019670753, 0.10351515443304145, 0.08228127660062269, 0.009386614905904507, 0.9887234367552747, 0.2527237165205667, 0.3334971935209486, 0.156641339690793, 0.08119637478572424, 0.03510051618341204, 0.12729223338803644, 0.013617308688022502, 0.1395336802864694, 0.08562294017578805, 0.7706064615820923, 0.999023444122369, 0.8450143547664516, 0.006251647507519987, 0.001041941251253331, 0.0969005363665598, 0.014587177517546637, 0.001041941251253331, 0.03542600254261326, 0.9977248118133408, 1.0001996635184052, 0.06320041507263996, 0.13460241072722556, 0.00048244591658503787, 0.0014473377497551136, 0.8003777756145778, 0.0004926040435678057, 0.34728585071530305, 0.037930511354721044, 0.613784638285486, 0.04475292763249254, 0.2297316951801284, 0.00024862737573606966, 0.00024862737573606966, 0.6650782300939864, 0.059173315425184586, 0.0004972547514721393, 1.00025329155642, 0.2630119774863977, 0.4620337754637054, 0.04124986778271921, 0.12568869969691795, 0.08091320218918, 0.026265941451389586, 0.000881407431254684, 0.16283929818224468, 0.42816321280767533, 0.05278076089337291, 0.1727800692922073, 0.08118296406469466, 0.07100550792830437, 0.03124242348845392, 0.9939737258460967, 0.9985994885661079, 0.997500418592755, 0.9966252081907782, 0.9990838432798393, 0.9991756251984003, 0.5516048879418588, 0.07280499297369254, 0.00042826466455113263, 0.3743033168176899, 0.00042826466455113263, 0.5359847919743016, 0.11625550864374674, 0.0006170674556462141, 0.2723735749222389, 0.013822311006475196, 0.0008638944379046997, 0.06010237017994126, 0.5220073356570964, 0.11187219011371818, 0.0003773092415302468, 0.35995301641985544, 0.0049050201398932085, 0.0005659638622953703, 0.0001886546207651234, 0.9992974951801815, 0.9980104226540087, 0.5604236982084738, 0.4391265142126672, 0.998299733245548, 0.0016684675207446484, 0.9951644342708438, 0.9965081497562908, 0.12102593745605299, 0.1055458756884183, 0.7725958100392221, 1.0000634325364965, 0.9995612442879086, 1.0010545176138956, 0.12101934057567688, 0.10993118109884785, 0.2809422806871996, 0.04466944246379696, 0.4267990984909736, 0.0018374664275888114, 0.014763092332006657, 0.009126960860214724, 0.35088093973714385, 0.6399013669772767, 0.12108440540772787, 0.08840233138174823, 0.001607315116031786, 0.28288746042159435, 0.0005357717053439287, 0.5052327181393247, 0.0005357717053439287, 0.6867750877916664, 0.31088241231346064, 0.0016669298247370544, 0.230469332366672, 0.32427439396152796, 0.11887365564175713, 0.15587004846903868, 0.11179784280593826, 0.04387003958207704, 0.014758123914707943, 0.9998919594141377, 1.0001912554651176, 0.9982370409086425, 0.9974309128193539, 0.6135390686222114, 0.0003660734299655199, 0.033312682126862316, 0.0007321468599310398, 0.35143049276689914, 0.8256908593372845, 0.0007411946672686576, 0.17343955214086587, 0.9994917408105503, 0.9976618379557987, 0.052627088028035, 0.9283418328145374, 0.0147355846478498, 1.0002440953439287, 0.19834830813915588, 0.06955653339721529, 0.2613231480536239, 0.09977248984073678, 0.23020968795336416, 0.12654801560009493, 0.01421047456502248, 0.7864494865184299, 0.21339635457359837, 0.0494312160126948, 0.027245552132981386, 0.2642818556899194, 0.15724575802463542, 0.03230544038624936, 0.4682342745139515, 0.001556888693313222, 0.151063965677826, 0.05487752844982901, 0.0006030497631849342, 0.6114924598695233, 0.0003015248815924671, 0.18121645383707272, 0.0003015248815924671, 1.001628361152869, 1.0013756464389982, 0.9987041100069584, 0.0676630303635446, 0.6673669125737701, 0.03584529584735398, 0.016110245324653473, 0.20661389628868082, 0.002819292931814358, 0.0032220490649306948, 1.0001296349121056, 0.02571247000793419, 0.19284352505950642, 0.0025712470007934187, 0.02828371700872761, 0.015427482004760514, 0.03342621101031445, 0.7019504312166034, 0.19767364544320443, 0.0769914872413559, 0.1872837907635751, 0.13653334675153944, 0.12094856473209543, 0.19967169442005622, 0.08085438192993605, 1.0007294084790976, 0.9982385939267674, 0.9990289277528236, 0.9569657089913983, 0.04160720473875645, 0.10021755394857404, 0.8983787871818602, 0.9993038244881626, 0.9976099434962208, 0.9990966288649191, 0.997429741710375, 0.40939551900627935, 0.5905258429717067, 0.9979942488363144, 0.999817884961473, 0.9984108775350385, 0.999616427559568, 0.9997478686879933, 0.002464830911418615, 0.9957916882131205, 0.40562762179913253, 0.22377979557061847, 0.048778005153060244, 0.06931611258592771, 0.046638618962136544, 0.021821739147421686, 0.18398721241943775, 0.9987407758838092, 0.703115444618043, 0.23588598441962033, 0.060783091812850354, 0.9970382927841631, 0.0021851367236143562, 0.0667680665548831, 0.136449648741252, 0.00849775392516694, 0.4372701376921617, 0.33736083082912754, 0.01153266604129799, 1.000123167900342, 0.7713671791692683, 0.22699633610430783, 0.36219555621081445, 0.0011425727325262284, 0.05941378209136388, 0.0011425727325262284, 0.09597610953220319, 0.16567304621630313, 0.3130649287121866, 0.9909709431719814, 1.0000460663068915, 0.9977293832737368, 0.1709782121963516, 0.8286297015921222, 0.9993838706279531, 0.4729521506788673, 0.0009678420545952265, 0.0009678420545952265, 0.44811087127758986, 0.058393137293912, 0.0009678420545952265, 0.017743771000912484, 0.1303069622075316, 0.004545591704913893, 0.22727958524569467, 0.06060788939885191, 0.07424466451359359, 0.08788143962833526, 0.41516404238213556, 0.994447790933491, 0.9151615028298425, 0.08379792074104582, 0.9991335835502348, 0.9986479107049486, 0.9983449747029017, 0.9996923842783166, 0.9983588190378825, 0.047921889634981535, 0.08899779503639428, 0.22405039309861496, 0.0006223622030517083, 0.0018670866091551248, 0.37279495962797327, 0.26263684968782086, 0.1601356838384432, 0.4335076251795717, 0.1522893919799894, 0.07757129450971358, 0.08773580896271052, 0.07881956821446759, 0.01016451445299695, 0.16443071638831766, 0.1025734468898553, 0.36566259311116356, 0.06681629110382431, 0.2335960177262608, 0.04071617739139294, 0.026100113712431372, 0.0709414183669861, 0.263169777813013, 0.6636455266589023, 0.9972134774688876, 0.9130268038025264, 0.08655207762347542, 0.9997697732470663, 0.8908699765226367, 0.009660035890004495, 0.09928370220282397, 0.997801192164995, 0.01583020235432506, 0.10943487714511671, 0.33312251910840557, 0.0006882696675793503, 0.004129618005476102, 0.32761636176777076, 0.20992224861170186, 1.0006397410494774, 1.000230866160209, 0.9983831094165201, 0.9992161231247614, 0.9998722714873012, 0.3080675765697187, 0.14025102060155337, 0.163575704373302, 0.022113011887501935, 0.11995551654042146, 0.1287401377012099, 0.11722925480086643, 0.8169035704615992, 0.0029071301439914563, 0.038761735253219416, 0.003876173525321942, 0.11434711899699729, 0.02325704115193165, 0.9971074907055474, 0.006354200752428276, 0.08295762093448027, 0.3127678814806362, 0.13061412657769234, 0.09496000013351145, 0.35971836481802294, 0.012355390351943869, 0.1554875201374758, 0.49847469691131946, 0.05861962657589328, 0.19290430305825873, 0.0843956325879882, 0.005820388454344014, 0.0037416782920782947, 0.9986311806326832, 1.0001092054446292, 0.2837474280860997, 0.07902614773450584, 0.07031460388975716, 0.46440825400934005, 0.07301103412741747, 0.0062225313176776246, 0.023230783585996468, 0.9967198101649812, 1.00215407817947, 0.39079197929723947, 0.6087464193636964, 0.0003317419179093714, 0.999350687216605, 0.03586975445454635, 0.7514522761661212, 0.00658248153554175, 0.10131297667746868, 0.05437702138056228, 0.017362487528530413, 0.03300780596083254, 0.10742691053993876, 0.0029034300145929395, 0.0725857503648235, 0.12775092064208934, 0.01742058008755764, 0.043551450218894096, 0.6300443131666679, 0.16437766863159542, 0.062067274125489416, 0.35475858427835844, 0.08992789592745473, 0.3002755905322929, 0.019811997725842006, 0.008667749005055878, 0.9969808402920918, 0.26707289975847814, 0.006011287132827482, 0.6457839891266095, 0.08072299864082619, 0.9995612157517826, 0.2703858226027516, 0.08239859922383123, 0.6468536741463637, 0.06290992768938401, 0.9365715484757046, 0.9991013828037192, 0.9986497931271513, 1.0002331066423131, 0.9980455235207011, 0.9975031549729229, 0.9993080015468759, 0.9988211853152978, 0.9999485859157602, 0.860053138693863, 0.13974785202447926, 1.0002296806745137, 0.9987131855042368, 0.2115072029495962, 0.3242568119065733, 0.049541494844732345, 0.04344032552887861, 0.23363411033509243, 0.1318666061466521, 0.005694424694796822, 0.997893370096728, 0.1400663517555218, 0.19667853574033198, 0.17975995202073353, 0.2472716082095158, 0.08784649239022271, 0.14478403375425597, 0.003578931171453518, 1.0006630844694155, 0.350783368021698, 0.0018011982953617357, 0.21434259714804654, 0.0004502995738404339, 0.43228759088681656, 0.21200497104194496, 0.18459304906403184, 0.25997583450329287, 0.1102309202941612, 0.21156754675506337, 0.018663436240281262, 0.0030619700081711445, 0.9972240338530695, 0.999626203202325, 0.9485113139128776, 0.05173698075888423, 0.9999679935682788, 0.997981352038294, 0.14721261163447982, 0.0005865044288226288, 0.851604430650457, 0.200598353146219, 0.035879380237535105, 0.01522155525228762, 0.1397121321370685, 0.6034259403585449, 0.0005436269732959864, 0.004349015786367891, 1.001336820491316, 0.8460044679525165, 0.15360741371352432, 0.25202151623438235, 0.19446220570842243, 0.03126794519599453, 0.2977497123618578, 0.10131565425368798, 0.11887453038477198, 0.00422539799945872, 0.9980628868475954, 0.9995506488673273, 0.2867225429227986, 0.7125327150683098, 0.3139629576709726, 0.31560138145529604, 0.12206257193209372, 0.03194926379430641, 0.12083375409385116, 0.03317808163254896, 0.06226010380428942, 0.5705213659776587, 0.09980619473614079, 0.09700264994018178, 0.041212108500597464, 0.04093175402100156, 0.13428979572643662, 0.016540914296158164, 0.9989430264138776, 0.2310775869525671, 0.18206583657708145, 0.1402000149409693, 0.15293840965028727, 0.1297141412473234, 0.15317142906570164, 0.010874239386003159, 0.9997369935548991, 0.09005433736683308, 0.9074706303888564, 0.004894896696252226, 0.9552041267257916, 0.0006992709566074609, 0.020978128698223828, 0.018181044871793985, 0.011106424014399333, 0.2131375656096634, 0.13221933350475396, 0.09519792012342286, 0.003173264004114095, 0.48127837395730444, 0.06399415741630092, 1.0005757384881326, 0.998901143476965, 0.996837248119181, 0.176185419242094, 0.0022213158364962084, 0.053194668716093414, 0.22002717917294023, 0.008300706546906884, 0.5390782801096851, 0.0009352908785247193, 0.9940634592648998, 0.9995546056692871, 0.29971431134140747, 0.11469678111263419, 0.03897577413448777, 0.3091060641448985, 0.14897667884537646, 0.021131443807854818, 0.06738582636504814, 0.9996597462371906, 0.9988307549292564, 1.0011692249487911, 1.0008491222244291, 0.12497230501204676, 0.029734789813211124, 0.13761318184085147, 0.23241975805688694, 0.18185625074166803, 0.11146955021764171, 0.18199989706926809, 0.9995957260479689, 1.0000669598578098, 0.9972026235592364, 0.9994074789452456, 1.0003313593691585, 0.30870445170090227, 0.10125065795537615, 0.5893448623380861, 0.9979982735991296, 0.07510804525475288, 0.9243612183714862, 0.11546335538952823, 0.41219439371049804, 0.23329142639084766, 0.013128248741323479, 0.11464793621304852, 0.10812458280121076, 0.003098592870622933, 0.0753143832103864, 0.8084528322739916, 0.11650193652856647, 0.9998814476017055, 0.26512621218838406, 0.1115667003491888, 0.0710647579061648, 0.3143248907388059, 0.12548147812102525, 0.0636104126712524, 0.04845324402693055, 0.22980737864342266, 0.13140268060893143, 0.21782596830389378, 0.07837020861429542, 0.11942127026940255, 0.21016572234911304, 0.012963493154244355, 0.10283288024848523, 0.009793607642712879, 0.06855525349899015, 0.8177662381665254, 0.3182731394881354, 0.05544828214079014, 0.09869794221060645, 0.07097380114021137, 0.033268969284474086, 0.06321104164050076, 0.36041383391513593, 0.8967356569520668, 0.10260622534850825, 0.372972818283096, 0.6260615164037683, 0.2729727645946526, 0.11301761586022642, 0.011715240668438105, 0.3491601140397239, 0.06554409158289554, 0.1798634008507262, 0.007733590245178095, 0.18831361019656628, 0.46358223020061223, 0.18377914649494925, 0.1085603956798902, 0.042410572268065216, 0.011736258992420562, 0.001600398953511895, 0.2700849435882999, 0.10813968582811381, 0.24027517682043273, 0.1366809518824547, 0.14249491348611673, 0.06744195460247958, 0.0348837696219722, 1.0002064842162854, 0.9993869442482484, 0.9987340317686342, 1.0008441897299307, 0.9966477807629098, 1.000746809609553, 0.4166773033364634, 0.0018551972543920901, 0.1696392369416127, 0.1302348472583247, 0.27590493567319163, 0.0005194552312297853, 0.005120344422122169, 1.000998595222137, 0.9988957798989794, 0.9997608308838088, 0.9998743857760204], \"Term\": [\"abilifi\", \"abort\", \"achi\", \"acn\", \"actual\", \"actual\", \"actual\", \"actual\", \"actual\", \"actual\", \"actual\", \"adderal\", \"adderal\", \"adhd\", \"administr\", \"advil\", \"agoni\", \"alcohol\", \"alcohol\", \"alev\", \"also\", \"also\", \"also\", \"also\", \"also\", \"also\", \"also\", \"ambien\", \"antidepress\", \"anxieti\", \"anxieti\", \"appetit\", \"appetit\", \"appli\", \"asleep\", \"assum\", \"assum\", \"assum\", \"assum\", \"assum\", \"assum\", \"ativan\", \"attack\", \"author\", \"awak\", \"b\", \"back\", \"back\", \"back\", \"back\", \"back\", \"back\", \"back\", \"bad\", \"bad\", \"bad\", \"bad\", \"bad\", \"bad\", \"bad\", \"bathroom\", \"bathroom\", \"begun\", \"belviq\", \"benefit\", \"benefit\", \"benefit\", \"better\", \"better\", \"better\", \"better\", \"better\", \"better\", \"better\", \"bipolar\", \"birth\", \"birth\", \"bladder\", \"bladder\", \"bled\", \"bled\", \"bleed\", \"bleed\", \"blood\", \"blood\", \"blood\", \"blood\", \"blood\", \"blood\", \"blood\", \"bm\", \"boob\", \"botox\", \"bottl\", \"bottl\", \"bottl\", \"bought\", \"bowel\", \"bowel\", \"box\", \"box\", \"brand\", \"brand\", \"brand\", \"breakfast\", \"breast\", \"brick\", \"brown\", \"bug\", \"buspar\", \"catch\", \"cath\", \"cervix\", \"chantix\", \"chase\", \"cheek\", \"chill\", \"chill\", \"chin\", \"chronic\", \"cigarett\", \"circul\", \"clot\", \"colonoscopi\", \"compani\", \"con\", \"conscious\", \"constip\", \"constip\", \"contain\", \"contrav\", \"control\", \"control\", \"control\", \"control\", \"control\", \"control\", \"control\", \"cost\", \"could\", \"could\", \"could\", \"could\", \"could\", \"could\", \"could\", \"cover\", \"cover\", \"cramp\", \"crampi\", \"crave\", \"crave\", \"crave\", \"crave\", \"curb\", \"cystic\", \"day\", \"day\", \"day\", \"day\", \"day\", \"day\", \"day\", \"decreas\", \"decreas\", \"decreas\", \"deliveri\", \"depo\", \"depress\", \"depress\", \"depress\", \"dhe\", \"diagnos\", \"diagnos\", \"diarrhea\", \"diarrhea\", \"diarrhea\", \"diet\", \"diet\", \"disc\", \"discharg\", \"discomfort\", \"discomfort\", \"disord\", \"dizzi\", \"dizzi\", \"dizzi\", \"dizzi\", \"dizzi\", \"doctor\", \"doctor\", \"doctor\", \"doctor\", \"doctor\", \"doctor\", \"doctor\", \"dose\", \"dose\", \"dose\", \"dose\", \"dose\", \"dose\", \"dose\", \"drain\", \"drank\", \"dri\", \"dri\", \"drift\", \"drink\", \"drink\", \"drink\", \"drug\", \"drug\", \"drug\", \"drug\", \"drug\", \"drug\", \"drug\", \"durat\", \"eat\", \"eat\", \"eat\", \"eat\", \"eat\", \"ed\", \"effect\", \"effect\", \"effect\", \"effect\", \"effect\", \"effect\", \"effect\", \"endometriosi\", \"energi\", \"energi\", \"episod\", \"even\", \"even\", \"even\", \"even\", \"even\", \"even\", \"even\", \"ever\", \"ever\", \"ever\", \"ever\", \"ever\", \"ever\", \"ever\", \"everi\", \"everi\", \"everi\", \"everi\", \"everi\", \"everi\", \"everi\", \"everytim\", \"exact\", \"exercis\", \"exercis\", \"exercis\", \"exercis\", \"expens\", \"expens\", \"expens\", \"expens\", \"expens\", \"expens\", \"expens\", \"experi\", \"experi\", \"experi\", \"experi\", \"experi\", \"experi\", \"experi\", \"explod\", \"face\", \"face\", \"face\", \"face\", \"face\", \"face\", \"face\", \"fall\", \"fall\", \"fall\", \"famili\", \"famili\", \"far\", \"far\", \"far\", \"far\", \"far\", \"far\", \"far\", \"fatigu\", \"fatigu\", \"fatigu\", \"fatigu\", \"fatigu\", \"feel\", \"feel\", \"feel\", \"feel\", \"feel\", \"feel\", \"feel\", \"felt\", \"felt\", \"felt\", \"felt\", \"felt\", \"felt\", \"felt\", \"fibromyalgia\", \"first\", \"first\", \"first\", \"first\", \"first\", \"first\", \"first\", \"flow\", \"flow\", \"gabapentin\", \"gain\", \"gel\", \"gener\", \"gener\", \"gener\", \"gener\", \"gener\", \"gener\", \"gener\", \"gentl\", \"geodon\", \"get\", \"get\", \"get\", \"get\", \"get\", \"get\", \"get\", \"give\", \"give\", \"give\", \"give\", \"give\", \"give\", \"give\", \"go\", \"go\", \"go\", \"go\", \"go\", \"go\", \"go\", \"good\", \"good\", \"good\", \"good\", \"good\", \"good\", \"good\", \"got\", \"got\", \"got\", \"got\", \"got\", \"got\", \"got\", \"hair\", \"halfway\", \"hallway\", \"headach\", \"headach\", \"headach\", \"headach\", \"headach\", \"headach\", \"headach\", \"heavi\", \"heavi\", \"heck\", \"help\", \"help\", \"help\", \"help\", \"help\", \"help\", \"help\", \"hour\", \"hour\", \"hour\", \"howev\", \"howev\", \"howev\", \"howev\", \"howev\", \"howev\", \"howev\", \"hungri\", \"hungri\", \"hungri\", \"hydrocodon\", \"ignor\", \"imitrex\", \"implanon\", \"implanon\", \"implant\", \"implant\", \"infect\", \"infect\", \"ingredi\", \"inject\", \"inject\", \"inkl\", \"input\", \"insert\", \"insid\", \"insid\", \"insid\", \"insur\", \"insur\", \"interact\", \"iraq\", \"iron\", \"irrit\", \"irrit\", \"irrit\", \"irrit\", \"irrit\", \"irrit\", \"iud\", \"klonopin\", \"last\", \"last\", \"last\", \"last\", \"last\", \"last\", \"last\", \"later\", \"later\", \"later\", \"later\", \"later\", \"later\", \"later\", \"latuda\", \"lax\", \"lax\", \"lb\", \"lb\", \"lb\", \"leg\", \"lemon\", \"lexapro\", \"life\", \"life\", \"life\", \"life\", \"life\", \"life\", \"life\", \"lifestyl\", \"light\", \"light\", \"light\", \"light\", \"light\", \"light\", \"light\", \"lighter\", \"lighter\", \"like\", \"like\", \"like\", \"like\", \"like\", \"like\", \"like\", \"limit\", \"limit\", \"limit\", \"liquid\", \"live\", \"live\", \"live\", \"live\", \"live\", \"live\", \"live\", \"lo\", \"loestrin\", \"lose\", \"lose\", \"lose\", \"lose\", \"lose\", \"loss\", \"loss\", \"loss\", \"loss\", \"lost\", \"lost\", \"lost\", \"lost\", \"lost\", \"lost\", \"lost\", \"lyrica\", \"made\", \"made\", \"made\", \"made\", \"made\", \"made\", \"made\", \"make\", \"make\", \"make\", \"make\", \"make\", \"make\", \"make\", \"manhood\", \"manic\", \"margin\", \"materi\", \"maxalt\", \"meal\", \"med\", \"med\", \"med\", \"med\", \"med\", \"medic\", \"medic\", \"medic\", \"medic\", \"medic\", \"medic\", \"medic\", \"medicin\", \"medicin\", \"medicin\", \"medicin\", \"medicin\", \"medicin\", \"medicin\", \"menstrual\", \"metformin\", \"mg\", \"mg\", \"migrain\", \"migrain\", \"migrainea\", \"migran\", \"min\", \"min\", \"min\", \"miralax\", \"mirena\", \"mitig\", \"month\", \"month\", \"month\", \"month\", \"month\", \"month\", \"month\", \"mood\", \"mood\", \"mood\", \"morn\", \"morn\", \"morn\", \"morn\", \"morn\", \"morn\", \"morn\", \"mouth\", \"mouth\", \"mouth\", \"much\", \"much\", \"much\", \"much\", \"much\", \"much\", \"much\", \"muscl\", \"naproxen\", \"narcot\", \"nasal\", \"nausea\", \"nausea\", \"nausea\", \"nausea\", \"nausea\", \"nauseou\", \"nauseou\", \"nauseou\", \"neck\", \"needl\", \"nerv\", \"nerv\", \"nerv\", \"neurologist\", \"never\", \"never\", \"never\", \"never\", \"never\", \"never\", \"never\", \"nexplanon\", \"nexplanon\", \"next\", \"next\", \"next\", \"next\", \"next\", \"next\", \"next\", \"night\", \"night\", \"night\", \"night\", \"night\", \"night\", \"night\", \"nois\", \"nope\", \"nose\", \"notic\", \"notic\", \"notic\", \"notic\", \"notic\", \"notic\", \"notic\", \"notori\", \"number\", \"number\", \"number\", \"number\", \"number\", \"number\", \"number\", \"one\", \"one\", \"one\", \"one\", \"one\", \"one\", \"one\", \"onset\", \"opiat\", \"ortho\", \"outweigh\", \"outweigh\", \"overwhelm\", \"overwhelm\", \"ovul\", \"oxycontin\", \"oz\", \"pad\", \"pain\", \"pain\", \"painless\", \"panic\", \"park\", \"patch\", \"paxil\", \"pay\", \"pay\", \"peopl\", \"peopl\", \"peopl\", \"peopl\", \"peopl\", \"peopl\", \"peopl\", \"percocet\", \"period\", \"period\", \"period\", \"phentermin\", \"pill\", \"pill\", \"pill\", \"pill\", \"pill\", \"pill\", \"pill\", \"pimpl\", \"plan\", \"plan\", \"pleas\", \"pleas\", \"pleas\", \"pleas\", \"pleas\", \"pleas\", \"pleas\", \"pleasur\", \"poop\", \"potenti\", \"pound\", \"pound\", \"prep\", \"prescrib\", \"prescrib\", \"prescrib\", \"prescrib\", \"prescrib\", \"prescrib\", \"prescrib\", \"prior\", \"prior\", \"prior\", \"prior\", \"prior\", \"prior\", \"prior\", \"pro\", \"procedur\", \"procedur\", \"produc\", \"prozac\", \"psychiatrist\", \"purs\", \"rash\", \"read\", \"read\", \"read\", \"read\", \"read\", \"read\", \"read\", \"realli\", \"realli\", \"realli\", \"realli\", \"realli\", \"realli\", \"realli\", \"recommend\", \"recommend\", \"recommend\", \"recommend\", \"recommend\", \"recommend\", \"recommend\", \"red\", \"red\", \"red\", \"refriger\", \"relief\", \"relief\", \"relpax\", \"remov\", \"remov\", \"remov\", \"restless\", \"review\", \"review\", \"review\", \"review\", \"review\", \"review\", \"review\", \"risperidon\", \"ritalin\", \"safeti\", \"saphri\", \"saxenda\", \"say\", \"say\", \"say\", \"say\", \"say\", \"say\", \"say\", \"school\", \"school\", \"school\", \"school\", \"school\", \"school\", \"sciatica\", \"second\", \"second\", \"second\", \"second\", \"second\", \"second\", \"second\", \"seem\", \"seem\", \"seem\", \"seem\", \"seem\", \"seem\", \"seem\", \"seizur\", \"seroquel\", \"sever\", \"sever\", \"sever\", \"sever\", \"sever\", \"sever\", \"sever\", \"shingl\", \"shorten\", \"shot\", \"shot\", \"shot\", \"shoulder\", \"side\", \"side\", \"side\", \"side\", \"side\", \"side\", \"side\", \"sign\", \"sign\", \"sign\", \"sign\", \"sign\", \"sign\", \"sign\", \"sinc\", \"sinc\", \"sinc\", \"sinc\", \"sinc\", \"sinc\", \"sinc\", \"site\", \"skin\", \"skin\", \"skin\", \"skin\", \"skyla\", \"sleep\", \"sleep\", \"sleep\", \"smoke\", \"smoke\", \"sob\", \"social\", \"soften\", \"soma\", \"sooo\", \"sour\", \"spasm\", \"spine\", \"spot\", \"spot\", \"spray\", \"sprintec\", \"start\", \"start\", \"start\", \"start\", \"start\", \"start\", \"start\", \"sticki\", \"still\", \"still\", \"still\", \"still\", \"still\", \"still\", \"still\", \"sting\", \"stomach\", \"stomach\", \"stomach\", \"stomach\", \"stomach\", \"stop\", \"stop\", \"stop\", \"stop\", \"stop\", \"stop\", \"stop\", \"straw\", \"suicid\", \"sumatriptan\", \"sumatriptan\", \"suppress\", \"suprep\", \"swing\", \"swing\", \"swing\", \"switch\", \"switch\", \"switch\", \"switch\", \"switch\", \"switch\", \"switch\", \"swore\", \"tablet\", \"tablet\", \"take\", \"take\", \"take\", \"take\", \"take\", \"take\", \"take\", \"tampon\", \"tape\", \"tast\", \"tast\", \"thing\", \"thing\", \"thing\", \"thing\", \"thing\", \"thing\", \"thing\", \"thought\", \"thought\", \"thought\", \"thought\", \"thought\", \"thought\", \"thought\", \"throat\", \"time\", \"time\", \"time\", \"time\", \"time\", \"time\", \"time\", \"tingl\", \"tingli\", \"tingli\", \"tire\", \"tire\", \"tire\", \"tire\", \"tire\", \"today\", \"today\", \"today\", \"today\", \"today\", \"today\", \"today\", \"toe\", \"toilet\", \"tongu\", \"took\", \"took\", \"took\", \"took\", \"took\", \"took\", \"took\", \"towel\", \"treximet\", \"tri\", \"tri\", \"tri\", \"tri\", \"tri\", \"tri\", \"tri\", \"triptan\", \"trulic\", \"uncommon\", \"unprotect\", \"use\", \"use\", \"use\", \"use\", \"use\", \"use\", \"use\", \"uteru\", \"uti\", \"vicodin\", \"victoza\", \"voic\", \"vomit\", \"vomit\", \"vomit\", \"vyvans\", \"water\", \"water\", \"week\", \"week\", \"week\", \"week\", \"week\", \"week\", \"week\", \"weigh\", \"weigh\", \"weigh\", \"weight\", \"well\", \"well\", \"well\", \"well\", \"well\", \"well\", \"well\", \"went\", \"went\", \"went\", \"went\", \"went\", \"went\", \"went\", \"whatev\", \"whatev\", \"whatev\", \"whatev\", \"wish\", \"wish\", \"wish\", \"wish\", \"wish\", \"wish\", \"wish\", \"withdraw\", \"withdraw\", \"woke\", \"woke\", \"work\", \"work\", \"work\", \"work\", \"work\", \"work\", \"work\", \"wors\", \"wors\", \"wors\", \"wors\", \"wors\", \"wors\", \"wors\", \"would\", \"would\", \"would\", \"would\", \"would\", \"would\", \"would\", \"wound\", \"xanax\", \"xr\", \"yasmin\", \"yawn\", \"yaz\", \"year\", \"year\", \"year\", \"year\", \"year\", \"year\", \"year\", \"zolmitriptan\", \"zoloft\", \"zomig\", \"zyprexa\"]}, \"R\": 30, \"lambda.step\": 0.01, \"plot.opts\": {\"xlab\": \"PC1\", \"ylab\": \"PC2\"}, \"topic.order\": [6, 1, 3, 7, 5, 2, 4]};\n",
              "\n",
              "function LDAvis_load_lib(url, callback){\n",
              "  var s = document.createElement('script');\n",
              "  s.src = url;\n",
              "  s.async = true;\n",
              "  s.onreadystatechange = s.onload = callback;\n",
              "  s.onerror = function(){console.warn(\"failed to load library \" + url);};\n",
              "  document.getElementsByTagName(\"head\")[0].appendChild(s);\n",
              "}\n",
              "\n",
              "if(typeof(LDAvis) !== \"undefined\"){\n",
              "   // already loaded: just create the visualization\n",
              "   !function(LDAvis){\n",
              "       new LDAvis(\"#\" + \"ldavis_el63211398301547314081027421029\", ldavis_el63211398301547314081027421029_data);\n",
              "   }(LDAvis);\n",
              "}else if(typeof define === \"function\" && define.amd){\n",
              "   // require.js is available: use it to load d3/LDAvis\n",
              "   require.config({paths: {d3: \"https://d3js.org/d3.v5\"}});\n",
              "   require([\"d3\"], function(d3){\n",
              "      window.d3 = d3;\n",
              "      LDAvis_load_lib(\"https://cdn.jsdelivr.net/gh/bmabey/pyLDAvis@3.4.0/pyLDAvis/js/ldavis.v3.0.0.js\", function(){\n",
              "        new LDAvis(\"#\" + \"ldavis_el63211398301547314081027421029\", ldavis_el63211398301547314081027421029_data);\n",
              "      });\n",
              "    });\n",
              "}else{\n",
              "    // require.js not available: dynamically load d3 & LDAvis\n",
              "    LDAvis_load_lib(\"https://d3js.org/d3.v5.js\", function(){\n",
              "         LDAvis_load_lib(\"https://cdn.jsdelivr.net/gh/bmabey/pyLDAvis@3.4.0/pyLDAvis/js/ldavis.v3.0.0.js\", function(){\n",
              "                 new LDAvis(\"#\" + \"ldavis_el63211398301547314081027421029\", ldavis_el63211398301547314081027421029_data);\n",
              "            })\n",
              "         });\n",
              "}\n",
              "</script>"
            ]
          },
          "metadata": {},
          "execution_count": 23
        }
      ]
    },
    {
      "cell_type": "code",
      "source": [
        "# Find stemmed words\n",
        "word = \"tri\\w+\"\n",
        "sorted(dict(zip(*np.unique([itm[0] for itm in data['review'].str.findall(r'{}'.format(word)) if len(itm)>0], return_counts = True))).items(), key= lambda x: x[1], reverse = True)[:5]"
      ],
      "metadata": {
        "colab": {
          "base_uri": "https://localhost:8080/"
        },
        "id": "A7a_00O0v-Gh",
        "outputId": "00dbb92f-0618-455d-f7b5-4fb112d9479a"
      },
      "execution_count": 24,
      "outputs": [
        {
          "output_type": "stream",
          "name": "stderr",
          "text": [
            "<>:2: DeprecationWarning: invalid escape sequence \\w\n",
            "<>:2: DeprecationWarning: invalid escape sequence \\w\n",
            "<ipython-input-24-f8ffdcd9292b>:2: DeprecationWarning: invalid escape sequence \\w\n",
            "  word = \"tri\\w+\"\n"
          ]
        },
        {
          "output_type": "execute_result",
          "data": {
            "text/plain": [
              "[('tried', 3042),\n",
              " ('trin', 789),\n",
              " ('trist', 354),\n",
              " ('trial', 162),\n",
              " ('trings', 154)]"
            ]
          },
          "metadata": {},
          "execution_count": 24
        }
      ]
    }
  ]
}